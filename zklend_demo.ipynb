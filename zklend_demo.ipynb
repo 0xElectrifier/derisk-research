{
 "cells": [
  {
   "attachments": {},
   "cell_type": "markdown",
   "id": "79e6dcb2",
   "metadata": {},
   "source": [
    "# TODO: Zklend"
   ]
  },
  {
   "cell_type": "code",
   "execution_count": 1,
   "id": "e6a89c81",
   "metadata": {},
   "outputs": [],
   "source": [
    "import pickle\n",
    "import pandas\n",
    "\n",
    "from classes import State, Prices\n",
    "import constants\n",
    "import db"
   ]
  },
  {
   "attachments": {},
   "cell_type": "markdown",
   "id": "a0023a62",
   "metadata": {},
   "source": [
    "## Load and prepare events"
   ]
  },
  {
   "cell_type": "code",
   "execution_count": 6,
   "id": "2ad266bc",
   "metadata": {},
   "outputs": [
    {
     "name": "stderr",
     "output_type": "stream",
     "text": [
      "/tmp/ipykernel_231584/1668267694.py:5: UserWarning: pandas only supports SQLAlchemy connectable (engine/connection) or database string URI or sqlite3 DBAPI2 connection. Other DBAPI2 objects are not tested. Please consider using SQLAlchemy.\n",
      "  zklend_events = pandas.read_sql(\n"
     ]
    },
    {
     "ename": "KeyboardInterrupt",
     "evalue": "",
     "output_type": "error",
     "traceback": [
      "\u001b[0;31m---------------------------------------------------------------------------\u001b[0m",
      "\u001b[0;31mKeyboardInterrupt\u001b[0m                         Traceback (most recent call last)",
      "Cell \u001b[0;32mIn[6], line 5\u001b[0m\n\u001b[1;32m      2\u001b[0m connection \u001b[39m=\u001b[39m db\u001b[39m.\u001b[39mestablish_connection()\n\u001b[1;32m      4\u001b[0m \u001b[39m# Load all Zklend events.\u001b[39;00m\n\u001b[0;32m----> 5\u001b[0m zklend_events \u001b[39m=\u001b[39m pandas\u001b[39m.\u001b[39;49mread_sql(\n\u001b[1;32m      6\u001b[0m     sql\u001b[39m=\u001b[39;49m\u001b[39mf\u001b[39;49m\u001b[39m\"\"\"\u001b[39;49m\n\u001b[1;32m      7\u001b[0m \u001b[39m    SELECT\u001b[39;49m\n\u001b[1;32m      8\u001b[0m \u001b[39m        *\u001b[39;49m\n\u001b[1;32m      9\u001b[0m \u001b[39m    FROM\u001b[39;49m\n\u001b[1;32m     10\u001b[0m \u001b[39m        starkscan_events\u001b[39;49m\n\u001b[1;32m     11\u001b[0m \u001b[39m    WHERE\u001b[39;49m\n\u001b[1;32m     12\u001b[0m \u001b[39m        from_address IN (\u001b[39;49m\n\u001b[1;32m     13\u001b[0m \u001b[39m            \u001b[39;49m\u001b[39m'\u001b[39;49m\u001b[39m{\u001b[39;49;00mconstants\u001b[39m.\u001b[39;49mProtocol\u001b[39m.\u001b[39;49mZKLEND\u001b[39m.\u001b[39;49mvalue\u001b[39m}\u001b[39;49;00m\u001b[39m'\u001b[39;49m\u001b[39m,\u001b[39;49m\n\u001b[1;32m     14\u001b[0m \u001b[39m            \u001b[39;49m\u001b[39m'\u001b[39;49m\u001b[39m{\u001b[39;49;00mconstants\u001b[39m.\u001b[39;49mget_address(\u001b[39m\"\u001b[39;49m\u001b[39mzETH\u001b[39;49m\u001b[39m\"\u001b[39;49m)\u001b[39m}\u001b[39;49;00m\u001b[39m'\u001b[39;49m\u001b[39m,\u001b[39;49m\n\u001b[1;32m     15\u001b[0m \u001b[39m            \u001b[39;49m\u001b[39m'\u001b[39;49m\u001b[39m{\u001b[39;49;00mconstants\u001b[39m.\u001b[39;49mget_address(\u001b[39m\"\u001b[39;49m\u001b[39mzWBTC\u001b[39;49m\u001b[39m\"\u001b[39;49m)\u001b[39m}\u001b[39;49;00m\u001b[39m'\u001b[39;49m\u001b[39m,\u001b[39;49m\n\u001b[1;32m     16\u001b[0m \u001b[39m            \u001b[39;49m\u001b[39m'\u001b[39;49m\u001b[39m{\u001b[39;49;00mconstants\u001b[39m.\u001b[39;49mget_address(\u001b[39m\"\u001b[39;49m\u001b[39mzUSDC\u001b[39;49m\u001b[39m\"\u001b[39;49m)\u001b[39m}\u001b[39;49;00m\u001b[39m'\u001b[39;49m\u001b[39m,\u001b[39;49m\n\u001b[1;32m     17\u001b[0m \u001b[39m            \u001b[39;49m\u001b[39m'\u001b[39;49m\u001b[39m{\u001b[39;49;00mconstants\u001b[39m.\u001b[39;49mget_address(\u001b[39m\"\u001b[39;49m\u001b[39mzUSDT\u001b[39;49m\u001b[39m\"\u001b[39;49m)\u001b[39m}\u001b[39;49;00m\u001b[39m'\u001b[39;49m\u001b[39m,\u001b[39;49m\n\u001b[1;32m     18\u001b[0m \u001b[39m            \u001b[39;49m\u001b[39m'\u001b[39;49m\u001b[39m{\u001b[39;49;00mconstants\u001b[39m.\u001b[39;49mget_address(\u001b[39m\"\u001b[39;49m\u001b[39mzDAI\u001b[39;49m\u001b[39m\"\u001b[39;49m)\u001b[39m}\u001b[39;49;00m\u001b[39m'\u001b[39;49m\u001b[39m,\u001b[39;49m\n\u001b[1;32m     19\u001b[0m \u001b[39m            \u001b[39;49m\u001b[39m'\u001b[39;49m\u001b[39m{\u001b[39;49;00mconstants\u001b[39m.\u001b[39;49mget_address(\u001b[39m\"\u001b[39;49m\u001b[39mzETH\u001b[39;49m\u001b[39m\"\u001b[39;49m)\u001b[39m}\u001b[39;49;00m\u001b[39m'\u001b[39;49m\n\u001b[1;32m     20\u001b[0m \u001b[39m        ) \u001b[39;49m\n\u001b[1;32m     21\u001b[0m \u001b[39m    AND\u001b[39;49m\n\u001b[1;32m     22\u001b[0m \u001b[39m        key_name IN (\u001b[39;49m\n\u001b[1;32m     23\u001b[0m \u001b[39m            \u001b[39;49m\u001b[39m'\u001b[39;49m\u001b[39mDeposit\u001b[39;49m\u001b[39m'\u001b[39;49m\u001b[39m,\u001b[39;49m\n\u001b[1;32m     24\u001b[0m \u001b[39m            \u001b[39;49m\u001b[39m'\u001b[39;49m\u001b[39mWithdrawal\u001b[39;49m\u001b[39m'\u001b[39;49m\u001b[39m,\u001b[39;49m\n\u001b[1;32m     25\u001b[0m \u001b[39m            \u001b[39;49m\u001b[39m'\u001b[39;49m\u001b[39mCollateralEnabled\u001b[39;49m\u001b[39m'\u001b[39;49m\u001b[39m,\u001b[39;49m\n\u001b[1;32m     26\u001b[0m \u001b[39m            \u001b[39;49m\u001b[39m'\u001b[39;49m\u001b[39mCollateralDisabled\u001b[39;49m\u001b[39m'\u001b[39;49m\u001b[39m,\u001b[39;49m\n\u001b[1;32m     27\u001b[0m \u001b[39m            \u001b[39;49m\u001b[39m'\u001b[39;49m\u001b[39mBorrowing\u001b[39;49m\u001b[39m'\u001b[39;49m\u001b[39m,\u001b[39;49m\n\u001b[1;32m     28\u001b[0m \u001b[39m            \u001b[39;49m\u001b[39m'\u001b[39;49m\u001b[39mRepayment\u001b[39;49m\u001b[39m'\u001b[39;49m\u001b[39m,\u001b[39;49m\n\u001b[1;32m     29\u001b[0m \u001b[39m            \u001b[39;49m\u001b[39m'\u001b[39;49m\u001b[39mLiquidation\u001b[39;49m\u001b[39m'\u001b[39;49m\u001b[39m,\u001b[39;49m\n\u001b[1;32m     30\u001b[0m \u001b[39m            \u001b[39;49m\u001b[39m'\u001b[39;49m\u001b[39mAccumulatorsSync\u001b[39;49m\u001b[39m'\u001b[39;49m\u001b[39m,\u001b[39;49m\n\u001b[1;32m     31\u001b[0m \u001b[39m            \u001b[39;49m\u001b[39m'\u001b[39;49m\u001b[39mTransfer\u001b[39;49m\u001b[39m'\u001b[39;49m\n\u001b[1;32m     32\u001b[0m \u001b[39m        )\u001b[39;49m\n\u001b[1;32m     33\u001b[0m \u001b[39m    ORDER BY\u001b[39;49m\n\u001b[1;32m     34\u001b[0m \u001b[39m        block_number ASC, id;\u001b[39;49m\n\u001b[1;32m     35\u001b[0m \u001b[39m    \u001b[39;49m\u001b[39m\"\"\"\u001b[39;49m,\n\u001b[1;32m     36\u001b[0m     con\u001b[39m=\u001b[39;49mconnection,\n\u001b[1;32m     37\u001b[0m )\n\u001b[1;32m     39\u001b[0m \u001b[39m# Close the connection.\u001b[39;00m\n\u001b[1;32m     40\u001b[0m connection\u001b[39m.\u001b[39mclose()\n",
      "File \u001b[0;32m~/.local/lib/python3.9/site-packages/pandas/io/sql.py:635\u001b[0m, in \u001b[0;36mread_sql\u001b[0;34m(sql, con, index_col, coerce_float, params, parse_dates, columns, chunksize, dtype_backend, dtype)\u001b[0m\n\u001b[1;32m    633\u001b[0m \u001b[39mwith\u001b[39;00m pandasSQL_builder(con) \u001b[39mas\u001b[39;00m pandas_sql:\n\u001b[1;32m    634\u001b[0m     \u001b[39mif\u001b[39;00m \u001b[39misinstance\u001b[39m(pandas_sql, SQLiteDatabase):\n\u001b[0;32m--> 635\u001b[0m         \u001b[39mreturn\u001b[39;00m pandas_sql\u001b[39m.\u001b[39;49mread_query(\n\u001b[1;32m    636\u001b[0m             sql,\n\u001b[1;32m    637\u001b[0m             index_col\u001b[39m=\u001b[39;49mindex_col,\n\u001b[1;32m    638\u001b[0m             params\u001b[39m=\u001b[39;49mparams,\n\u001b[1;32m    639\u001b[0m             coerce_float\u001b[39m=\u001b[39;49mcoerce_float,\n\u001b[1;32m    640\u001b[0m             parse_dates\u001b[39m=\u001b[39;49mparse_dates,\n\u001b[1;32m    641\u001b[0m             chunksize\u001b[39m=\u001b[39;49mchunksize,\n\u001b[1;32m    642\u001b[0m             dtype_backend\u001b[39m=\u001b[39;49mdtype_backend,  \u001b[39m# type: ignore[arg-type]\u001b[39;49;00m\n\u001b[1;32m    643\u001b[0m             dtype\u001b[39m=\u001b[39;49mdtype,\n\u001b[1;32m    644\u001b[0m         )\n\u001b[1;32m    646\u001b[0m     \u001b[39mtry\u001b[39;00m:\n\u001b[1;32m    647\u001b[0m         _is_table_name \u001b[39m=\u001b[39m pandas_sql\u001b[39m.\u001b[39mhas_table(sql)\n",
      "File \u001b[0;32m~/.local/lib/python3.9/site-packages/pandas/io/sql.py:2266\u001b[0m, in \u001b[0;36mSQLiteDatabase.read_query\u001b[0;34m(self, sql, index_col, coerce_float, parse_dates, params, chunksize, dtype, dtype_backend)\u001b[0m\n\u001b[1;32m   2255\u001b[0m \u001b[39mdef\u001b[39;00m \u001b[39mread_query\u001b[39m(\n\u001b[1;32m   2256\u001b[0m     \u001b[39mself\u001b[39m,\n\u001b[1;32m   2257\u001b[0m     sql,\n\u001b[0;32m   (...)\u001b[0m\n\u001b[1;32m   2264\u001b[0m     dtype_backend: DtypeBackend \u001b[39m|\u001b[39m Literal[\u001b[39m\"\u001b[39m\u001b[39mnumpy\u001b[39m\u001b[39m\"\u001b[39m] \u001b[39m=\u001b[39m \u001b[39m\"\u001b[39m\u001b[39mnumpy\u001b[39m\u001b[39m\"\u001b[39m,\n\u001b[1;32m   2265\u001b[0m ) \u001b[39m-\u001b[39m\u001b[39m>\u001b[39m DataFrame \u001b[39m|\u001b[39m Iterator[DataFrame]:\n\u001b[0;32m-> 2266\u001b[0m     cursor \u001b[39m=\u001b[39m \u001b[39mself\u001b[39;49m\u001b[39m.\u001b[39;49mexecute(sql, params)\n\u001b[1;32m   2267\u001b[0m     columns \u001b[39m=\u001b[39m [col_desc[\u001b[39m0\u001b[39m] \u001b[39mfor\u001b[39;00m col_desc \u001b[39min\u001b[39;00m cursor\u001b[39m.\u001b[39mdescription]\n\u001b[1;32m   2269\u001b[0m     \u001b[39mif\u001b[39;00m chunksize \u001b[39mis\u001b[39;00m \u001b[39mnot\u001b[39;00m \u001b[39mNone\u001b[39;00m:\n",
      "File \u001b[0;32m~/.local/lib/python3.9/site-packages/pandas/io/sql.py:2202\u001b[0m, in \u001b[0;36mSQLiteDatabase.execute\u001b[0;34m(self, sql, params)\u001b[0m\n\u001b[1;32m   2200\u001b[0m cur \u001b[39m=\u001b[39m \u001b[39mself\u001b[39m\u001b[39m.\u001b[39mcon\u001b[39m.\u001b[39mcursor()\n\u001b[1;32m   2201\u001b[0m \u001b[39mtry\u001b[39;00m:\n\u001b[0;32m-> 2202\u001b[0m     cur\u001b[39m.\u001b[39;49mexecute(sql, \u001b[39m*\u001b[39;49margs)\n\u001b[1;32m   2203\u001b[0m     \u001b[39mreturn\u001b[39;00m cur\n\u001b[1;32m   2204\u001b[0m \u001b[39mexcept\u001b[39;00m \u001b[39mException\u001b[39;00m \u001b[39mas\u001b[39;00m exc:\n",
      "File \u001b[0;32m/usr/lib/python3.9/encodings/utf_8.py:15\u001b[0m, in \u001b[0;36mdecode\u001b[0;34m(input, errors)\u001b[0m\n\u001b[1;32m     11\u001b[0m \u001b[39m### Codec APIs\u001b[39;00m\n\u001b[1;32m     13\u001b[0m encode \u001b[39m=\u001b[39m codecs\u001b[39m.\u001b[39mutf_8_encode\n\u001b[0;32m---> 15\u001b[0m \u001b[39mdef\u001b[39;00m \u001b[39mdecode\u001b[39m(\u001b[39minput\u001b[39m, errors\u001b[39m=\u001b[39m\u001b[39m'\u001b[39m\u001b[39mstrict\u001b[39m\u001b[39m'\u001b[39m):\n\u001b[1;32m     16\u001b[0m     \u001b[39mreturn\u001b[39;00m codecs\u001b[39m.\u001b[39mutf_8_decode(\u001b[39minput\u001b[39m, errors, \u001b[39mTrue\u001b[39;00m)\n\u001b[1;32m     18\u001b[0m \u001b[39mclass\u001b[39;00m \u001b[39mIncrementalEncoder\u001b[39;00m(codecs\u001b[39m.\u001b[39mIncrementalEncoder):\n",
      "\u001b[0;31mKeyboardInterrupt\u001b[0m: "
     ]
    }
   ],
   "source": [
    "# Establish the connection.\n",
    "connection = db.establish_connection()\n",
    "\n",
    "# Load all Zklend events.\n",
    "zklend_events = pandas.read_sql(\n",
    "    sql=f\"\"\"\n",
    "    SELECT\n",
    "        *\n",
    "    FROM\n",
    "        starkscan_events\n",
    "    WHERE\n",
    "        from_address IN (\n",
    "            '{constants.Protocol.ZKLEND.value}',\n",
    "            '{constants.get_address(\"zETH\")}',\n",
    "            '{constants.get_address(\"zWBTC\")}',\n",
    "            '{constants.get_address(\"zUSDC\")}',\n",
    "            '{constants.get_address(\"zUSDT\")}',\n",
    "            '{constants.get_address(\"zDAI\")}',\n",
    "            '{constants.get_address(\"zETH\")}'\n",
    "        ) \n",
    "    AND\n",
    "        key_name IN (\n",
    "            'Deposit',\n",
    "            'Withdrawal',\n",
    "            'CollateralEnabled',\n",
    "            'CollateralDisabled',\n",
    "            'Borrowing',\n",
    "            'Repayment',\n",
    "            'Liquidation',\n",
    "            'AccumulatorsSync',\n",
    "            'Transfer'\n",
    "        )\n",
    "    ORDER BY\n",
    "        block_number ASC, id;\n",
    "    \"\"\",\n",
    "    con=connection,\n",
    ")\n",
    "\n",
    "# Close the connection.\n",
    "connection.close()"
   ]
  },
  {
   "cell_type": "code",
   "execution_count": 3,
   "id": "d8cc1563",
   "metadata": {},
   "outputs": [],
   "source": [
    "zklend_events.set_index('id', inplace = True)"
   ]
  },
  {
   "attachments": {},
   "cell_type": "markdown",
   "id": "050eb37d",
   "metadata": {},
   "source": [
    "# Process events"
   ]
  },
  {
   "attachments": {},
   "cell_type": "markdown",
   "id": "95c2eeef",
   "metadata": {},
   "source": [
    "Events examples:\n",
    "- [Deposit](https://starkscan.co/event/0x036185142bb51e2c1f5bfdb1e6cef81f8ea87fd4d777990014249bf5435fd31b_3)\n",
    "- [AccumulatorsSync](https://starkscan.co/event/0x029628b89875a98c1c64ae206e7eb65669cb478a24449f3485f5e98aba6204dc_0)\n",
    "- [CollateralEnabled](https://starkscan.co/event/0x036185142bb51e2c1f5bfdb1e6cef81f8ea87fd4d777990014249bf5435fd31b_6)\n",
    "- [CollateralDisabled](https://starkscan.co/event/0x0049b445bed84e0118795dbd22d76610ccac2ad626f8f04a1fc7e38113c2afe7_0)\n",
    "- [Withdrawal](https://starkscan.co/event/0x03472cf7511687a55bc7247f8765c4bbd2c18b70e09b2a10a77c61f567bfd2cb_4)\n",
    "- [Borrowing](https://starkscan.co/event/0x076b1615750528635cf0b63ca80986b185acbd20fa37f0f2b5368a4f743931f8_3)\n",
    "- [Repayment](https://starkscan.co/event/0x06fa3dd6e12c9a66aeacd2eefa5a2ff2915dd1bb4207596de29bd0e8cdeeae66_5)\n",
    "- [Liquidation](https://starkscan.co/event/0x07b8ec709df1066d9334d56b426c45440ca1f1bb841285a5d7b33f9d1008f256_5)"
   ]
  },
  {
   "cell_type": "code",
   "execution_count": 4,
   "id": "d39cc54c",
   "metadata": {},
   "outputs": [],
   "source": [
    "# Iterate over ordered events to obtain the final state of each user.\n",
    "state = State()\n",
    "for _, event in zklend_events.iterrows():\n",
    "    state.process_event(event = event)"
   ]
  },
  {
   "cell_type": "code",
   "execution_count": 2,
   "id": "b0f169b1",
   "metadata": {},
   "outputs": [],
   "source": [
    "# Initialize prices\n",
    "prices = Prices()"
   ]
  },
  {
   "attachments": {},
   "cell_type": "markdown",
   "id": "2aa4c259",
   "metadata": {},
   "source": [
    "# TODO: Debugging negative deposits below"
   ]
  },
  {
   "cell_type": "code",
   "execution_count": 4,
   "id": "c914fc0f",
   "metadata": {
    "scrolled": false
   },
   "outputs": [
    {
     "name": "stdout",
     "output_type": "stream",
     "text": [
      "Action   Token   Raw value   Raw $   Readable $\n",
      "deposit ETH -574696913.78003945354 $-0.000001125992169230955684851337254 $0\n",
      "deposit wBTC 0 $0 $0\n",
      "deposit USDC -15.6281255282999945034185 $-0.0000156281255282999945034185 $-0.00002\n",
      "deposit DAI 0 $0E-52 $0\n",
      "deposit USDT -4997676.927172805096183238170 $-4.997487015449572617087776421 $-4.99749\n",
      "deposit zETH -233807290537345 $-0.4580939482040093052206052406 $-0.45809\n"
     ]
    },
    {
     "ename": "KeyError",
     "evalue": "'zwBTC'",
     "output_type": "error",
     "traceback": [
      "\u001b[0;31m---------------------------------------------------------------------------\u001b[0m",
      "\u001b[0;31mKeyError\u001b[0m                                  Traceback (most recent call last)",
      "Cell \u001b[0;32mIn[4], line 5\u001b[0m\n\u001b[1;32m      3\u001b[0m \u001b[39mfor\u001b[39;00m attr \u001b[39min\u001b[39;00m [\u001b[39m'\u001b[39m\u001b[39mdeposit\u001b[39m\u001b[39m'\u001b[39m, \u001b[39m'\u001b[39m\u001b[39mborrowings\u001b[39m\u001b[39m'\u001b[39m]:\n\u001b[1;32m      4\u001b[0m     \u001b[39mfor\u001b[39;00m token \u001b[39min\u001b[39;00m [\u001b[39m'\u001b[39m\u001b[39mETH\u001b[39m\u001b[39m'\u001b[39m, \u001b[39m'\u001b[39m\u001b[39mwBTC\u001b[39m\u001b[39m'\u001b[39m, \u001b[39m'\u001b[39m\u001b[39mUSDC\u001b[39m\u001b[39m'\u001b[39m, \u001b[39m'\u001b[39m\u001b[39mDAI\u001b[39m\u001b[39m'\u001b[39m, \u001b[39m'\u001b[39m\u001b[39mUSDT\u001b[39m\u001b[39m'\u001b[39m, \u001b[39m'\u001b[39m\u001b[39mzETH\u001b[39m\u001b[39m'\u001b[39m, \u001b[39m'\u001b[39m\u001b[39mzwBTC\u001b[39m\u001b[39m'\u001b[39m, \u001b[39m'\u001b[39m\u001b[39mzUSDC\u001b[39m\u001b[39m'\u001b[39m, \u001b[39m'\u001b[39m\u001b[39mzDAI\u001b[39m\u001b[39m'\u001b[39m, \u001b[39m'\u001b[39m\u001b[39mzUSDT\u001b[39m\u001b[39m'\u001b[39m]:\n\u001b[0;32m----> 5\u001b[0m         values \u001b[39m=\u001b[39m [\u001b[39mgetattr\u001b[39m(user_state\u001b[39m.\u001b[39mtoken_states[token], attr) \u001b[39mfor\u001b[39;00m user, user_state \u001b[39min\u001b[39;00m state\u001b[39m.\u001b[39muser_states\u001b[39m.\u001b[39mitems()]\n\u001b[1;32m      6\u001b[0m         \u001b[39mprint\u001b[39m(attr, token, pandas\u001b[39m.\u001b[39mSeries(values)\u001b[39m.\u001b[39mmin(), \u001b[39mf\u001b[39m\u001b[39m\"\u001b[39m\u001b[39m$\u001b[39m\u001b[39m{\u001b[39;00mprices\u001b[39m.\u001b[39mto_dollars(pandas\u001b[39m.\u001b[39mSeries(values)\u001b[39m.\u001b[39mmin(),\u001b[39m \u001b[39mtoken)\u001b[39m}\u001b[39;00m\u001b[39m\"\u001b[39m, prices\u001b[39m.\u001b[39mto_dollars_pretty(pandas\u001b[39m.\u001b[39mSeries(values)\u001b[39m.\u001b[39mmin(), token))\n",
      "Cell \u001b[0;32mIn[4], line 5\u001b[0m, in \u001b[0;36m<listcomp>\u001b[0;34m(.0)\u001b[0m\n\u001b[1;32m      3\u001b[0m \u001b[39mfor\u001b[39;00m attr \u001b[39min\u001b[39;00m [\u001b[39m'\u001b[39m\u001b[39mdeposit\u001b[39m\u001b[39m'\u001b[39m, \u001b[39m'\u001b[39m\u001b[39mborrowings\u001b[39m\u001b[39m'\u001b[39m]:\n\u001b[1;32m      4\u001b[0m     \u001b[39mfor\u001b[39;00m token \u001b[39min\u001b[39;00m [\u001b[39m'\u001b[39m\u001b[39mETH\u001b[39m\u001b[39m'\u001b[39m, \u001b[39m'\u001b[39m\u001b[39mwBTC\u001b[39m\u001b[39m'\u001b[39m, \u001b[39m'\u001b[39m\u001b[39mUSDC\u001b[39m\u001b[39m'\u001b[39m, \u001b[39m'\u001b[39m\u001b[39mDAI\u001b[39m\u001b[39m'\u001b[39m, \u001b[39m'\u001b[39m\u001b[39mUSDT\u001b[39m\u001b[39m'\u001b[39m, \u001b[39m'\u001b[39m\u001b[39mzETH\u001b[39m\u001b[39m'\u001b[39m, \u001b[39m'\u001b[39m\u001b[39mzwBTC\u001b[39m\u001b[39m'\u001b[39m, \u001b[39m'\u001b[39m\u001b[39mzUSDC\u001b[39m\u001b[39m'\u001b[39m, \u001b[39m'\u001b[39m\u001b[39mzDAI\u001b[39m\u001b[39m'\u001b[39m, \u001b[39m'\u001b[39m\u001b[39mzUSDT\u001b[39m\u001b[39m'\u001b[39m]:\n\u001b[0;32m----> 5\u001b[0m         values \u001b[39m=\u001b[39m [\u001b[39mgetattr\u001b[39m(user_state\u001b[39m.\u001b[39;49mtoken_states[token], attr) \u001b[39mfor\u001b[39;00m user, user_state \u001b[39min\u001b[39;00m state\u001b[39m.\u001b[39muser_states\u001b[39m.\u001b[39mitems()]\n\u001b[1;32m      6\u001b[0m         \u001b[39mprint\u001b[39m(attr, token, pandas\u001b[39m.\u001b[39mSeries(values)\u001b[39m.\u001b[39mmin(), \u001b[39mf\u001b[39m\u001b[39m\"\u001b[39m\u001b[39m$\u001b[39m\u001b[39m{\u001b[39;00mprices\u001b[39m.\u001b[39mto_dollars(pandas\u001b[39m.\u001b[39mSeries(values)\u001b[39m.\u001b[39mmin(),\u001b[39m \u001b[39mtoken)\u001b[39m}\u001b[39;00m\u001b[39m\"\u001b[39m, prices\u001b[39m.\u001b[39mto_dollars_pretty(pandas\u001b[39m.\u001b[39mSeries(values)\u001b[39m.\u001b[39mmin(), token))\n",
      "\u001b[0;31mKeyError\u001b[0m: 'zwBTC'"
     ]
    }
   ],
   "source": [
    "# TODO: negative deposits?\n",
    "print(\"Action   Token   Raw value   Raw $   Readable $\")\n",
    "for attr in ['deposit', 'borrowings']:\n",
    "    for token in ['ETH', 'wBTC', 'USDC', 'DAI', 'USDT', 'zETH', 'zWBTC', 'zUSDC', 'zDAI', 'zUSDT']:\n",
    "        values = [getattr(user_state.token_states[token], attr) for user, user_state in state.user_states.items()]\n",
    "        print(attr, token, pandas.Series(values).min(), f\"${prices.to_dollars(pandas.Series(values).min(), token)}\", prices.to_dollars_pretty(pandas.Series(values).min(), token))"
   ]
  },
  {
   "cell_type": "code",
   "execution_count": 13,
   "id": "c5d29ea2",
   "metadata": {},
   "outputs": [
    {
     "data": {
      "text/plain": [
       "[('0x4a587e33647247ed71d178b25155a27463765f7c113f05904126692d348cab1',\n",
       "  Decimal('-4997676.927172805096183238170'))]"
      ]
     },
     "execution_count": 13,
     "metadata": {},
     "output_type": "execute_result"
    }
   ],
   "source": [
    "# TODO: show negative deposits\n",
    "[\n",
    "    (user, user_state.token_states['USDT'].deposit)\n",
    "    for user, user_state\n",
    "    in state.user_states.items()\n",
    "    if user_state.token_states['USDT'].deposit < 0\n",
    "]"
   ]
  },
  {
   "attachments": {},
   "cell_type": "markdown",
   "id": "4a65030c",
   "metadata": {},
   "source": [
    "## Store state into a file"
   ]
  },
  {
   "cell_type": "code",
   "execution_count": 8,
   "id": "923e38b1",
   "metadata": {},
   "outputs": [],
   "source": [
    "filehandler = open(\"state.pckl\", 'wb')\n",
    "pickle.dump(state, filehandler)"
   ]
  },
  {
   "attachments": {},
   "cell_type": "markdown",
   "id": "3d49f1d0",
   "metadata": {},
   "source": [
    "## Load state from the file"
   ]
  },
  {
   "cell_type": "code",
   "execution_count": 3,
   "id": "90d60df3",
   "metadata": {},
   "outputs": [],
   "source": [
    "filehandler = open(\"state.pckl\", 'rb')\n",
    "state = pickle.load(filehandler)"
   ]
  },
  {
   "cell_type": "code",
   "execution_count": null,
   "id": "76e268dc",
   "metadata": {},
   "outputs": [],
   "source": []
  },
  {
   "cell_type": "code",
   "execution_count": null,
   "id": "f7e6cd40",
   "metadata": {},
   "outputs": [],
   "source": []
  },
  {
   "cell_type": "code",
   "execution_count": null,
   "id": "6875467b",
   "metadata": {},
   "outputs": [],
   "source": []
  },
  {
   "cell_type": "code",
   "execution_count": 14,
   "id": "ea52f620",
   "metadata": {},
   "outputs": [],
   "source": [
    "# TODO: Get token prices here: https://www.coingecko.com/en/api/documentation"
   ]
  },
  {
   "cell_type": "code",
   "execution_count": null,
   "id": "676995ce",
   "metadata": {},
   "outputs": [],
   "source": []
  }
 ],
 "metadata": {
  "kernelspec": {
   "display_name": "Python 3 (ipykernel)",
   "language": "python",
   "name": "python3"
  },
  "language_info": {
   "codemirror_mode": {
    "name": "ipython",
    "version": 3
   },
   "file_extension": ".py",
   "mimetype": "text/x-python",
   "name": "python",
   "nbconvert_exporter": "python",
   "pygments_lexer": "ipython3",
   "version": "3.9.2"
  }
 },
 "nbformat": 4,
 "nbformat_minor": 5
}
