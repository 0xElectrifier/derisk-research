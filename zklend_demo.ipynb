{
 "cells": [
  {
   "cell_type": "markdown",
   "id": "79e6dcb2",
   "metadata": {},
   "source": [
    "# TODO: Zklend"
   ]
  },
  {
   "cell_type": "code",
   "execution_count": 6,
   "id": "e6a89c81",
   "metadata": {},
   "outputs": [],
   "source": [
    "from typing import Dict\n",
    "\n",
    "import IPython.display\n",
    "import pandas\n",
    "\n",
    "from classes import State\n",
    "import constants\n",
    "import db"
   ]
  },
  {
   "cell_type": "markdown",
   "id": "a0023a62",
   "metadata": {},
   "source": [
    "## Load and prepare events"
   ]
  },
  {
   "cell_type": "code",
   "execution_count": 7,
   "id": "2ad266bc",
   "metadata": {},
   "outputs": [
    {
     "name": "stderr",
     "output_type": "stream",
     "text": [
      "/tmp/ipykernel_111994/2710962983.py:5: UserWarning: pandas only supports SQLAlchemy connectable (engine/connection) or database string URI or sqlite3 DBAPI2 connection. Other DBAPI2 objects are not tested. Please consider using SQLAlchemy.\n",
      "  zklend_events = pandas.read_sql(\n"
     ]
    }
   ],
   "source": [
    "# Establish the connection.\n",
    "connection = db.establish_connection()\n",
    "\n",
    "# Load all Zklend events.\n",
    "zklend_events = pandas.read_sql(\n",
    "    sql = \n",
    "    f\"\"\"\n",
    "    SELECT\n",
    "        *\n",
    "    FROM\n",
    "        starkscan_events\n",
    "    WHERE\n",
    "        from_address='{constants.Protocol.ZKLEND.value}'\n",
    "    AND\n",
    "        key_name IN ('Deposit', 'Withdrawal', 'CollateralEnabled', 'CollateralDisabled', 'Borrowing', 'Repayment', 'Liquidation', 'AccumulatorsSync')\n",
    "    ORDER BY\n",
    "        block_number ASC, id;\n",
    "    \"\"\",\n",
    "    con = connection,\n",
    ")\n",
    "\n",
    "# Close the connection.\n",
    "connection.close()"
   ]
  },
  {
   "cell_type": "code",
   "execution_count": 8,
   "id": "d8cc1563",
   "metadata": {},
   "outputs": [],
   "source": [
    "zklend_events.set_index('id', inplace = True)"
   ]
  },
  {
   "cell_type": "markdown",
   "id": "050eb37d",
   "metadata": {},
   "source": [
    "# Process events"
   ]
  },
  {
   "cell_type": "markdown",
   "id": "95c2eeef",
   "metadata": {},
   "source": [
    "Events examples:\n",
    "- [Deposit](https://starkscan.co/event/0x036185142bb51e2c1f5bfdb1e6cef81f8ea87fd4d777990014249bf5435fd31b_3)\n",
    "- [AccumulatorsSync](https://starkscan.co/event/0x029628b89875a98c1c64ae206e7eb65669cb478a24449f3485f5e98aba6204dc_0)\n",
    "- [CollateralEnabled](https://starkscan.co/event/0x036185142bb51e2c1f5bfdb1e6cef81f8ea87fd4d777990014249bf5435fd31b_6)\n",
    "- [CollateralDisabled](https://starkscan.co/event/0x0049b445bed84e0118795dbd22d76610ccac2ad626f8f04a1fc7e38113c2afe7_0)\n",
    "- [Withdrawal](https://starkscan.co/event/0x03472cf7511687a55bc7247f8765c4bbd2c18b70e09b2a10a77c61f567bfd2cb_4)\n",
    "- [Borrowing](https://starkscan.co/event/0x076b1615750528635cf0b63ca80986b185acbd20fa37f0f2b5368a4f743931f8_3)\n",
    "- [Repayment](https://starkscan.co/event/0x06fa3dd6e12c9a66aeacd2eefa5a2ff2915dd1bb4207596de29bd0e8cdeeae66_5)\n",
    "- [Liquidation](https://starkscan.co/event/0x07b8ec709df1066d9334d56b426c45440ca1f1bb841285a5d7b33f9d1008f256_5)"
   ]
  },
  {
   "cell_type": "code",
   "execution_count": 9,
   "id": "d39cc54c",
   "metadata": {},
   "outputs": [],
   "source": [
    "# Iterate over ordered events to obtain the final state of each user.\n",
    "state = State()\n",
    "for _, event in zklend_events.iterrows():\n",
    "    state.process_event(event = event)"
   ]
  },
  {
   "cell_type": "markdown",
   "id": "2aa4c259",
   "metadata": {},
   "source": [
    "# TODO: Debugging negative deposits below"
   ]
  },
  {
   "cell_type": "code",
   "execution_count": 10,
   "id": "c914fc0f",
   "metadata": {
    "scrolled": false
   },
   "outputs": [
    {
     "name": "stdout",
     "output_type": "stream",
     "text": [
      "deposit ETH -300437786.967166206714\n",
      "deposit wBTC 0\n",
      "deposit USDC -1.39246404407114132779\n",
      "deposit DAI 0\n",
      "deposit USDT -4997676.927172805096183238170\n",
      "borrowings ETH 0\n",
      "borrowings wBTC 0\n",
      "borrowings USDC 0\n",
      "borrowings DAI 0\n",
      "borrowings USDT 0\n"
     ]
    }
   ],
   "source": [
    "# TODO: negative deposits?\n",
    "for attr in ['deposit', 'borrowings']:\n",
    "    for token in ['ETH', 'wBTC', 'USDC', 'DAI', 'USDT']:\n",
    "        values = [getattr(user_state.token_states[token], attr) for user, user_state in state.user_states.items()]\n",
    "        print(attr, token, pandas.Series(values).min())"
   ]
  },
  {
   "cell_type": "code",
   "execution_count": 11,
   "id": "c5d29ea2",
   "metadata": {},
   "outputs": [
    {
     "data": {
      "text/plain": [
       "[('0x4a587e33647247ed71d178b25155a27463765f7c113f05904126692d348cab1',\n",
       "  Decimal('-4997676.927172805096183238170'))]"
      ]
     },
     "execution_count": 11,
     "metadata": {},
     "output_type": "execute_result"
    }
   ],
   "source": [
    "# TODO: show negative deposits\n",
    "[\n",
    "    (user, user_state.token_states['USDT'].deposit)\n",
    "    for user, user_state\n",
    "    in state.user_states.items()\n",
    "    if user_state.token_states['USDT'].deposit < 0\n",
    "]"
   ]
  },
  {
   "cell_type": "code",
   "execution_count": null,
   "id": "923e38b1",
   "metadata": {},
   "outputs": [],
   "source": []
  },
  {
   "cell_type": "code",
   "execution_count": null,
   "id": "90d60df3",
   "metadata": {},
   "outputs": [],
   "source": []
  },
  {
   "cell_type": "code",
   "execution_count": null,
   "id": "76e268dc",
   "metadata": {},
   "outputs": [],
   "source": []
  },
  {
   "cell_type": "code",
   "execution_count": null,
   "id": "f7e6cd40",
   "metadata": {},
   "outputs": [],
   "source": []
  },
  {
   "cell_type": "code",
   "execution_count": null,
   "id": "6875467b",
   "metadata": {},
   "outputs": [],
   "source": []
  },
  {
   "cell_type": "code",
   "execution_count": null,
   "id": "ea52f620",
   "metadata": {},
   "outputs": [],
   "source": [
    "# TODO: Get token prices here: https://www.coingecko.com/en/api/documentation"
   ]
  },
  {
   "cell_type": "code",
   "execution_count": null,
   "id": "676995ce",
   "metadata": {},
   "outputs": [],
   "source": []
  }
 ],
 "metadata": {
  "kernelspec": {
   "display_name": "Python 3 (ipykernel)",
   "language": "python",
   "name": "python3"
  },
  "language_info": {
   "codemirror_mode": {
    "name": "ipython",
    "version": 3
   },
   "file_extension": ".py",
   "mimetype": "text/x-python",
   "name": "python",
   "nbconvert_exporter": "python",
   "pygments_lexer": "ipython3",
   "version": "3.9.2"
  }
 },
 "nbformat": 4,
 "nbformat_minor": 5
}
