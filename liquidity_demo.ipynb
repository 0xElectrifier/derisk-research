{
 "cells": [
  {
   "attachments": {},
   "cell_type": "markdown",
   "metadata": {},
   "source": [
    "# Swap AMM Liquidity showcase"
   ]
  },
  {
   "cell_type": "code",
   "execution_count": 2,
   "metadata": {},
   "outputs": [
    {
     "name": "stdout",
     "output_type": "stream",
     "text": [
      "JediSwap ETH 1270.0162447991993\n",
      "JediSwap USDC 2430803.275544\n",
      "JediSwap DAI 189755.95478596003\n",
      "JediSwap ETH 99.49830150984735\n",
      "JediSwap ETH 276.6420510246985\n",
      "JediSwap USDT 530338.66525\n",
      "JediSwap wBTC 3.75643107\n",
      "JediSwap ETH 59.49377700984035\n",
      "JediSwap wBTC 0.07519377\n",
      "JediSwap USDC 2412.553994\n",
      "JediSwap wBTC 0.02392593\n",
      "JediSwap USDT 727.737739\n",
      "JediSwap DAI 905.1125900280823\n",
      "JediSwap wBTC 0.02938125\n",
      "JediSwap DAI 97406.15606527051\n",
      "JediSwap USDC 96889.274558\n",
      "JediSwap DAI 35868.43273288631\n",
      "JediSwap USDT 35434.100125\n",
      "JediSwap USDC 626717.53702\n",
      "JediSwap USDT 626015.017429\n",
      "\n",
      "##########\n",
      "\n",
      "ETH 1705.6503743435856\n",
      "wBTC 3.88493202\n",
      "USDC 3156822.641116\n",
      "DAI 323935.65617414494\n",
      "USDT 1192515.520543\n"
     ]
    }
   ],
   "source": [
    "from blockchain_call import balance_of\n",
    "from swap_liquidity import SwapAmm\n",
    "\n",
    "jediswap = SwapAmm(\"JediSwap\")\n",
    "\n",
    "# order of tokens does not matter - it will be sorted alphabetically\n",
    "jediswap.add_pool(\n",
    "    \"ETH\", \"USDC\", \"0x04d0390b777b424e43839cd1e744799f3de6c176c7e32c1812a41dbd9c19db6a\")\n",
    "jediswap.add_pool(\n",
    "    \"DAI\", \"ETH\", \"0x07e2a13b40fc1119ec55e0bcf9428eedaa581ab3c924561ad4e955f95da63138\")\n",
    "jediswap.add_pool(\n",
    "    \"ETH\", \"USDT\", \"0x045e7131d776dddc137e30bdd490b431c7144677e97bf9369f629ed8d3fb7dd6\")\n",
    "jediswap.add_pool(\n",
    "    \"wBTC\", \"ETH\", \"0x0260e98362e0949fefff8b4de85367c035e44f734c9f8069b6ce2075ae86b45c\")\n",
    "jediswap.add_pool(\n",
    "    \"wBTC\", \"USDC\", \"0x005a8054e5ca0b277b295a830e53bd71a6a6943b42d0dbb22329437522bc80c8\")\n",
    "jediswap.add_pool(\n",
    "    \"wBTC\", \"USDT\", \"0x044d13ad98a46fd2322ef2637e5e4c292ce8822f47b7cb9a1d581176a801c1a0\")\n",
    "jediswap.add_pool(\n",
    "    \"DAI\", \"wBTC\", \"0x039c183c8e5a2df130eefa6fbaa3b8aad89b29891f6272cb0c90deaa93ec6315\")\n",
    "jediswap.add_pool(\n",
    "    \"DAI\", \"USDC\", \"0x00cfd39f5244f7b617418c018204a8a9f9a7f72e71f0ef38f968eeb2a9ca302b\")\n",
    "jediswap.add_pool(\n",
    "    \"DAI\", \"USDT\", \"0x00f0f5b3eed258344152e1f17baf84a2e1b621cd754b625bec169e8595aea767\")\n",
    "jediswap.add_pool(\n",
    "    \"USDC\", \"USDT\", \"0x05801bdad32f343035fb242e98d1e9371ae85bc1543962fedea16c59b35bd19b\")\n",
    "\n",
    "tokens = [\"ETH\", \"wBTC\", \"USDC\", \"DAI\", \"USDT\"]\n",
    "\n",
    "\n",
    "for pool in jediswap.pools.values():\n",
    "    for token in pool.tokens:\n",
    "        token_address, decimals, symbol = token.address, token.decimals, token.symbol\n",
    "        balance = await balance_of(token_address, pool.address)\n",
    "        print(\"JediSwap\", symbol, balance / 10**decimals)\n",
    "\n",
    "print(\"\\n##########\\n\")\n",
    "\n",
    "for symbol in tokens:\n",
    "    (token, balance) = await jediswap.total_balance(symbol)\n",
    "    if token and balance:\n",
    "        print(token.symbol, balance / 10**token.decimals)\n"
   ]
  }
 ],
 "metadata": {
  "kernelspec": {
   "display_name": "Python 3",
   "language": "python",
   "name": "python3"
  },
  "language_info": {
   "codemirror_mode": {
    "name": "ipython",
    "version": 3
   },
   "file_extension": ".py",
   "mimetype": "text/x-python",
   "name": "python",
   "nbconvert_exporter": "python",
   "pygments_lexer": "ipython3",
   "version": "3.9.2"
  },
  "orig_nbformat": 4
 },
 "nbformat": 4,
 "nbformat_minor": 2
}
