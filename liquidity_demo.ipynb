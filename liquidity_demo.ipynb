{
 "cells": [
  {
   "attachments": {},
   "cell_type": "markdown",
   "metadata": {},
   "source": [
    "# Swap AMM Liquidity showcase"
   ]
  },
  {
   "cell_type": "code",
   "execution_count": 1,
   "metadata": {},
   "outputs": [],
   "source": [
    "from swap_liquidity import SwapAmm\n",
    "\n",
    "jediswap = SwapAmm(\"JediSwap\")\n",
    "\n",
    "# order of tokens does not matter - it will be sorted alphabetically\n",
    "jediswap.add_pool(\n",
    "    \"ETH\", \"USDC\", \"0x04d0390b777b424e43839cd1e744799f3de6c176c7e32c1812a41dbd9c19db6a\")\n",
    "jediswap.add_pool(\n",
    "    \"DAI\", \"ETH\", \"0x07e2a13b40fc1119ec55e0bcf9428eedaa581ab3c924561ad4e955f95da63138\")\n",
    "jediswap.add_pool(\n",
    "    \"ETH\", \"USDT\", \"0x045e7131d776dddc137e30bdd490b431c7144677e97bf9369f629ed8d3fb7dd6\")\n",
    "jediswap.add_pool(\n",
    "    \"wBTC\", \"ETH\", \"0x0260e98362e0949fefff8b4de85367c035e44f734c9f8069b6ce2075ae86b45c\")\n",
    "jediswap.add_pool(\n",
    "    \"wBTC\", \"USDC\", \"0x005a8054e5ca0b277b295a830e53bd71a6a6943b42d0dbb22329437522bc80c8\")\n",
    "jediswap.add_pool(\n",
    "    \"wBTC\", \"USDT\", \"0x044d13ad98a46fd2322ef2637e5e4c292ce8822f47b7cb9a1d581176a801c1a0\")\n",
    "jediswap.add_pool(\n",
    "    \"DAI\", \"wBTC\", \"0x039c183c8e5a2df130eefa6fbaa3b8aad89b29891f6272cb0c90deaa93ec6315\")\n",
    "jediswap.add_pool(\n",
    "    \"DAI\", \"USDC\", \"0x00cfd39f5244f7b617418c018204a8a9f9a7f72e71f0ef38f968eeb2a9ca302b\")\n",
    "jediswap.add_pool(\n",
    "    \"DAI\", \"USDT\", \"0x00f0f5b3eed258344152e1f17baf84a2e1b621cd754b625bec169e8595aea767\")\n",
    "jediswap.add_pool(\n",
    "    \"USDC\", \"USDT\", \"0x05801bdad32f343035fb242e98d1e9371ae85bc1543962fedea16c59b35bd19b\")\n",
    "\n",
    "await jediswap.get_balance()\n"
   ]
  },
  {
   "cell_type": "code",
   "execution_count": null,
   "metadata": {},
   "outputs": [],
   "source": [
    "# describe swap amm state\n",
    "for pool in jediswap.pools.values():\n",
    "    for token in pool.tokens:\n",
    "        attributes = vars(token)\n",
    "        for attr, value in attributes.items():\n",
    "            print(f\"{attr}: {value}\")"
   ]
  },
  {
   "cell_type": "code",
   "execution_count": 2,
   "metadata": {},
   "outputs": [
    {
     "name": "stdout",
     "output_type": "stream",
     "text": [
      "bought 20 ETH for 38378.180067 USDC\n",
      "bought 20 ETH for 39658.20992 USDC\n",
      "bought 20 ETH for 41003.365215 USDC\n",
      "bought 20 ETH for 42418.140109 USDC\n",
      "bought 20 ETH for 43907.423235 USDC\n",
      "bought 20 ETH for 45476.539982 USDC\n",
      "bought 20 ETH for 47131.300183 USDC\n",
      "bought 20 ETH for 48878.051969 USDC\n",
      "bought 20 ETH for 50723.742753 USDC\n",
      "bought 20 ETH for 52675.988425 USDC\n"
     ]
    }
   ],
   "source": [
    "# repeatedly buy amount of ETH and check that the price changes\n",
    "converted_amount = 20\n",
    "base_amount = converted_amount * 10**18\n",
    "for _ in range(10):\n",
    "    usdc_price = jediswap.get_pool(\"ETH\", \"USDC\").buy_tokens(\"ETH\", base_amount)\n",
    "    print(\"bought\", converted_amount, \"ETH for\", usdc_price / 10**6, \"USDC\")"
   ]
  }
 ],
 "metadata": {
  "kernelspec": {
   "display_name": "Python 3",
   "language": "python",
   "name": "python3"
  },
  "language_info": {
   "codemirror_mode": {
    "name": "ipython",
    "version": 3
   },
   "file_extension": ".py",
   "mimetype": "text/x-python",
   "name": "python",
   "nbconvert_exporter": "python",
   "pygments_lexer": "ipython3",
   "version": "3.9.2"
  },
  "orig_nbformat": 4
 },
 "nbformat": 4,
 "nbformat_minor": 2
}
