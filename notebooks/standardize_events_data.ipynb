{
 "cells": [
  {
   "cell_type": "markdown",
   "id": "ef77e1da-91ab-4aa9-b2eb-ad6db9377548",
   "metadata": {},
   "source": [
    "# Standardizing Event Data for DeRisk\r\n",
    "\r\n",
    "DeRisk currently works with event data in a raw format where relevant data (like the user, token, amount, etc.) is saved in a dictionary or list-like structure in one of the columns. To better extract information from the database, it is helpful to have a unified data structure where all relevant pieces of information are saved in separate columns. This allows for easy querying of all events of a given type (deposit, withdrawal, liquidation) for a given user, lending protocol, etc.\r\n",
    "\r\n",
    "The following steps outline the process to take a sample of events and convert them to a standardized format that can be used to store information about any type of event and any lending ocolsv')\r\n"
   ]
  },
  {
   "cell_type": "markdown",
   "id": "f8f758bf-ec63-4d84-a658-d0461cc6e086",
   "metadata": {},
   "source": [
    "1.  Load event data from Paraquet file"
   ]
  },
  {
   "cell_type": "code",
   "execution_count": null,
   "id": "f8f05b8e-213b-47ef-9189-486d2e702267",
   "metadata": {},
   "outputs": [],
   "source": [
    "import pandas as pd\n",
    "# Define the GCS path to the Parquet file\n",
    "gcs_path = 'https://storage.googleapis.com/derisk-persistent-state/zklend_data/events_sample.parquet'\n",
    "\n",
    "# Read the Parquet file into a Pandas DataFrame\n",
    "df = pd.read_parquet(gcs_path, engine='pyarrow')"
   ]
  },
  {
   "cell_type": "code",
   "execution_count": null,
   "id": "e9d58f1f-916d-4d2c-ba98-810ce9144846",
   "metadata": {},
   "outputs": [],
   "source": [
    "df.head()"
   ]
  },
  {
   "cell_type": "code",
   "execution_count": null,
   "id": "62022959-dea1-48d1-a003-94f79c34bf43",
   "metadata": {
    "scrolled": true
   },
   "outputs": [],
   "source": [
    "# taking a look at the entire second row\n",
    "pd.set_option('display.max_colwidth', None)\n",
    "df.iloc[1,:]"
   ]
  },
  {
   "cell_type": "markdown",
   "id": "1cdadf73-3237-47a4-acbd-e59abd6c9461",
   "metadata": {},
   "source": [
    "2. Define a Function to Decode Byte Strings\n",
    "Define a helper function to decode byte strings if necessary. This function will be used to ensure that data in the keys and data columns is correctly decoded before further processing."
   ]
  },
  {
   "cell_type": "code",
   "execution_count": null,
   "id": "03358fb0-dd7b-4c13-a57a-4703a2622ecd",
   "metadata": {},
   "outputs": [],
   "source": [
    "def decode_byte_string(value):\n",
    "    if isinstance(value, bytes):\n",
    "        return value.decode(\"utf-8\")\n",
    "    return value"
   ]
  },
  {
   "cell_type": "markdown",
   "id": "9bde802d-8d13-48d3-a099-168f29c87400",
   "metadata": {},
   "source": [
    "3. Define a Function to Transform Each Row\n",
    "Define a function that decodes the keys and data columns, converts the hexadecimal strings to integers, and structures the information into a standardized format."
   ]
  },
  {
   "cell_type": "code",
   "execution_count": null,
   "id": "86b8bd24-5ce1-431e-a0e2-f49d4056a34c",
   "metadata": {},
   "outputs": [],
   "source": [
    "import ast\n",
    "\n",
    "def decode_and_convert_row(row):\n",
    "    # Decode 'keys' and 'data' fields\n",
    "    keys_decoded = decode_byte_string(row['keys'])\n",
    "    data_decoded = decode_byte_string(row['data'])\n",
    "    \n",
    "    # Convert string representation of list to actual list\n",
    "    keys = ast.literal_eval(keys_decoded)\n",
    "    data = ast.literal_eval(data_decoded)\n",
    "    \n",
    "    # Function to convert hexadecimal string to integer\n",
    "    def hex_to_int(hex_str):\n",
    "        try:\n",
    "            return int(hex_str, 16)\n",
    "        except ValueError:\n",
    "            return hex_str\n",
    "    \n",
    "    # Extract and structure the information\n",
    "    standardized_row = {\n",
    "        'block_hash': row['block_hash'],\n",
    "        'block_number': row['block_number'],\n",
    "        'transaction_hash': row['transaction_hash'],\n",
    "        'event_index': row['event_index'],\n",
    "        'timestamp': row['timestamp'],\n",
    "        'user': row['from_address'],\n",
    "        'event_type': row['key_name'],\n",
    "        'token': keys[0] if keys else None,\n",
    "        'amount': hex_to_int(data[0]) if data else None\n",
    "    }\n",
    "    \n",
    "    return standardized_row"
   ]
  },
  {
   "cell_type": "markdown",
   "id": "0737a215-bd96-49d9-b236-215060d00558",
   "metadata": {},
   "source": [
    "4. Apply the Transformation Function to the DataFrame\n",
    "Apply the decode_and_convert_row function to each row of the DataFrame to create a new standardized DataFrame."
   ]
  },
  {
   "cell_type": "code",
   "execution_count": null,
   "id": "6dc5df33-6f26-4cad-a4a6-9d3c42e64559",
   "metadata": {},
   "outputs": [],
   "source": [
    "# Apply the function to each row\n",
    "standardized_rows = df.apply(decode_and_convert_row, axis=1)\n",
    "standardized_df = pd.DataFrame(standardized_rows.tolist())"
   ]
  },
  {
   "cell_type": "markdown",
   "id": "771283e0-7b70-43c0-95c9-43d1cf7846d2",
   "metadata": {},
   "source": [
    "5. Save the Standardized DataFrame to a CSV File\n",
    "Save the transformed data to a CSV file for further analysis and easy querying."
   ]
  },
  {
   "cell_type": "code",
   "execution_count": null,
   "id": "20874fee-11b6-4c1f-9f53-402dd5ed3ac8",
   "metadata": {},
   "outputs": [],
   "source": [
    "# Save the standardized DataFrame to a CSV file\n",
    "output_file = 'standardized_events.csv'\n",
    "standardized_df.to_csv(output_file, index=False)\n",
    "\n",
    "# Display the first few rows of the standardized DataFrame\n",
    "standardized_df.head()"
   ]
  }
 ],
 "metadata": {
  "kernelspec": {
   "display_name": "Python 3 (ipykernel)",
   "language": "python",
   "name": "python3"
  },
  "language_info": {
   "codemirror_mode": {
    "name": "ipython",
    "version": 3
   },
   "file_extension": ".py",
   "mimetype": "text/x-python",
   "name": "python",
   "nbconvert_exporter": "python",
   "pygments_lexer": "ipython3",
   "version": "3.11.7"
  }
 },
 "nbformat": 4,
 "nbformat_minor": 5
}
