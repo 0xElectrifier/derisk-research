{
 "cells": [
  {
   "cell_type": "markdown",
   "id": "79e6dcb2",
   "metadata": {},
   "source": [
    "# TODO: HashStack"
   ]
  },
  {
   "cell_type": "code",
   "execution_count": 1,
   "id": "e6a89c81",
   "metadata": {},
   "outputs": [],
   "source": [
    "from typing import Dict\n",
    "import sys\n",
    "\n",
    "import IPython.display\n",
    "import pandas\n",
    "\n",
    "sys.path.append('..')\n",
    "\n",
    "import src.constants\n",
    "import src.db\n",
    "import src.swap_liquidity"
   ]
  },
  {
   "cell_type": "markdown",
   "id": "a0023a62",
   "metadata": {},
   "source": [
    "## Load and prepare events"
   ]
  },
  {
   "cell_type": "code",
   "execution_count": 2,
   "id": "2ad266bc",
   "metadata": {},
   "outputs": [
    {
     "name": "stderr",
     "output_type": "stream",
     "text": [
      "/tmp/ipykernel_1185515/1239245774.py:5: UserWarning: pandas only supports SQLAlchemy connectable (engine/connection) or database string URI or sqlite3 DBAPI2 connection. Other DBAPI2 objects are not tested. Please consider using SQLAlchemy.\n",
      "  hashstack_events = pandas.read_sql(\n"
     ]
    }
   ],
   "source": [
    "# Establish the connection.\n",
    "connection = src.db.establish_connection()\n",
    "\n",
    "# Load all HashStack events.\n",
    "hashstack_events = pandas.read_sql(\n",
    "    sql = \n",
    "    f\"\"\"\n",
    "    SELECT\n",
    "        *\n",
    "    FROM\n",
    "        starkscan_events\n",
    "    WHERE\n",
    "        from_address='{src.constants.Protocol.HASHSTACK.value}'\n",
    "    AND\n",
    "        key_name IN ('new_loan', 'loan_withdrawal', 'loan_repaid', 'loan_swap', 'collateral_added', 'collateral_withdrawal', 'loan_interest_deducted', 'liquidated')\n",
    "    ORDER BY\n",
    "        block_number, id ASC;\n",
    "    \"\"\",\n",
    "    con = connection,\n",
    ")\n",
    "\n",
    "# Close the connection.\n",
    "connection.close()"
   ]
  },
  {
   "cell_type": "code",
   "execution_count": 3,
   "id": "d8cc1563",
   "metadata": {},
   "outputs": [],
   "source": [
    "hashstack_events.set_index('id', inplace = True)"
   ]
  },
  {
   "cell_type": "code",
   "execution_count": 4,
   "id": "90c930c8",
   "metadata": {},
   "outputs": [],
   "source": [
    "# TODO: ensure we're processing loan_repaid after all other loan-altering events + other events in \"logical\" order\n",
    "hashstack_events['order'] = hashstack_events['key_name'].map(\n",
    "    {\n",
    "        'new_loan': 0,\n",
    "        'loan_withdrawal': 3,\n",
    "        'loan_repaid': 4,\n",
    "        'loan_swap': 1,\n",
    "        'collateral_added': 6,\n",
    "        'collateral_withdrawal': 7,\n",
    "        'loan_interest_deducted': 5,\n",
    "        'liquidated': 2,\n",
    "    },\n",
    ")\n",
    "hashstack_events.sort_values(['block_number', 'transaction_hash', 'order'], inplace = True)"
   ]
  },
  {
   "cell_type": "code",
   "execution_count": 5,
   "id": "f022b7a5",
   "metadata": {},
   "outputs": [
    {
     "name": "stdout",
     "output_type": "stream",
     "text": [
      "{'new_loan': 130, 'loan_withdrawal': 48, 'loan_interest_deducted': 177, 'loan_swap': 178, 'collateral_added': 32, 'loan_repaid': 93, 'collateral_withdrawal': 92, 'liquidated': 2}\n"
     ]
    }
   ],
   "source": [
    "# TODO\n",
    "print({x: len(hashstack_events[hashstack_events['key_name'] == x]) for x in hashstack_events['key_name'].unique()})"
   ]
  },
  {
   "cell_type": "markdown",
   "id": "050eb37d",
   "metadata": {},
   "source": [
    "# Process events"
   ]
  },
  {
   "cell_type": "markdown",
   "id": "95c2eeef",
   "metadata": {},
   "source": [
    "TODO\n",
    "\n",
    "Events examples:\n",
    "- 'OwnershipTransferred': not needed?\n",
    "- 'ModuleFunctionChange': not needed?\n",
    "- 'dial_parameters': not needed?\n",
    "- 'savings_apr_update': not needed?\n",
    "- 'borrow_apr_update': not needed?\n",
    "- 'RoleGranted': not needed?\n",
    "- 'RoleAdminChanged': not needed?\n",
    "- 'RoleRevoked': not needed?\n",
    "\n",
    "- 'liquidationState': not needed?\n",
    "- 'smart_liquidation': not needed?\n",
    "\n",
    "- [new_deposit](https://starkscan.co/event/0x07f3dbd47f1f73f88e4738952b926ca8f1ce3d0e3ab7b06274563aa87c96861d_2): not needed?\n",
    "- [deposit_added](https://starkscan.co/event/0x008298bf990ac4988b889264883bfb082b5a8e3638e557a89e07a919f9faa8a7_3): not needed?\n",
    "- [deposit_apr_accrued](https://starkscan.co/event/0x0471d0d9056c3623e4f76ff4f3a26d808c3f7d6b7f36d098eb3ceca9be89641b_0): not needed?\n",
    "- [deposit_withdrawal](https://starkscan.co/event/0x02a2541942d3fe4f7af4b578f87aa13507beff31db954847dd3b8e9600904903_3): not needed?\n",
    "\n",
    "- [new_loan](https://starkscan.co/event/0x04ff9acb9154603f1fc14df328a3ea53a6c58087aaac0bfbe9cc7f2565777db8_2)\n",
    "- [loan_withdrawal](https://starkscan.co/event/0x05bb8614095fac1ac9b405c27e7ce870804e85aa5924ef2494fec46792b6b8dc_2)\n",
    "- [loan_repaid](https://starkscan.co/event/0x07731e48d33f6b916f4e4e81e9cee1d282e20e970717e11ad440f73cc1a73484_1)\n",
    "- [loan_swap](https://starkscan.co/event/0x00ad0b6b00ce68a1d7f5b79cd550d7f4a15b1708b632b88985a4f6faeb42d5b1_7)\n",
    "\n",
    "- [collateral_added](https://starkscan.co/event/0x02df71b02fce15f2770533328d1e645b957ac347d96bd730466a2e087f24ee07_2)\n",
    "- [collateral_withdrawal](https://starkscan.co/event/0x03809ebcaad1647f2c6d5294706e0dc619317c240b5554848c454683a18b75ba_5)\n",
    "- [loan_interest_deducted](https://starkscan.co/event/0x050db0ed93d7abbfb152e16608d4cf4dbe0b686b134f890dd0ad8418b203c580_2)\n",
    "\n",
    "- [liquidated](https://starkscan.co/event/0x0774bebd15505d3f950c362d813dc81c6320ae92cb396b6469fd1ac5d8ff62dc_8)"
   ]
  },
  {
   "cell_type": "code",
   "execution_count": 6,
   "id": "e3632e44",
   "metadata": {},
   "outputs": [],
   "source": [
    "# TODO\n",
    "import collections\n",
    "import decimal\n",
    "\n",
    "\n",
    "class HashStackBorrowings:\n",
    "    \"\"\"\n",
    "    TODO\n",
    "    \"\"\"\n",
    "\n",
    "    def __init__(\n",
    "        self,\n",
    "        borrowings_id: int,\n",
    "        market: str,\n",
    "        amount: decimal.Decimal,\n",
    "        current_market: str,\n",
    "        current_amount: decimal.Decimal,\n",
    "        debt_category: int,\n",
    "    ) -> None:\n",
    "        self.id: int = borrowings_id\n",
    "#         self.owner  # TODO: needed?\n",
    "        self.market: str = market\n",
    "#         self.commitment  # TODO: needed?\n",
    "        self.amount: decimal.Decimal = amount\n",
    "        self.current_market: str = current_market\n",
    "        self.current_amount: decimal.Decimal = current_amount\n",
    "#         self.is_loan_withdrawn  # TODO needed?\n",
    "        self.debt_category: int = debt_category\n",
    "#         self.state  # TODO: needed?\n",
    "#         self.l3_integration  # TODO: needed?\n",
    "#         self.created_at  # TODO: needed?\n",
    "\n",
    "\n",
    "class HashStackCollateral:\n",
    "    \"\"\"\n",
    "    TODO\n",
    "    \"\"\"\n",
    "\n",
    "    def __init__(\n",
    "        self,\n",
    "        market: str,\n",
    "        amount: decimal.Decimal,\n",
    "        current_amount: decimal.Decimal,\n",
    "    ) -> None:\n",
    "        self.market: str = market\n",
    "        self.amount: decimal.Decimal = amount\n",
    "        self.current_amount: decimal.Decimal = current_amount\n",
    "#         self.commitment  # TODO: needed?\n",
    "#         self.timelock_validity  # TODO: needed?\n",
    "#         self.is_timelock_activated  # TODO: needed?\n",
    "#         self.activation_time  # TODO: needed?\n",
    "\n",
    "\n",
    "class HashStackLoan:\n",
    "    \"\"\"\n",
    "    TODO\n",
    "    \"\"\"\n",
    "\n",
    "    def __init__(\n",
    "        self,\n",
    "        borrowings: HashStackBorrowings,\n",
    "        collateral: HashStackCollateral,\n",
    "    ) -> None:\n",
    "        # TODO: save user?\n",
    "        self.borrowings: HashStackBorrowings = borrowings\n",
    "        self.collateral: HashStackCollateral = collateral\n",
    "\n",
    "\n",
    "class UserState:\n",
    "    \"\"\"\n",
    "    TODO\n",
    "    \"\"\"\n",
    "\n",
    "    def __init__(self) -> None:\n",
    "        self.loans: Dict[int, HashStackLoan] = {}\n",
    "\n",
    "\n",
    "class State:\n",
    "    \"\"\"\n",
    "    TODO\n",
    "    \"\"\"\n",
    "\n",
    "    # TODO: f'process_{name.lower()}_event'?\n",
    "    EVENTS_FUNCTIONS_MAPPING: Dict[str, str] = {\n",
    "        \"new_loan\": \"process_new_loan_event\",\n",
    "        # TODO: this event shows what the user does with the loan, but it shouldn't change the amount borrowed, so let's ignore it for now\n",
    "        \"loan_withdrawal\": \"process_loan_withdrawal_event\",\n",
    "        \"loan_repaid\": \"process_loan_repaid_event\",\n",
    "        \"loan_swap\": \"process_loan_swap_event\",\n",
    "        \"collateral_added\": \"process_collateral_added_event\",\n",
    "        \"collateral_withdrawal\": \"process_collateral_withdrawal_event\",\n",
    "        \"loan_interest_deducted\": \"process_loan_interest_deducted_event\",\n",
    "        \"liquidated\": \"process_liquidated_event\",\n",
    "    }\n",
    "#     USER = '0x3139000ef6bd54e3fb2e70149e2281b660c642fdf39158fe096c9e0f662dd32'  # TODO\n",
    "#     USER = '0x7e436ddaaac0790ba140d1294922cc3ea8d98622c2488525cd52b0a461565d6'  # TODO: user with no collateral??\n",
    "#     USER = '0x5b55db55f5884856860e63f3595b2ec6b2c9555f3f507b4ca728d8e427b7864'  # TODO: first user .. has a loan but no collateral?\n",
    "    USER = '0x7b027f9df477d0f96bf8dbc4774f8af954d9f00d0e44ffd29fea09f783ca453'\n",
    "#     USER = '0x724102a5654d669ba7ce25e420e733ddb409b753598ab0883ad476cf9faed7b'\n",
    "\n",
    "    def __init__(self) -> None:\n",
    "        # TODO: how to compute the interest accrued on both collateral and loan?\n",
    "        self.user_loan_ids_mapping: collections.defaultdict = collections.defaultdict(list)\n",
    "        self.user_states: collections.defaultdict = collections.defaultdict(UserState)\n",
    "\n",
    "    def process_event(self, event: pandas.Series) -> None:\n",
    "        # TODO: filter events in the query\n",
    "        if not event[\"key_name\"] in self.EVENTS_FUNCTIONS_MAPPING:\n",
    "            return\n",
    "        getattr(self, self.EVENTS_FUNCTIONS_MAPPING[event[\"key_name\"]])(event=event)\n",
    "\n",
    "    def process_new_loan_event(self, event: pandas.Series) -> None:\n",
    "        # The order of the arguments is: `id`, `owner`, `market`, `commitment`, `amount`, `current_market`, \n",
    "        # `current_amount`, `is_loan_withdrawn`, `debt_category`, `state`, `l3_integration`, `created_at`,\n",
    "        # `market`, `amount`, `current_amount`, `commitment`, `timelock_validity`, `is_timelock_activated`,\n",
    "        # `activation_time`, `timestamp`.\n",
    "        loan_id = int(event[\"data\"][0], base = 16)\n",
    "        user = event[\"data\"][1]\n",
    "        self.user_loan_ids_mapping[user].append(loan_id)\n",
    "        # TODO: universal naming: use deposit, collateral and debt (instead of loan/borrowings)?\n",
    "        borrowings_token = src.constants.get_symbol(event[\"data\"][2])\n",
    "        borrowings_amount = decimal.Decimal(str(int(event[\"data\"][4], base=16)))\n",
    "        borrowings_current_token = src.constants.get_symbol(event[\"data\"][6])\n",
    "        borrowings_current_amount = decimal.Decimal(str(int(event[\"data\"][7], base=16)))\n",
    "        debt_category = int(event[\"data\"][10], base=16)\n",
    "        # TODO: first ~3 loans seem to have different structure of 'data'\n",
    "        try:\n",
    "            collateral_token = src.constants.get_symbol(event[\"data\"][14])\n",
    "            collateral_amount = decimal.Decimal(str(int(event[\"data\"][15], base=16)))\n",
    "            collateral_current_amount = decimal.Decimal(str(int(event[\"data\"][17], base=16)))\n",
    "        except KeyError:\n",
    "            collateral_token = src.constants.get_symbol(event[\"data\"][13])\n",
    "            collateral_amount = decimal.Decimal(str(int(event[\"data\"][14], base=16)))\n",
    "            collateral_current_amount = decimal.Decimal(str(int(event[\"data\"][16], base=16)))\n",
    "        self.user_states[user].loans[loan_id] = HashStackLoan(\n",
    "            borrowings = HashStackBorrowings(\n",
    "                borrowings_id = loan_id,\n",
    "                market = borrowings_token,\n",
    "                amount = borrowings_amount,\n",
    "                current_market = borrowings_current_token,\n",
    "                current_amount = borrowings_current_amount,\n",
    "                debt_category = debt_category,\n",
    "            ),\n",
    "            collateral = HashStackCollateral(\n",
    "                market = collateral_token,\n",
    "                amount = collateral_amount,\n",
    "                current_amount = collateral_current_amount,\n",
    "            ),\n",
    "        )\n",
    "        # TODO\n",
    "        if user == self.USER:\n",
    "            print(\n",
    "                event['block_number'],\n",
    "                'new_loan \\n borrowings',\n",
    "                vars(self.user_states[user].loans[loan_id].borrowings),\n",
    "                '\\n collateral',\n",
    "                vars(self.user_states[user].loans[loan_id].collateral),\n",
    "            )\n",
    "\n",
    "    def process_loan_withdrawal_event(self, event: pandas.Series) -> None:\n",
    "        # The order of the arguments is: `id`, `owner`, `market`, `commitment`, `amount`, `current_market`, \n",
    "        # `current_amount`, `is_loan_withdrawn`, `debt_category`, `state`, `l3_integration`, `created_at`,\n",
    "        # `amount_withdrawn`, `timestamp`.\n",
    "        loan_id = int(event[\"data\"][0], base = 16)\n",
    "        user = event[\"data\"][1]\n",
    "        token = src.constants.get_symbol(event[\"data\"][2])\n",
    "        amount = decimal.Decimal(str(int(event[\"data\"][4], base=16)))\n",
    "        current_token = src.constants.get_symbol(event[\"data\"][6])\n",
    "        current_amount = decimal.Decimal(str(int(event[\"data\"][7], base=16)))\n",
    "        debt_category = int(event[\"data\"][10], base=16)\n",
    "        self.user_states[user].loans[loan_id].borrowings = HashStackBorrowings(\n",
    "            borrowings_id = loan_id,\n",
    "            market = token,\n",
    "            amount = amount,\n",
    "            current_market = current_token,\n",
    "            current_amount = current_amount,\n",
    "            debt_category = debt_category,\n",
    "        )\n",
    "        # TODO\n",
    "        if user == self.USER:\n",
    "            print(event['block_number'], 'loan_withdrawal \\n borrowings', vars(self.user_states[user].loans[loan_id].borrowings))\n",
    "\n",
    "    def process_loan_repaid_event(self, event: pandas.Series) -> None:\n",
    "        # The order of the arguments is: `id`, `owner`, `market`, `commitment`, `amount`, `current_market`, \n",
    "        # `current_amount`, `is_loan_withdrawn`, `debt_category`, `state`, `l3_integration`, `created_at`,\n",
    "        # `timestamp`.\n",
    "        loan_id = int(event[\"data\"][0], base = 16)\n",
    "        user = event[\"data\"][1]\n",
    "        token = src.constants.get_symbol(event[\"data\"][2])\n",
    "        amount = decimal.Decimal(str(int(event[\"data\"][4], base=16)))\n",
    "        current_token = src.constants.get_symbol(event[\"data\"][6])\n",
    "        current_amount = decimal.Decimal(str(int(event[\"data\"][7], base=16)))\n",
    "        # TODO: from the docs it seems that it's only possible to repay the whole amount\n",
    "        assert current_amount == decimal.Decimal('0')\n",
    "        debt_category = int(event[\"data\"][10], base=16)\n",
    "        self.user_states[user].loans[loan_id].borrowings = HashStackBorrowings(\n",
    "            borrowings_id = loan_id,\n",
    "            market = token,\n",
    "            amount = decimal.Decimal(\"0\"),  # TODO: this should be set to 0\n",
    "            current_market = current_token,\n",
    "            current_amount = current_amount,\n",
    "            debt_category = debt_category,\n",
    "        )\n",
    "        # TODO\n",
    "        if user == self.USER:\n",
    "            print(event['block_number'], 'loan_repaid \\n borrowings', vars(self.user_states[user].loans[loan_id].borrowings))\n",
    "\n",
    "    def process_loan_swap_event(self, event: pandas.Series) -> None:\n",
    "        # The order of the arguments is: `id`, `owner`, `market`, `commitment`, `amount`, `current_market`, \n",
    "        # `current_amount`, `is_loan_withdrawn`, `debt_category`, `state`, `l3_integration`, `created_at`,\n",
    "        # `id`, `owner`, `market`, `commitment`, `amount`, `current_market`, `current_amount`,\n",
    "        # `is_loan_withdrawn`, `debt_category`, `state`, `l3_integration`, `created_at`, `timestamp`.\n",
    "        old_loan_id = int(event[\"data\"][0], base = 16)\n",
    "        old_user = event[\"data\"][1]\n",
    "        assert old_loan_id in self.user_loan_ids_mapping[old_user]\n",
    "        new_loan_id = int(event[\"data\"][14], base = 16)\n",
    "        new_user = event[\"data\"][15]\n",
    "        assert old_loan_id == new_loan_id\n",
    "        # TODO: this doesn't always have to hold, right?\n",
    "        assert old_user == new_user\n",
    "        # TODO: universal naming: use deposit, collateral and debt (instead of loan/borrowings)?\n",
    "#         old_token = src.constants.get_symbol(event[\"data\"][2])  # TODO: not needed?\n",
    "#         old_amount = decimal.Decimal(str(int(event[\"data\"][4], base=16)))  # TODO: not needed?\n",
    "#         old_current_token = src.constants.get_symbol(event[\"data\"][6])  # TODO: not needed?\n",
    "#         old_current_amount = decimal.Decimal(str(int(event[\"data\"][7], base=16)))  # TODO: not needed?\n",
    "        new_token = src.constants.get_symbol(event[\"data\"][16])\n",
    "        new_amount = decimal.Decimal(str(int(event[\"data\"][18], base=16)))\n",
    "        assert self.user_states[old_user].loans[old_loan_id].borrowings.market == new_token\n",
    "        assert self.user_states[old_user].loans[old_loan_id].borrowings.amount == new_amount\n",
    "        new_current_token = src.constants.get_symbol(event[\"data\"][20])\n",
    "        new_current_amount = decimal.Decimal(str(int(event[\"data\"][21], base=16)))\n",
    "        old_debt_category = int(event[\"data\"][10], base=16)\n",
    "        new_debt_category = int(event[\"data\"][24], base=16)\n",
    "        # TODO: this need to hold, right?\n",
    "        assert old_debt_category == new_debt_category\n",
    "        # TODO: from the docs it seems that it's only possible to swap the whole balance\n",
    "        self.user_states[new_user].loans[new_loan_id].borrowings = HashStackBorrowings(\n",
    "            borrowings_id = new_loan_id,\n",
    "            market = new_token,\n",
    "            amount = new_amount,\n",
    "            current_market = new_current_token,\n",
    "            current_amount = new_current_amount,\n",
    "            debt_category = new_debt_category,\n",
    "        )\n",
    "        # TODO\n",
    "        if new_user == self.USER:\n",
    "            print(event['block_number'], 'loan_swap \\n borrowings', vars(self.user_states[new_user].loans[new_loan_id].borrowings))\n",
    "\n",
    "    def process_collateral_added_event(self, event: pandas.Series) -> None:\n",
    "        # The order of the arguments is: `market`, `amount`, `current_amount`, `commitment`,\n",
    "        # `timelock_validity`, `is_timelock_activated`, `activation_time`, `loan_id`, `amount_added`,\n",
    "        # `timestamp`.\n",
    "        loan_id = int(event[\"data\"][9], base = 16)\n",
    "        # TODO: create method self.find_user?\n",
    "        users = [user for user, loan_ids in self.user_loan_ids_mapping.items() if loan_id in loan_ids]\n",
    "        assert len(users) == 1\n",
    "        user = users[0]\n",
    "        # TODO: universal naming: use deposit, collateral and debt (instead of loan/borrowings)?\n",
    "        token = src.constants.get_symbol(event[\"data\"][0])\n",
    "        amount = decimal.Decimal(str(int(event[\"data\"][1], base=16)))  # TODO: needed?\n",
    "        current_amount = decimal.Decimal(str(int(event[\"data\"][3], base=16)))\n",
    "        # TODO: utilize `amount_added`?\n",
    "        self.user_states[user].loans[loan_id].collateral = HashStackCollateral(\n",
    "            market = token,\n",
    "            amount = amount,\n",
    "            current_amount = current_amount,\n",
    "        )\n",
    "        # TODO\n",
    "        if user == self.USER:\n",
    "            print(event['block_number'], 'collateral_added \\n collateral', vars(self.user_states[user].loans[loan_id].collateral))\n",
    "\n",
    "    def process_collateral_withdrawal_event(self, event: pandas.Series) -> None:\n",
    "        # The order of the arguments is: `market`, `amount`, `current_amount`, `commitment`,\n",
    "        # `timelock_validity`, `is_timelock_activated`, `activation_time`, `loan_id`, `amount_withdrawn`,\n",
    "        # `timestamp`.\n",
    "        loan_id = int(event[\"data\"][9], base = 16)\n",
    "        # TODO: create method self.find_user?\n",
    "        users = [user for user, loan_ids in self.user_loan_ids_mapping.items() if loan_id in loan_ids]\n",
    "        assert len(users) == 1\n",
    "        user = users[0]\n",
    "        # TODO: universal naming: use deposit, collateral and debt (instead of loan/borrowings)?\n",
    "        token = src.constants.get_symbol(event[\"data\"][0])\n",
    "        amount = decimal.Decimal(str(int(event[\"data\"][1], base=16)))  # TODO: needed?\n",
    "        current_amount = decimal.Decimal(str(int(event[\"data\"][3], base=16)))\n",
    "        # TODO: utilize `amount_withdrawn`?\n",
    "        self.user_states[user].loans[loan_id].collateral = HashStackCollateral(\n",
    "            market = token,\n",
    "            amount = amount,\n",
    "            current_amount = current_amount,\n",
    "        )\n",
    "        # TODO\n",
    "        if user == self.USER:\n",
    "            print(event['block_number'], 'collateral_withdrawal \\n collateral', vars(self.user_states[user].loans[loan_id].collateral))\n",
    "\n",
    "    def process_loan_interest_deducted_event(self, event: pandas.Series) -> None:\n",
    "        # The order of the arguments is: `market`, `amount`, `current_amount`, `commitment`,\n",
    "        # `timelock_validity`, `is_timelock_activated`, `activation_time`, `accrued_interest`, `loan_id`,\n",
    "        # `timestamp`.\n",
    "        loan_id = int(event[\"data\"][11], base = 16)\n",
    "        # TODO: create method self.find_user?\n",
    "        users = [user for user, loan_ids in self.user_loan_ids_mapping.items() if loan_id in loan_ids]\n",
    "        assert len(users) == 1\n",
    "        user = users[0]\n",
    "        # TODO: universal naming: use deposit, collateral and debt (instead of loan/borrowings)?\n",
    "        token = src.constants.get_symbol(event[\"data\"][0])\n",
    "        amount = decimal.Decimal(str(int(event[\"data\"][1], base=16)))  # TODO: needed?\n",
    "        current_amount = decimal.Decimal(str(int(event[\"data\"][3], base=16)))\n",
    "        # TODO: utilize `amount_withdrawn`?\n",
    "        self.user_states[user].loans[loan_id].collateral = HashStackCollateral(\n",
    "            market = token,\n",
    "            amount = amount,\n",
    "            current_amount = current_amount,\n",
    "        )\n",
    "        # TODO\n",
    "        if user == self.USER:\n",
    "            print(event['block_number'], 'loan_interest_deducted \\n collateral', vars(self.user_states[user].loans[loan_id].collateral))\n",
    "\n",
    "    def process_liquidated_event(self, event: pandas.Series) -> None:\n",
    "        # The order of the arguments is: `id`, `owner`, `market`, `commitment`, `amount`, `current_market`, \n",
    "        # `current_amount`, `is_loan_withdrawn`, `debt_category`, `state`, `l3_integration`, `created_at`,\n",
    "        # `liquidator`, `timestamp`.\n",
    "        loan_id = int(event[\"data\"][0], base = 16)\n",
    "        user = event[\"data\"][1]\n",
    "        token = src.constants.get_symbol(event[\"data\"][2])\n",
    "        amount = decimal.Decimal(str(int(event[\"data\"][4], base=16)))\n",
    "        current_token = src.constants.get_symbol(event[\"data\"][6])\n",
    "        current_amount = decimal.Decimal(str(int(event[\"data\"][7], base=16)))\n",
    "        # TODO: from the docs it seems that it's only possible to liquidate the whole amount\n",
    "        assert current_amount == decimal.Decimal('0')\n",
    "        debt_category = int(event[\"data\"][10], base=16)\n",
    "        self.user_states[user].loans[loan_id].borrowings = HashStackBorrowings(\n",
    "            borrowings_id = loan_id,\n",
    "            market = token,\n",
    "            amount = amount,\n",
    "            current_market = current_token,\n",
    "            current_amount = current_amount,\n",
    "            debt_category = debt_category,\n",
    "        )\n",
    "        # TODO: what happens to the collateral? now assuming it disappears\n",
    "        self.user_states[user].loans[loan_id].collateral = HashStackCollateral(\n",
    "            market = self.user_states[user].loans[loan_id].collateral.market,\n",
    "            amount = self.user_states[user].loans[loan_id].collateral.amount,\n",
    "            current_amount = decimal.Decimal('0'),\n",
    "        )\n",
    "        # TODO\n",
    "        if user == self.USER:\n",
    "            print(\n",
    "                event['block_number'],\n",
    "                'liquidated \\n borrowings',\n",
    "                vars(self.user_states[user].loans[loan_id].borrowings),\n",
    "                '\\n collateral',\n",
    "                vars(self.user_states[user].loans[loan_id].collateral),\n",
    "            )"
   ]
  },
  {
   "cell_type": "code",
   "execution_count": 7,
   "id": "d39cc54c",
   "metadata": {},
   "outputs": [
    {
     "name": "stdout",
     "output_type": "stream",
     "text": [
      "38312 new_loan \n",
      " borrowings {'id': 61, 'market': 'USDC', 'amount': Decimal('30000000'), 'current_market': 'USDC', 'current_amount': Decimal('29970000'), 'debt_category': 2} \n",
      " collateral {'market': 'ETH', 'amount': Decimal('10000000000000000'), 'current_amount': Decimal('10000000000000000')}\n",
      "38317 loan_repaid \n",
      " borrowings {'id': 61, 'market': 'USDC', 'amount': Decimal('0'), 'current_market': 'USDC', 'current_amount': Decimal('0'), 'debt_category': 2}\n",
      "38317 loan_interest_deducted \n",
      " collateral {'market': 'ETH', 'amount': Decimal('10000000000000000'), 'current_amount': Decimal('9999939758408005')}\n",
      "38317 collateral_withdrawal \n",
      " collateral {'market': 'ETH', 'amount': Decimal('10000000000000000'), 'current_amount': Decimal('0')}\n"
     ]
    }
   ],
   "source": [
    "# Iterate over ordered events to obtain the final state of each user.\n",
    "state = State()\n",
    "# bns = set()  # TODO\n",
    "for _, event in hashstack_events.iterrows():\n",
    "#     bns.update({event['block_number']})  # TODO\n",
    "    # TODO: save the timestamp/block number of each update?\n",
    "    state.process_event(event = event)\n",
    "# sorted([x for x in range(min(bns), max(bns)) if x + 1 not in bns])[-200:]  # TODO"
   ]
  },
  {
   "cell_type": "code",
   "execution_count": 8,
   "id": "7846f70f",
   "metadata": {},
   "outputs": [],
   "source": [
    "# TODO: just a simple sanity check\n",
    "for user, user_state in state.user_states.items():\n",
    "    for loan_id, loan in user_state.loans.items():\n",
    "        if loan.collateral.current_amount < 0:\n",
    "            print('negative collateral')\n",
    "        if loan.borrowings.current_amount < 0:\n",
    "            print('negative borrowings')\n",
    "#         print(loan_id, 'c:', loan.collateral.market, loan.collateral.current_amount, 'b:', loan.borrowings.current_market, loan.borrowings.current_amount)"
   ]
  },
  {
   "cell_type": "code",
   "execution_count": 9,
   "id": "198c50b4",
   "metadata": {},
   "outputs": [],
   "source": [
    "# Get current prices of tokens.\n",
    "prices = src.swap_liquidity.Prices()"
   ]
  },
  {
   "cell_type": "markdown",
   "id": "bdff3cdf",
   "metadata": {},
   "source": [
    "# Compute health factors\n",
    "\n",
    "TODO: This part is new. Will be refactored."
   ]
  },
  {
   "cell_type": "code",
   "execution_count": 10,
   "id": "1992bd4b",
   "metadata": {},
   "outputs": [],
   "source": [
    "# TODO\n",
    "from typing import Dict\n",
    "import collections\n",
    "import decimal\n",
    "\n",
    "\n",
    "# Source: Starkscan, e.g. \n",
    "# https://starkscan.co/token/0x049d36570d4e46f48e99674bd3fcc84644ddd6b96f7c741b1562b82f9e004dc7 for ETH.\n",
    "TOKEN_DECIMAL_FACTORS = {\n",
    "    \"ETH\": decimal.Decimal('1e18'),\n",
    "    \"wBTC\": decimal.Decimal('1e8'),\n",
    "    \"USDC\": decimal.Decimal('1e6'),\n",
    "    \"DAI\": decimal.Decimal('1e18'),\n",
    "    \"USDT\": decimal.Decimal('1e6'),\n",
    "}\n",
    "\n",
    "\n",
    "def compute_collateral_current_amount_usd(\n",
    "    collateral: HashStackCollateral,\n",
    "    prices: Dict[str, decimal.Decimal],\n",
    ") -> decimal.Decimal:\n",
    "    return (\n",
    "        collateral.current_amount\n",
    "        * prices[collateral.market]\n",
    "        # TODO: perform the conversion using TOKEN_DECIMAL_FACTORS sooner (in `UserTokenState`?)?\n",
    "        / TOKEN_DECIMAL_FACTORS[collateral.market]\n",
    "    )\n",
    "\n",
    "\n",
    "def compute_borrowings_current_amount_usd(\n",
    "    borrowings: HashStackBorrowings,\n",
    "    prices: Dict[str, decimal.Decimal],\n",
    ") -> decimal.Decimal:\n",
    "    return (\n",
    "        borrowings.current_amount\n",
    "        * prices[borrowings.current_market]\n",
    "        # TODO: perform the conversion using TOKEN_DECIMAL_FACTORS sooner (in `UserTokenState`?)?\n",
    "        / TOKEN_DECIMAL_FACTORS[borrowings.current_market]\n",
    "    )\n",
    "\n",
    "\n",
    "def compute_borrowings_amount_usd(\n",
    "    borrowings: HashStackBorrowings,\n",
    "    prices: Dict[str, decimal.Decimal],\n",
    ") -> decimal.Decimal:\n",
    "    return (\n",
    "        borrowings.amount\n",
    "        * prices[borrowings.market]\n",
    "        # TODO: perform the conversion using TOKEN_DECIMAL_FACTORS sooner (in `UserTokenState`?)?\n",
    "        / TOKEN_DECIMAL_FACTORS[borrowings.market]\n",
    "    )\n",
    "\n",
    "\n",
    "def compute_health_factor(\n",
    "    collateral: HashStackCollateral,\n",
    "    borrowings: HashStackBorrowings,\n",
    "    prices: Dict[str, decimal.Decimal],\n",
    "    user: str,\n",
    ") -> decimal.Decimal:\n",
    "    collateral_current_amount_usd = compute_collateral_current_amount_usd(collateral = collateral, prices = prices)\n",
    "    borrowings_current_amount_usd = compute_borrowings_current_amount_usd(borrowings = borrowings, prices = prices)\n",
    "    borrowings_amount_usd = compute_borrowings_amount_usd(borrowings = borrowings, prices = prices)\n",
    "\n",
    "    # TODO: how can this happen?\n",
    "    if borrowings_amount_usd == decimal.Decimal('0'):\n",
    "        # TODO: assumes collateral is positive\n",
    "        return decimal.Decimal('Inf')\n",
    "\n",
    "    health_factor = (collateral_current_amount_usd + borrowings_current_amount_usd) / borrowings_amount_usd\n",
    "    # TODO: enable?\n",
    "#     if health_factor < decimal.Decimal('0.9'):\n",
    "#         print(f'Suspiciously low health factor = {health_factor} of user = {user}, investigate.', collateral_current_amount_usd, borrowings_current_amount_usd, borrowings_amount_usd)\n",
    "    # TODO: too many loans eligible for liquidation?\n",
    "    # TODO: this should be a method of the borrowings class\n",
    "    health_factor_liquidation_threshold = decimal.Decimal('1.06') if loan.borrowings.debt_category == 1 \\\n",
    "        else decimal.Decimal('1.05') if loan.borrowings.debt_category == 2 \\\n",
    "        else decimal.Decimal('1.04')\n",
    "    # TODO: enable?\n",
    "#     if health_factor >= health_factor_liquidation_threshold:\n",
    "#         # TODO: loan with hf = ... of user = ... eligible ...\n",
    "#         print(f'Health factor = {health_factor} of user = {user} eligible for liquidation.')\n",
    "    return health_factor"
   ]
  },
  {
   "cell_type": "code",
   "execution_count": 11,
   "id": "497b1507",
   "metadata": {},
   "outputs": [
    {
     "data": {
      "text/html": [
       "<div>\n",
       "<style scoped>\n",
       "    .dataframe tbody tr th:only-of-type {\n",
       "        vertical-align: middle;\n",
       "    }\n",
       "\n",
       "    .dataframe tbody tr th {\n",
       "        vertical-align: top;\n",
       "    }\n",
       "\n",
       "    .dataframe thead th {\n",
       "        text-align: right;\n",
       "    }\n",
       "</style>\n",
       "<table border=\"1\" class=\"dataframe\">\n",
       "  <thead>\n",
       "    <tr style=\"text-align: right;\">\n",
       "      <th></th>\n",
       "      <th>User</th>\n",
       "      <th>Loan ID</th>\n",
       "      <th>Borrowings: amount in USD</th>\n",
       "      <th>Borrowings: current amount in USD</th>\n",
       "      <th>Collateral: current amount in USD</th>\n",
       "      <th>Health factor</th>\n",
       "    </tr>\n",
       "  </thead>\n",
       "  <tbody>\n",
       "    <tr>\n",
       "      <th>0</th>\n",
       "      <td>0x5b55db55f5884856860e63f3595b2ec6b2c9555f3f50...</td>\n",
       "      <td>1</td>\n",
       "      <td>0E-59</td>\n",
       "      <td>0E-59</td>\n",
       "      <td>0E-59</td>\n",
       "      <td>Infinity</td>\n",
       "    </tr>\n",
       "    <tr>\n",
       "      <th>1</th>\n",
       "      <td>0x5b55db55f5884856860e63f3595b2ec6b2c9555f3f50...</td>\n",
       "      <td>2</td>\n",
       "      <td>28.93392000000000098225427791</td>\n",
       "      <td>29.59618161645299892831173505</td>\n",
       "      <td>15.000000</td>\n",
       "      <td>1.541311430198638740079186959</td>\n",
       "    </tr>\n",
       "    <tr>\n",
       "      <th>2</th>\n",
       "      <td>0x5b55db55f5884856860e63f3595b2ec6b2c9555f3f50...</td>\n",
       "      <td>3</td>\n",
       "      <td>30.000000</td>\n",
       "      <td>29.970000</td>\n",
       "      <td>16.07440000000000054569682106</td>\n",
       "      <td>1.534813333333333351523227369</td>\n",
       "    </tr>\n",
       "    <tr>\n",
       "      <th>3</th>\n",
       "      <td>0x1e307316999c4830ada67b495d03246ab205e77853bb...</td>\n",
       "      <td>4</td>\n",
       "      <td>0E-59</td>\n",
       "      <td>0E-59</td>\n",
       "      <td>0E-59</td>\n",
       "      <td>Infinity</td>\n",
       "    </tr>\n",
       "    <tr>\n",
       "      <th>4</th>\n",
       "      <td>0x1e307316999c4830ada67b495d03246ab205e77853bb...</td>\n",
       "      <td>18</td>\n",
       "      <td>0E-59</td>\n",
       "      <td>0E-59</td>\n",
       "      <td>0E-59</td>\n",
       "      <td>Infinity</td>\n",
       "    </tr>\n",
       "    <tr>\n",
       "      <th>...</th>\n",
       "      <td>...</td>\n",
       "      <td>...</td>\n",
       "      <td>...</td>\n",
       "      <td>...</td>\n",
       "      <td>...</td>\n",
       "      <td>...</td>\n",
       "    </tr>\n",
       "    <tr>\n",
       "      <th>125</th>\n",
       "      <td>0x62513b05f2d77687ecdca05805afc5b580bb951cc2fe...</td>\n",
       "      <td>123</td>\n",
       "      <td>30.15328655490299890813876704</td>\n",
       "      <td>30.12313423075199890923059343</td>\n",
       "      <td>10.05109551830099963604625568</td>\n",
       "      <td>1.332333365250381620844490629</td>\n",
       "    </tr>\n",
       "    <tr>\n",
       "      <th>126</th>\n",
       "      <td>0x3bc6af96c742680064e2fd89635cf60e7b3b38269ea5...</td>\n",
       "      <td>124</td>\n",
       "      <td>273.367234</td>\n",
       "      <td>273.093867</td>\n",
       "      <td>80.37200000000000272848410532</td>\n",
       "      <td>1.293007438484745405619768261</td>\n",
       "    </tr>\n",
       "    <tr>\n",
       "      <th>127</th>\n",
       "      <td>0x3942c0f2ff317206f7757c224605d5b1b617090bfdb4...</td>\n",
       "      <td>126</td>\n",
       "      <td>30.000000</td>\n",
       "      <td>29.510176</td>\n",
       "      <td>11.647198</td>\n",
       "      <td>1.371912466666666666666666667</td>\n",
       "    </tr>\n",
       "    <tr>\n",
       "      <th>128</th>\n",
       "      <td>0x1dc0f785c9182c00392ccd4759c55fa1ff37daebd8b1...</td>\n",
       "      <td>128</td>\n",
       "      <td>30.478851</td>\n",
       "      <td>30.448373</td>\n",
       "      <td>10.159617</td>\n",
       "      <td>1.332333361254333373656375695</td>\n",
       "    </tr>\n",
       "    <tr>\n",
       "      <th>129</th>\n",
       "      <td>0x68657ee536b6f60861c49cbf2a2c5c9b99cda5855b52...</td>\n",
       "      <td>130</td>\n",
       "      <td>200.000000</td>\n",
       "      <td>198.449818</td>\n",
       "      <td>68.268521000000000000</td>\n",
       "      <td>1.333591695000</td>\n",
       "    </tr>\n",
       "  </tbody>\n",
       "</table>\n",
       "<p>130 rows × 6 columns</p>\n",
       "</div>"
      ],
      "text/plain": [
       "                                                  User  Loan ID  \\\n",
       "0    0x5b55db55f5884856860e63f3595b2ec6b2c9555f3f50...        1   \n",
       "1    0x5b55db55f5884856860e63f3595b2ec6b2c9555f3f50...        2   \n",
       "2    0x5b55db55f5884856860e63f3595b2ec6b2c9555f3f50...        3   \n",
       "3    0x1e307316999c4830ada67b495d03246ab205e77853bb...        4   \n",
       "4    0x1e307316999c4830ada67b495d03246ab205e77853bb...       18   \n",
       "..                                                 ...      ...   \n",
       "125  0x62513b05f2d77687ecdca05805afc5b580bb951cc2fe...      123   \n",
       "126  0x3bc6af96c742680064e2fd89635cf60e7b3b38269ea5...      124   \n",
       "127  0x3942c0f2ff317206f7757c224605d5b1b617090bfdb4...      126   \n",
       "128  0x1dc0f785c9182c00392ccd4759c55fa1ff37daebd8b1...      128   \n",
       "129  0x68657ee536b6f60861c49cbf2a2c5c9b99cda5855b52...      130   \n",
       "\n",
       "         Borrowings: amount in USD Borrowings: current amount in USD  \\\n",
       "0                            0E-59                             0E-59   \n",
       "1    28.93392000000000098225427791     29.59618161645299892831173505   \n",
       "2                        30.000000                         29.970000   \n",
       "3                            0E-59                             0E-59   \n",
       "4                            0E-59                             0E-59   \n",
       "..                             ...                               ...   \n",
       "125  30.15328655490299890813876704     30.12313423075199890923059343   \n",
       "126                     273.367234                        273.093867   \n",
       "127                      30.000000                         29.510176   \n",
       "128                      30.478851                         30.448373   \n",
       "129                     200.000000                        198.449818   \n",
       "\n",
       "    Collateral: current amount in USD                  Health factor  \n",
       "0                               0E-59                       Infinity  \n",
       "1                           15.000000  1.541311430198638740079186959  \n",
       "2       16.07440000000000054569682106  1.534813333333333351523227369  \n",
       "3                               0E-59                       Infinity  \n",
       "4                               0E-59                       Infinity  \n",
       "..                                ...                            ...  \n",
       "125     10.05109551830099963604625568  1.332333365250381620844490629  \n",
       "126     80.37200000000000272848410532  1.293007438484745405619768261  \n",
       "127                         11.647198  1.371912466666666666666666667  \n",
       "128                         10.159617  1.332333361254333373656375695  \n",
       "129             68.268521000000000000                 1.333591695000  \n",
       "\n",
       "[130 rows x 6 columns]"
      ]
     },
     "execution_count": 11,
     "metadata": {},
     "output_type": "execute_result"
    }
   ],
   "source": [
    "# TODO\n",
    "loan_stats = pandas.DataFrame()\n",
    "# TODO: use [(user, loan_id) for user, user_state in state.user_states.items() for loan_id in user_state.loans.keys()]?\n",
    "loan_stats['User'] = [user for user, user_state in state.user_states.items() for _ in user_state.loans.keys()]\n",
    "loan_stats['Loan ID'] = [loan_id for user_state in state.user_states.values() for loan_id in user_state.loans.keys()]\n",
    "loan_stats['Borrowings: amount in USD'] = loan_stats.apply(\n",
    "    lambda x: compute_borrowings_amount_usd(borrowings = state.user_states[x['User']].loans[x['Loan ID']].borrowings, prices = prices.prices),\n",
    "    axis = 1,\n",
    ")\n",
    "loan_stats['Borrowings: current amount in USD'] = loan_stats.apply(\n",
    "    lambda x: compute_borrowings_current_amount_usd(borrowings = state.user_states[x['User']].loans[x['Loan ID']].borrowings, prices = prices.prices),\n",
    "    axis = 1,\n",
    ")\n",
    "loan_stats['Collateral: current amount in USD'] = loan_stats.apply(\n",
    "    lambda x: compute_collateral_current_amount_usd(collateral = state.user_states[x['User']].loans[x['Loan ID']].collateral, prices = prices.prices),\n",
    "    axis = 1,\n",
    ")\n",
    "loan_stats['Health factor'] = loan_stats.apply(\n",
    "    lambda x: compute_health_factor(\n",
    "        borrowings = state.user_states[x['User']].loans[x['Loan ID']].borrowings,\n",
    "        collateral = state.user_states[x['User']].loans[x['Loan ID']].collateral,\n",
    "        prices = prices.prices,\n",
    "        user = x['User'],\n",
    "    ),\n",
    "    axis = 1,\n",
    ")\n",
    "loan_stats"
   ]
  },
  {
   "cell_type": "code",
   "execution_count": 24,
   "id": "d7569175",
   "metadata": {},
   "outputs": [
    {
     "data": {
      "text/html": [
       "<div>\n",
       "<style scoped>\n",
       "    .dataframe tbody tr th:only-of-type {\n",
       "        vertical-align: middle;\n",
       "    }\n",
       "\n",
       "    .dataframe tbody tr th {\n",
       "        vertical-align: top;\n",
       "    }\n",
       "\n",
       "    .dataframe thead th {\n",
       "        text-align: right;\n",
       "    }\n",
       "</style>\n",
       "<table border=\"1\" class=\"dataframe\">\n",
       "  <thead>\n",
       "    <tr style=\"text-align: right;\">\n",
       "      <th></th>\n",
       "      <th>User</th>\n",
       "      <th>Borrowing in USD</th>\n",
       "      <th>Risk adjusted collateral in USD</th>\n",
       "      <th>Health factor</th>\n",
       "      <th>Collateral</th>\n",
       "      <th>Borrowings</th>\n",
       "    </tr>\n",
       "  </thead>\n",
       "  <tbody>\n",
       "    <tr>\n",
       "      <th>1</th>\n",
       "      <td>0x5b55db55f5884856860e63f3595b2ec6b2c9555f3f50...</td>\n",
       "      <td>28.93392000000000098225427791</td>\n",
       "      <td>44.59618161645299892831173505</td>\n",
       "      <td>1.541311430198638740079186959</td>\n",
       "      <td>USDC: 15.0000, USDT: 29.6145</td>\n",
       "      <td>ETH: 0.0180</td>\n",
       "    </tr>\n",
       "    <tr>\n",
       "      <th>2</th>\n",
       "      <td>0x5b55db55f5884856860e63f3595b2ec6b2c9555f3f50...</td>\n",
       "      <td>30.000000</td>\n",
       "      <td>46.04440000000000054569682106</td>\n",
       "      <td>1.534813333333333351523227369</td>\n",
       "      <td>ETH: 0.0100, USDC: 29.9700</td>\n",
       "      <td>USDC: 30.0000</td>\n",
       "    </tr>\n",
       "    <tr>\n",
       "      <th>7</th>\n",
       "      <td>0x74061d07a0fbd8ffc376dc4f593c69854c51b6c2fe55...</td>\n",
       "      <td>32.14880000000000109139364213</td>\n",
       "      <td>46.40550141931794008787684861</td>\n",
       "      <td>1.443459831138889741218769168</td>\n",
       "      <td>ETH: 0.0100, USDT: 30.3499</td>\n",
       "      <td>ETH: 0.0200</td>\n",
       "    </tr>\n",
       "    <tr>\n",
       "      <th>11</th>\n",
       "      <td>0x1caf85dbb2e8c6d551f7d94d5acc9f854680ec060f7a...</td>\n",
       "      <td>32.14880000000000109139364213</td>\n",
       "      <td>40.15385119999981490011065901</td>\n",
       "      <td>1.248999999999994200000000000</td>\n",
       "      <td>ETH: 0.0250</td>\n",
       "      <td>ETH: 0.0200</td>\n",
       "    </tr>\n",
       "    <tr>\n",
       "      <th>13</th>\n",
       "      <td>0x1caf85dbb2e8c6d551f7d94d5acc9f854680ec060f7a...</td>\n",
       "      <td>29.98142999999999891436175403</td>\n",
       "      <td>37.30707902000000049112713896</td>\n",
       "      <td>1.244339546846164503895569424</td>\n",
       "      <td>ETH: 0.0090, wBTC: 0.0009</td>\n",
       "      <td>USDT: 30.0000</td>\n",
       "    </tr>\n",
       "    <tr>\n",
       "      <th>23</th>\n",
       "      <td>0x3163a2390c34b10c3ac51f063af99204f3466357e884...</td>\n",
       "      <td>31.000000</td>\n",
       "      <td>41.96219099999999960193264315</td>\n",
       "      <td>1.353619064516129019417182037</td>\n",
       "      <td>USDT: 11.0000, USDC: 30.9690</td>\n",
       "      <td>USDC: 31.0000</td>\n",
       "    </tr>\n",
       "    <tr>\n",
       "      <th>25</th>\n",
       "      <td>0x732f5f56f0a0a1888a9db1f35bc729595f6c62c492e0...</td>\n",
       "      <td>30.79962222531899888473472249</td>\n",
       "      <td>9.594794902738023408125941695</td>\n",
       "      <td>0.3115231359834851959837032261</td>\n",
       "      <td>ETH: 0.0060, USDT: 0.0000</td>\n",
       "      <td>USDT: 30.8187</td>\n",
       "    </tr>\n",
       "    <tr>\n",
       "      <th>29</th>\n",
       "      <td>0x43e083db1638fd89a9f77f0d935a4bed785d4e638ef1...</td>\n",
       "      <td>35.56666959531899871211824138</td>\n",
       "      <td>37.46101336174159774495722385</td>\n",
       "      <td>1.053261769740507765888464322</td>\n",
       "      <td>ETH: 0.0065, USDT: 27.0021</td>\n",
       "      <td>USDT: 35.5887</td>\n",
       "    </tr>\n",
       "    <tr>\n",
       "      <th>30</th>\n",
       "      <td>0x7fb5b4be6a89550d9539d807bcd54dbd4e4bd1bf924e...</td>\n",
       "      <td>28.93392000000000098225427791</td>\n",
       "      <td>63.85876888000000216788976104</td>\n",
       "      <td>2.207055555555555555555555556</td>\n",
       "      <td>ETH: 0.0397</td>\n",
       "      <td>ETH: 0.0180</td>\n",
       "    </tr>\n",
       "    <tr>\n",
       "      <th>45</th>\n",
       "      <td>0x724102a5654d669ba7ce25e420e733ddb409b753598a...</td>\n",
       "      <td>166.528973</td>\n",
       "      <td>48.07187802774390461923335579</td>\n",
       "      <td>0.2886697561495434468285188776</td>\n",
       "      <td>ETH: 0.0300, USDC: 0.0000</td>\n",
       "      <td>USDC: 166.5290</td>\n",
       "    </tr>\n",
       "    <tr>\n",
       "      <th>49</th>\n",
       "      <td>0x19a1b99c9496ee642fa64f602a32c74525573c7881b0...</td>\n",
       "      <td>30.000000</td>\n",
       "      <td>36.75191682665828404278113698</td>\n",
       "      <td>1.225063894221942801426037899</td>\n",
       "      <td>ETH: 0.0227</td>\n",
       "      <td>USDC: 30.0000</td>\n",
       "    </tr>\n",
       "    <tr>\n",
       "      <th>50</th>\n",
       "      <td>0xb375c17a97bad69fa0646c6cad8f6fc207396d77cdbc...</td>\n",
       "      <td>30.000000000000000000</td>\n",
       "      <td>37.12975892692611115100627101</td>\n",
       "      <td>1.237658630897537038366875700</td>\n",
       "      <td>USDC: 10.0000, ETH: 0.0169</td>\n",
       "      <td>DAI: 30.0000</td>\n",
       "    </tr>\n",
       "    <tr>\n",
       "      <th>51</th>\n",
       "      <td>0x2f418e94125000d81937a68aa8fd01a3e5ece33b30e1...</td>\n",
       "      <td>35.000000</td>\n",
       "      <td>44.93112800000000033833202906</td>\n",
       "      <td>1.283746514285714295380915116</td>\n",
       "      <td>ETH: 0.0062, USDC: 34.9650</td>\n",
       "      <td>USDC: 35.0000</td>\n",
       "    </tr>\n",
       "    <tr>\n",
       "      <th>55</th>\n",
       "      <td>0x63a50135e40b24fccb87c29fe0443da951339de525dd...</td>\n",
       "      <td>30.13950000000000102318153949</td>\n",
       "      <td>40.15586050000000136321887112</td>\n",
       "      <td>1.332333333333333333333333334</td>\n",
       "      <td>ETH: 0.0250</td>\n",
       "      <td>ETH: 0.0188</td>\n",
       "    </tr>\n",
       "    <tr>\n",
       "      <th>58</th>\n",
       "      <td>0x1350d503a370b26dcf8680885e000d70c1dfff0da6e9...</td>\n",
       "      <td>48.22320000000000163709046319</td>\n",
       "      <td>76.27638300000000054569682106</td>\n",
       "      <td>1.581736238988702490839502748</td>\n",
       "      <td>ETH: 0.0100, USDC: 60.2020</td>\n",
       "      <td>ETH: 0.0300</td>\n",
       "    </tr>\n",
       "    <tr>\n",
       "      <th>59</th>\n",
       "      <td>0x289bba50d28486a2ecea655cbfcb72a474d9a77fec44...</td>\n",
       "      <td>100.000000000000000000</td>\n",
       "      <td>130.7100233418829273600089978</td>\n",
       "      <td>1.307100233418829273600089978</td>\n",
       "      <td>ETH: 0.0813</td>\n",
       "      <td>DAI: 100.0000</td>\n",
       "    </tr>\n",
       "    <tr>\n",
       "      <th>61</th>\n",
       "      <td>0x6d20a027a04ecc316d234c91fe12c0466a5938bc9265...</td>\n",
       "      <td>29.98142999999999891436175403</td>\n",
       "      <td>74.99030125236899728457451442</td>\n",
       "      <td>2.501224966666666666666666667</td>\n",
       "      <td>USDT: 75.0367</td>\n",
       "      <td>USDT: 30.0000</td>\n",
       "    </tr>\n",
       "    <tr>\n",
       "      <th>66</th>\n",
       "      <td>0x2e4dff5c8d806ec7e06198066503416f872705417f53...</td>\n",
       "      <td>30.166120</td>\n",
       "      <td>27.42183841238380726988184152</td>\n",
       "      <td>0.9090276910780639760725556194</td>\n",
       "      <td>ETH: 0.0171</td>\n",
       "      <td>USDC: 30.1661</td>\n",
       "    </tr>\n",
       "    <tr>\n",
       "      <th>67</th>\n",
       "      <td>0x6fed3aa9078281a062589c96af5da944d7ea02fa7535...</td>\n",
       "      <td>32.14880000000000109139364213</td>\n",
       "      <td>64.26545120000000218169589062</td>\n",
       "      <td>1.999000000000000000000000000</td>\n",
       "      <td>ETH: 0.0400</td>\n",
       "      <td>ETH: 0.0200</td>\n",
       "    </tr>\n",
       "    <tr>\n",
       "      <th>68</th>\n",
       "      <td>0x6fed3aa9078281a062589c96af5da944d7ea02fa7535...</td>\n",
       "      <td>40.000000</td>\n",
       "      <td>86.68781746680499856811896731</td>\n",
       "      <td>2.167195436670124964202974183</td>\n",
       "      <td>USDC: 47.1444, USDT: 39.5679</td>\n",
       "      <td>USDC: 40.0000</td>\n",
       "    </tr>\n",
       "    <tr>\n",
       "      <th>69</th>\n",
       "      <td>0xd54dd64a91d2436935bc5a5b56514f9ce9b7523ef211...</td>\n",
       "      <td>50.000000</td>\n",
       "      <td>210.6940000000000054569682106</td>\n",
       "      <td>4.213880000000000109139364212</td>\n",
       "      <td>ETH: 0.1000, USDC: 49.9500</td>\n",
       "      <td>USDC: 50.0000</td>\n",
       "    </tr>\n",
       "    <tr>\n",
       "      <th>72</th>\n",
       "      <td>0x14da778bd8928760f42263c067d36ff4649ad0a01f6a...</td>\n",
       "      <td>28.93392000000000098225427791</td>\n",
       "      <td>53.90498608000000098127202364</td>\n",
       "      <td>1.863037779879117629111271285</td>\n",
       "      <td>USDC: 25.0000, ETH: 0.0180</td>\n",
       "      <td>ETH: 0.0180</td>\n",
       "    </tr>\n",
       "    <tr>\n",
       "      <th>78</th>\n",
       "      <td>0x57e6c4acae7d900671e2fca3caef12df68980531e17a...</td>\n",
       "      <td>32.14880000000000109139364213</td>\n",
       "      <td>57.92049900000000054569682106</td>\n",
       "      <td>1.801637977156223516255679446</td>\n",
       "      <td>ETH: 0.0100, USDC: 41.8461</td>\n",
       "      <td>ETH: 0.0200</td>\n",
       "    </tr>\n",
       "    <tr>\n",
       "      <th>85</th>\n",
       "      <td>0x2f809edb8b1ffd707f2ba8c08dcc99f29033244ee065...</td>\n",
       "      <td>30.000000000000000000</td>\n",
       "      <td>76.20158184000000156947862706</td>\n",
       "      <td>2.540052728000000052315954235</td>\n",
       "      <td>ETH: 0.0288, DAI: 29.9700</td>\n",
       "      <td>DAI: 30.0000</td>\n",
       "    </tr>\n",
       "    <tr>\n",
       "      <th>91</th>\n",
       "      <td>0x3906f97a3d40cae3900e910d6943a0a29d983a6bfb20...</td>\n",
       "      <td>30.000000</td>\n",
       "      <td>38.630791401158511663</td>\n",
       "      <td>1.2876930467052837221</td>\n",
       "      <td>USDC: 10.0000, DAI: 28.6308</td>\n",
       "      <td>USDC: 30.0000</td>\n",
       "    </tr>\n",
       "    <tr>\n",
       "      <th>92</th>\n",
       "      <td>0x581e7d95b6dcb87b66205c3787461e5d7334f65f07cd...</td>\n",
       "      <td>29.98142999999999891436175403</td>\n",
       "      <td>41.30132600000000038198777474</td>\n",
       "      <td>1.377563578521771705936757581</td>\n",
       "      <td>ETH: 0.0070, USDC: 30.0492</td>\n",
       "      <td>USDT: 30.0000</td>\n",
       "    </tr>\n",
       "    <tr>\n",
       "      <th>94</th>\n",
       "      <td>0x580fddc7b514522ebe23f6444db215d8017e71bdc5dc...</td>\n",
       "      <td>107.000000</td>\n",
       "      <td>212.375666</td>\n",
       "      <td>1.984819308411214953271028037</td>\n",
       "      <td>USDC: 212.3757</td>\n",
       "      <td>USDC: 107.0000</td>\n",
       "    </tr>\n",
       "    <tr>\n",
       "      <th>104</th>\n",
       "      <td>0xfb8c9e04a771ad235969302c455e2ba1511fa018f572...</td>\n",
       "      <td>28.93392000000000098225427791</td>\n",
       "      <td>60.68552369026069668192382337</td>\n",
       "      <td>2.097383406405378000000000000</td>\n",
       "      <td>ETH: 0.0240</td>\n",
       "      <td>ETH: 0.0180</td>\n",
       "    </tr>\n",
       "    <tr>\n",
       "      <th>110</th>\n",
       "      <td>0x30ba095e7d1ef384ef89403808e96dc60ad38c5c1fd1...</td>\n",
       "      <td>57.95785664000000196756445803</td>\n",
       "      <td>83.08429998336000105366076696</td>\n",
       "      <td>1.433529547157525772731870653</td>\n",
       "      <td>USDT: 25.2000, ETH: 0.0360</td>\n",
       "      <td>ETH: 0.0361</td>\n",
       "    </tr>\n",
       "    <tr>\n",
       "      <th>111</th>\n",
       "      <td>0x30ba095e7d1ef384ef89403808e96dc60ad38c5c1fd1...</td>\n",
       "      <td>51.83288200</td>\n",
       "      <td>71.56897551999999928347875766</td>\n",
       "      <td>1.380763962150512859452398531</td>\n",
       "      <td>USDT: 19.8000, wBTC: 0.0020</td>\n",
       "      <td>wBTC: 0.0020</td>\n",
       "    </tr>\n",
       "    <tr>\n",
       "      <th>112</th>\n",
       "      <td>0x30ba095e7d1ef384ef89403808e96dc60ad38c5c1fd1...</td>\n",
       "      <td>30.128371000000000000</td>\n",
       "      <td>36.54940587955440940627744037</td>\n",
       "      <td>1.213122537542916256782600041</td>\n",
       "      <td>USDC: 10.0043, ETH: 0.0165</td>\n",
       "      <td>DAI: 30.1284</td>\n",
       "    </tr>\n",
       "    <tr>\n",
       "      <th>121</th>\n",
       "      <td>0x1fb62ac54f9fa99e1417f83bcb88485556427397f717...</td>\n",
       "      <td>39.12900000</td>\n",
       "      <td>47.41960200000000054569682106</td>\n",
       "      <td>1.211878708885992500337264460</td>\n",
       "      <td>ETH: 0.0100, USDC: 31.3452</td>\n",
       "      <td>wBTC: 0.0015</td>\n",
       "    </tr>\n",
       "    <tr>\n",
       "      <th>125</th>\n",
       "      <td>0x62513b05f2d77687ecdca05805afc5b580bb951cc2fe...</td>\n",
       "      <td>30.15328655490299890813876704</td>\n",
       "      <td>40.17422974905299854527684911</td>\n",
       "      <td>1.332333365250381620844490629</td>\n",
       "      <td>USDT: 40.1991</td>\n",
       "      <td>USDT: 30.1720</td>\n",
       "    </tr>\n",
       "    <tr>\n",
       "      <th>126</th>\n",
       "      <td>0x3bc6af96c742680064e2fd89635cf60e7b3b38269ea5...</td>\n",
       "      <td>273.367234</td>\n",
       "      <td>353.4658670000000027284841053</td>\n",
       "      <td>1.293007438484745405619768261</td>\n",
       "      <td>ETH: 0.0500, USDC: 273.0939</td>\n",
       "      <td>USDC: 273.3672</td>\n",
       "    </tr>\n",
       "    <tr>\n",
       "      <th>127</th>\n",
       "      <td>0x3942c0f2ff317206f7757c224605d5b1b617090bfdb4...</td>\n",
       "      <td>30.000000</td>\n",
       "      <td>41.157374</td>\n",
       "      <td>1.371912466666666666666666667</td>\n",
       "      <td>USDC: 41.1574</td>\n",
       "      <td>USDC: 30.0000</td>\n",
       "    </tr>\n",
       "    <tr>\n",
       "      <th>128</th>\n",
       "      <td>0x1dc0f785c9182c00392ccd4759c55fa1ff37daebd8b1...</td>\n",
       "      <td>30.478851</td>\n",
       "      <td>40.607990</td>\n",
       "      <td>1.332333361254333373656375695</td>\n",
       "      <td>USDC: 40.6080</td>\n",
       "      <td>USDC: 30.4789</td>\n",
       "    </tr>\n",
       "    <tr>\n",
       "      <th>129</th>\n",
       "      <td>0x68657ee536b6f60861c49cbf2a2c5c9b99cda5855b52...</td>\n",
       "      <td>200.000000</td>\n",
       "      <td>266.718339000000000000</td>\n",
       "      <td>1.333591695000</td>\n",
       "      <td>DAI: 68.2685, USDC: 198.4498</td>\n",
       "      <td>USDC: 200.0000</td>\n",
       "    </tr>\n",
       "  </tbody>\n",
       "</table>\n",
       "</div>"
      ],
      "text/plain": [
       "                                                  User  \\\n",
       "1    0x5b55db55f5884856860e63f3595b2ec6b2c9555f3f50...   \n",
       "2    0x5b55db55f5884856860e63f3595b2ec6b2c9555f3f50...   \n",
       "7    0x74061d07a0fbd8ffc376dc4f593c69854c51b6c2fe55...   \n",
       "11   0x1caf85dbb2e8c6d551f7d94d5acc9f854680ec060f7a...   \n",
       "13   0x1caf85dbb2e8c6d551f7d94d5acc9f854680ec060f7a...   \n",
       "23   0x3163a2390c34b10c3ac51f063af99204f3466357e884...   \n",
       "25   0x732f5f56f0a0a1888a9db1f35bc729595f6c62c492e0...   \n",
       "29   0x43e083db1638fd89a9f77f0d935a4bed785d4e638ef1...   \n",
       "30   0x7fb5b4be6a89550d9539d807bcd54dbd4e4bd1bf924e...   \n",
       "45   0x724102a5654d669ba7ce25e420e733ddb409b753598a...   \n",
       "49   0x19a1b99c9496ee642fa64f602a32c74525573c7881b0...   \n",
       "50   0xb375c17a97bad69fa0646c6cad8f6fc207396d77cdbc...   \n",
       "51   0x2f418e94125000d81937a68aa8fd01a3e5ece33b30e1...   \n",
       "55   0x63a50135e40b24fccb87c29fe0443da951339de525dd...   \n",
       "58   0x1350d503a370b26dcf8680885e000d70c1dfff0da6e9...   \n",
       "59   0x289bba50d28486a2ecea655cbfcb72a474d9a77fec44...   \n",
       "61   0x6d20a027a04ecc316d234c91fe12c0466a5938bc9265...   \n",
       "66   0x2e4dff5c8d806ec7e06198066503416f872705417f53...   \n",
       "67   0x6fed3aa9078281a062589c96af5da944d7ea02fa7535...   \n",
       "68   0x6fed3aa9078281a062589c96af5da944d7ea02fa7535...   \n",
       "69   0xd54dd64a91d2436935bc5a5b56514f9ce9b7523ef211...   \n",
       "72   0x14da778bd8928760f42263c067d36ff4649ad0a01f6a...   \n",
       "78   0x57e6c4acae7d900671e2fca3caef12df68980531e17a...   \n",
       "85   0x2f809edb8b1ffd707f2ba8c08dcc99f29033244ee065...   \n",
       "91   0x3906f97a3d40cae3900e910d6943a0a29d983a6bfb20...   \n",
       "92   0x581e7d95b6dcb87b66205c3787461e5d7334f65f07cd...   \n",
       "94   0x580fddc7b514522ebe23f6444db215d8017e71bdc5dc...   \n",
       "104  0xfb8c9e04a771ad235969302c455e2ba1511fa018f572...   \n",
       "110  0x30ba095e7d1ef384ef89403808e96dc60ad38c5c1fd1...   \n",
       "111  0x30ba095e7d1ef384ef89403808e96dc60ad38c5c1fd1...   \n",
       "112  0x30ba095e7d1ef384ef89403808e96dc60ad38c5c1fd1...   \n",
       "121  0x1fb62ac54f9fa99e1417f83bcb88485556427397f717...   \n",
       "125  0x62513b05f2d77687ecdca05805afc5b580bb951cc2fe...   \n",
       "126  0x3bc6af96c742680064e2fd89635cf60e7b3b38269ea5...   \n",
       "127  0x3942c0f2ff317206f7757c224605d5b1b617090bfdb4...   \n",
       "128  0x1dc0f785c9182c00392ccd4759c55fa1ff37daebd8b1...   \n",
       "129  0x68657ee536b6f60861c49cbf2a2c5c9b99cda5855b52...   \n",
       "\n",
       "                  Borrowing in USD Risk adjusted collateral in USD  \\\n",
       "1    28.93392000000000098225427791   44.59618161645299892831173505   \n",
       "2                        30.000000   46.04440000000000054569682106   \n",
       "7    32.14880000000000109139364213   46.40550141931794008787684861   \n",
       "11   32.14880000000000109139364213   40.15385119999981490011065901   \n",
       "13   29.98142999999999891436175403   37.30707902000000049112713896   \n",
       "23                       31.000000   41.96219099999999960193264315   \n",
       "25   30.79962222531899888473472249   9.594794902738023408125941695   \n",
       "29   35.56666959531899871211824138   37.46101336174159774495722385   \n",
       "30   28.93392000000000098225427791   63.85876888000000216788976104   \n",
       "45                      166.528973   48.07187802774390461923335579   \n",
       "49                       30.000000   36.75191682665828404278113698   \n",
       "50           30.000000000000000000   37.12975892692611115100627101   \n",
       "51                       35.000000   44.93112800000000033833202906   \n",
       "55   30.13950000000000102318153949   40.15586050000000136321887112   \n",
       "58   48.22320000000000163709046319   76.27638300000000054569682106   \n",
       "59          100.000000000000000000   130.7100233418829273600089978   \n",
       "61   29.98142999999999891436175403   74.99030125236899728457451442   \n",
       "66                       30.166120   27.42183841238380726988184152   \n",
       "67   32.14880000000000109139364213   64.26545120000000218169589062   \n",
       "68                       40.000000   86.68781746680499856811896731   \n",
       "69                       50.000000   210.6940000000000054569682106   \n",
       "72   28.93392000000000098225427791   53.90498608000000098127202364   \n",
       "78   32.14880000000000109139364213   57.92049900000000054569682106   \n",
       "85           30.000000000000000000   76.20158184000000156947862706   \n",
       "91                       30.000000           38.630791401158511663   \n",
       "92   29.98142999999999891436175403   41.30132600000000038198777474   \n",
       "94                      107.000000                      212.375666   \n",
       "104  28.93392000000000098225427791   60.68552369026069668192382337   \n",
       "110  57.95785664000000196756445803   83.08429998336000105366076696   \n",
       "111                    51.83288200   71.56897551999999928347875766   \n",
       "112          30.128371000000000000   36.54940587955440940627744037   \n",
       "121                    39.12900000   47.41960200000000054569682106   \n",
       "125  30.15328655490299890813876704   40.17422974905299854527684911   \n",
       "126                     273.367234   353.4658670000000027284841053   \n",
       "127                      30.000000                       41.157374   \n",
       "128                      30.478851                       40.607990   \n",
       "129                     200.000000          266.718339000000000000   \n",
       "\n",
       "                      Health factor                    Collateral  \\\n",
       "1     1.541311430198638740079186959  USDC: 15.0000, USDT: 29.6145   \n",
       "2     1.534813333333333351523227369    ETH: 0.0100, USDC: 29.9700   \n",
       "7     1.443459831138889741218769168    ETH: 0.0100, USDT: 30.3499   \n",
       "11    1.248999999999994200000000000                   ETH: 0.0250   \n",
       "13    1.244339546846164503895569424     ETH: 0.0090, wBTC: 0.0009   \n",
       "23    1.353619064516129019417182037  USDT: 11.0000, USDC: 30.9690   \n",
       "25   0.3115231359834851959837032261     ETH: 0.0060, USDT: 0.0000   \n",
       "29    1.053261769740507765888464322    ETH: 0.0065, USDT: 27.0021   \n",
       "30    2.207055555555555555555555556                   ETH: 0.0397   \n",
       "45   0.2886697561495434468285188776     ETH: 0.0300, USDC: 0.0000   \n",
       "49    1.225063894221942801426037899                   ETH: 0.0227   \n",
       "50    1.237658630897537038366875700    USDC: 10.0000, ETH: 0.0169   \n",
       "51    1.283746514285714295380915116    ETH: 0.0062, USDC: 34.9650   \n",
       "55    1.332333333333333333333333334                   ETH: 0.0250   \n",
       "58    1.581736238988702490839502748    ETH: 0.0100, USDC: 60.2020   \n",
       "59    1.307100233418829273600089978                   ETH: 0.0813   \n",
       "61    2.501224966666666666666666667                 USDT: 75.0367   \n",
       "66   0.9090276910780639760725556194                   ETH: 0.0171   \n",
       "67    1.999000000000000000000000000                   ETH: 0.0400   \n",
       "68    2.167195436670124964202974183  USDC: 47.1444, USDT: 39.5679   \n",
       "69    4.213880000000000109139364212    ETH: 0.1000, USDC: 49.9500   \n",
       "72    1.863037779879117629111271285    USDC: 25.0000, ETH: 0.0180   \n",
       "78    1.801637977156223516255679446    ETH: 0.0100, USDC: 41.8461   \n",
       "85    2.540052728000000052315954235     ETH: 0.0288, DAI: 29.9700   \n",
       "91            1.2876930467052837221   USDC: 10.0000, DAI: 28.6308   \n",
       "92    1.377563578521771705936757581    ETH: 0.0070, USDC: 30.0492   \n",
       "94    1.984819308411214953271028037                USDC: 212.3757   \n",
       "104   2.097383406405378000000000000                   ETH: 0.0240   \n",
       "110   1.433529547157525772731870653    USDT: 25.2000, ETH: 0.0360   \n",
       "111   1.380763962150512859452398531   USDT: 19.8000, wBTC: 0.0020   \n",
       "112   1.213122537542916256782600041    USDC: 10.0043, ETH: 0.0165   \n",
       "121   1.211878708885992500337264460    ETH: 0.0100, USDC: 31.3452   \n",
       "125   1.332333365250381620844490629                 USDT: 40.1991   \n",
       "126   1.293007438484745405619768261   ETH: 0.0500, USDC: 273.0939   \n",
       "127   1.371912466666666666666666667                 USDC: 41.1574   \n",
       "128   1.332333361254333373656375695                 USDC: 40.6080   \n",
       "129                  1.333591695000  DAI: 68.2685, USDC: 198.4498   \n",
       "\n",
       "         Borrowings  \n",
       "1       ETH: 0.0180  \n",
       "2     USDC: 30.0000  \n",
       "7       ETH: 0.0200  \n",
       "11      ETH: 0.0200  \n",
       "13    USDT: 30.0000  \n",
       "23    USDC: 31.0000  \n",
       "25    USDT: 30.8187  \n",
       "29    USDT: 35.5887  \n",
       "30      ETH: 0.0180  \n",
       "45   USDC: 166.5290  \n",
       "49    USDC: 30.0000  \n",
       "50     DAI: 30.0000  \n",
       "51    USDC: 35.0000  \n",
       "55      ETH: 0.0188  \n",
       "58      ETH: 0.0300  \n",
       "59    DAI: 100.0000  \n",
       "61    USDT: 30.0000  \n",
       "66    USDC: 30.1661  \n",
       "67      ETH: 0.0200  \n",
       "68    USDC: 40.0000  \n",
       "69    USDC: 50.0000  \n",
       "72      ETH: 0.0180  \n",
       "78      ETH: 0.0200  \n",
       "85     DAI: 30.0000  \n",
       "91    USDC: 30.0000  \n",
       "92    USDT: 30.0000  \n",
       "94   USDC: 107.0000  \n",
       "104     ETH: 0.0180  \n",
       "110     ETH: 0.0361  \n",
       "111    wBTC: 0.0020  \n",
       "112    DAI: 30.1284  \n",
       "121    wBTC: 0.0015  \n",
       "125   USDT: 30.1720  \n",
       "126  USDC: 273.3672  \n",
       "127   USDC: 30.0000  \n",
       "128   USDC: 30.4789  \n",
       "129  USDC: 200.0000  "
      ]
     },
     "execution_count": 24,
     "metadata": {},
     "output_type": "execute_result"
    }
   ],
   "source": [
    "hashstack_loan_stats = pandas.DataFrame()\n",
    "hashstack_loan_stats['User'] = [user for user, user_state in state.user_states.items() for _ in user_state.loans.keys()]\n",
    "hashstack_loan_stats['Loan ID'] = [loan_id for user_state in state.user_states.values() for loan_id in user_state.loans.keys()]\n",
    "hashstack_loan_stats['Borrowing in USD'] = hashstack_loan_stats.apply(\n",
    "    lambda x: compute_borrowings_amount_usd(borrowings = state.user_states[x['User']].loans[x['Loan ID']].borrowings, prices = prices.prices),\n",
    "    axis = 1,\n",
    ")\n",
    "hashstack_loan_stats = hashstack_loan_stats[hashstack_loan_stats['Borrowing in USD'] > decimal.Decimal(\"0\")]\n",
    "hashstack_loan_stats['Risk adjusted collateral in USD'] = hashstack_loan_stats.apply(\n",
    "    lambda x: \n",
    "        compute_collateral_current_amount_usd(collateral = state.user_states[x['User']].loans[x['Loan ID']].collateral, prices = prices.prices)\n",
    "        + compute_borrowings_current_amount_usd(borrowings = state.user_states[x['User']].loans[x['Loan ID']].borrowings, prices = prices.prices),\n",
    "    axis = 1,\n",
    ")\n",
    "hashstack_loan_stats['Health factor'] = hashstack_loan_stats.apply(\n",
    "    lambda x: compute_health_factor(\n",
    "        borrowings = state.user_states[x['User']].loans[x['Loan ID']].borrowings,\n",
    "        collateral = state.user_states[x['User']].loans[x['Loan ID']].collateral,\n",
    "        prices = prices.prices,\n",
    "        user = x['User'],\n",
    "    ),\n",
    "    axis = 1,\n",
    ")\n",
    "\n",
    "\n",
    "def get_collateral_str(loan: HashStackLoan) -> str:\n",
    "    if loan.collateral.market == loan.borrowings.current_market:\n",
    "        return (\n",
    "            str(loan.collateral.market)\n",
    "            + \": \"\n",
    "            + str(\n",
    "                format(\n",
    "                    (\n",
    "                        loan.collateral.amount\n",
    "                        + loan.borrowings.current_amount\n",
    "                    ) / (\n",
    "                        10 ** src.constants.symbol_decimals_map[loan.collateral.market]\n",
    "                    ),\n",
    "                    \".4f\",\n",
    "                )\n",
    "            )\n",
    "        )\n",
    "    return (\n",
    "        str(loan.collateral.market)\n",
    "        + \": \"\n",
    "        + str(\n",
    "            format(\n",
    "                loan.collateral.amount / (\n",
    "                    10 ** src.constants.symbol_decimals_map[loan.collateral.market]\n",
    "                ),\n",
    "                \".4f\",\n",
    "            )\n",
    "        )\n",
    "        + \", \"\n",
    "        + str(loan.borrowings.current_market)\n",
    "        + \": \"\n",
    "        + str(\n",
    "            format(\n",
    "                loan.borrowings.current_amount / (\n",
    "                    10 ** src.constants.symbol_decimals_map[loan.borrowings.current_market]\n",
    "                ),\n",
    "                \".4f\",\n",
    "            )\n",
    "        )\n",
    "    )\n",
    "\n",
    "\n",
    "hashstack_loan_stats['Collateral'] = hashstack_loan_stats.apply(\n",
    "    lambda x: get_collateral_str(loan = state.user_states[x['User']].loans[x['Loan ID']]),\n",
    "    axis = 1,\n",
    ")\n",
    "hashstack_loan_stats['Borrowings'] = hashstack_loan_stats.apply(\n",
    "    lambda x: (\n",
    "        str(state.user_states[x['User']].loans[x['Loan ID']].borrowings.market)\n",
    "        + \": \"\n",
    "        + str(\n",
    "            format(\n",
    "                state.user_states[x[\"User\"]].loans[x[\"Loan ID\"]].borrowings.amount / (\n",
    "                    10 ** src.constants.symbol_decimals_map[state.user_states[x['User']].loans[x['Loan ID']].borrowings.market]\n",
    "                ),\n",
    "                \".4f\",\n",
    "            )\n",
    "        )\n",
    "    ),\n",
    "    axis = 1,\n",
    ")\n",
    "hashstack_loan_stats.drop(columns = [\"Loan ID\"], inplace = True)\n",
    "# hashstack_loan_stats.loc[\n",
    "#     hashstack_loan_stats['Borrowing in USD'] >= decimal.Decimal('100')\n",
    "# ].sort_values('Health factor').iloc[:20].to_csv(\"hashstack_data/large_loans_sample.csv\", index=False, compression='gzip')\n",
    "# hashstack_loan_stats.loc[\n",
    "#     hashstack_loan_stats['Borrowing in USD'] < decimal.Decimal('100')\n",
    "# ].sort_values('Health factor').iloc[:20].to_csv(\"hashstack_data/small_loans_sample.csv\", index=False, compression='gzip')\n",
    "\n",
    "hashstack_loan_stats"
   ]
  },
  {
   "cell_type": "code",
   "execution_count": 27,
   "id": "a1bec37d",
   "metadata": {},
   "outputs": [
    {
     "data": {
      "application/vnd.plotly.v1+json": {
       "config": {
        "plotlyServerURL": "https://plot.ly"
       },
       "data": [
        {
         "alignmentgroup": "True",
         "bingroup": "x",
         "hovertemplate": "Health factor=%{x}<br>count=%{y}<extra></extra>",
         "legendgroup": "",
         "marker": {
          "color": "#636efa",
          "pattern": {
           "shape": ""
          }
         },
         "name": "",
         "nbinsx": 100,
         "offsetgroup": "",
         "orientation": "v",
         "showlegend": false,
         "type": "histogram",
         "x": [
          1.5413114301986388,
          1.5348133333333334,
          1.4434598311388898,
          1.2489999999999941,
          1.2443395468461644,
          1.353619064516129,
          0.3115231359834852,
          1.0532617697405078,
          2.2070555555555558,
          0.28866975614954343,
          1.2250638942219427,
          1.237658630897537,
          1.2837465142857143,
          1.3323333333333334,
          1.5817362389887024,
          1.3071002334188293,
          2.501224966666667,
          0.909027691078064,
          1.999,
          2.167195436670125,
          4.2138800000000005,
          1.8630377798791176,
          1.8016379771562234,
          2.540052728,
          1.2876930467052836,
          1.3775635785217717,
          1.984819308411215,
          2.097383406405378,
          1.4335295471575258,
          1.3807639621505128,
          1.2131225375429162,
          1.2118787088859926,
          1.3323333652503817,
          1.2930074384847454,
          1.3719124666666667,
          1.3323333612543333,
          1.333591695
         ],
         "xaxis": "x",
         "yaxis": "y"
        }
       ],
       "layout": {
        "barmode": "relative",
        "legend": {
         "tracegroupgap": 0
        },
        "template": {
         "data": {
          "bar": [
           {
            "error_x": {
             "color": "#2a3f5f"
            },
            "error_y": {
             "color": "#2a3f5f"
            },
            "marker": {
             "line": {
              "color": "#E5ECF6",
              "width": 0.5
             },
             "pattern": {
              "fillmode": "overlay",
              "size": 10,
              "solidity": 0.2
             }
            },
            "type": "bar"
           }
          ],
          "barpolar": [
           {
            "marker": {
             "line": {
              "color": "#E5ECF6",
              "width": 0.5
             },
             "pattern": {
              "fillmode": "overlay",
              "size": 10,
              "solidity": 0.2
             }
            },
            "type": "barpolar"
           }
          ],
          "carpet": [
           {
            "aaxis": {
             "endlinecolor": "#2a3f5f",
             "gridcolor": "white",
             "linecolor": "white",
             "minorgridcolor": "white",
             "startlinecolor": "#2a3f5f"
            },
            "baxis": {
             "endlinecolor": "#2a3f5f",
             "gridcolor": "white",
             "linecolor": "white",
             "minorgridcolor": "white",
             "startlinecolor": "#2a3f5f"
            },
            "type": "carpet"
           }
          ],
          "choropleth": [
           {
            "colorbar": {
             "outlinewidth": 0,
             "ticks": ""
            },
            "type": "choropleth"
           }
          ],
          "contour": [
           {
            "colorbar": {
             "outlinewidth": 0,
             "ticks": ""
            },
            "colorscale": [
             [
              0,
              "#0d0887"
             ],
             [
              0.1111111111111111,
              "#46039f"
             ],
             [
              0.2222222222222222,
              "#7201a8"
             ],
             [
              0.3333333333333333,
              "#9c179e"
             ],
             [
              0.4444444444444444,
              "#bd3786"
             ],
             [
              0.5555555555555556,
              "#d8576b"
             ],
             [
              0.6666666666666666,
              "#ed7953"
             ],
             [
              0.7777777777777778,
              "#fb9f3a"
             ],
             [
              0.8888888888888888,
              "#fdca26"
             ],
             [
              1,
              "#f0f921"
             ]
            ],
            "type": "contour"
           }
          ],
          "contourcarpet": [
           {
            "colorbar": {
             "outlinewidth": 0,
             "ticks": ""
            },
            "type": "contourcarpet"
           }
          ],
          "heatmap": [
           {
            "colorbar": {
             "outlinewidth": 0,
             "ticks": ""
            },
            "colorscale": [
             [
              0,
              "#0d0887"
             ],
             [
              0.1111111111111111,
              "#46039f"
             ],
             [
              0.2222222222222222,
              "#7201a8"
             ],
             [
              0.3333333333333333,
              "#9c179e"
             ],
             [
              0.4444444444444444,
              "#bd3786"
             ],
             [
              0.5555555555555556,
              "#d8576b"
             ],
             [
              0.6666666666666666,
              "#ed7953"
             ],
             [
              0.7777777777777778,
              "#fb9f3a"
             ],
             [
              0.8888888888888888,
              "#fdca26"
             ],
             [
              1,
              "#f0f921"
             ]
            ],
            "type": "heatmap"
           }
          ],
          "heatmapgl": [
           {
            "colorbar": {
             "outlinewidth": 0,
             "ticks": ""
            },
            "colorscale": [
             [
              0,
              "#0d0887"
             ],
             [
              0.1111111111111111,
              "#46039f"
             ],
             [
              0.2222222222222222,
              "#7201a8"
             ],
             [
              0.3333333333333333,
              "#9c179e"
             ],
             [
              0.4444444444444444,
              "#bd3786"
             ],
             [
              0.5555555555555556,
              "#d8576b"
             ],
             [
              0.6666666666666666,
              "#ed7953"
             ],
             [
              0.7777777777777778,
              "#fb9f3a"
             ],
             [
              0.8888888888888888,
              "#fdca26"
             ],
             [
              1,
              "#f0f921"
             ]
            ],
            "type": "heatmapgl"
           }
          ],
          "histogram": [
           {
            "marker": {
             "pattern": {
              "fillmode": "overlay",
              "size": 10,
              "solidity": 0.2
             }
            },
            "type": "histogram"
           }
          ],
          "histogram2d": [
           {
            "colorbar": {
             "outlinewidth": 0,
             "ticks": ""
            },
            "colorscale": [
             [
              0,
              "#0d0887"
             ],
             [
              0.1111111111111111,
              "#46039f"
             ],
             [
              0.2222222222222222,
              "#7201a8"
             ],
             [
              0.3333333333333333,
              "#9c179e"
             ],
             [
              0.4444444444444444,
              "#bd3786"
             ],
             [
              0.5555555555555556,
              "#d8576b"
             ],
             [
              0.6666666666666666,
              "#ed7953"
             ],
             [
              0.7777777777777778,
              "#fb9f3a"
             ],
             [
              0.8888888888888888,
              "#fdca26"
             ],
             [
              1,
              "#f0f921"
             ]
            ],
            "type": "histogram2d"
           }
          ],
          "histogram2dcontour": [
           {
            "colorbar": {
             "outlinewidth": 0,
             "ticks": ""
            },
            "colorscale": [
             [
              0,
              "#0d0887"
             ],
             [
              0.1111111111111111,
              "#46039f"
             ],
             [
              0.2222222222222222,
              "#7201a8"
             ],
             [
              0.3333333333333333,
              "#9c179e"
             ],
             [
              0.4444444444444444,
              "#bd3786"
             ],
             [
              0.5555555555555556,
              "#d8576b"
             ],
             [
              0.6666666666666666,
              "#ed7953"
             ],
             [
              0.7777777777777778,
              "#fb9f3a"
             ],
             [
              0.8888888888888888,
              "#fdca26"
             ],
             [
              1,
              "#f0f921"
             ]
            ],
            "type": "histogram2dcontour"
           }
          ],
          "mesh3d": [
           {
            "colorbar": {
             "outlinewidth": 0,
             "ticks": ""
            },
            "type": "mesh3d"
           }
          ],
          "parcoords": [
           {
            "line": {
             "colorbar": {
              "outlinewidth": 0,
              "ticks": ""
             }
            },
            "type": "parcoords"
           }
          ],
          "pie": [
           {
            "automargin": true,
            "type": "pie"
           }
          ],
          "scatter": [
           {
            "fillpattern": {
             "fillmode": "overlay",
             "size": 10,
             "solidity": 0.2
            },
            "type": "scatter"
           }
          ],
          "scatter3d": [
           {
            "line": {
             "colorbar": {
              "outlinewidth": 0,
              "ticks": ""
             }
            },
            "marker": {
             "colorbar": {
              "outlinewidth": 0,
              "ticks": ""
             }
            },
            "type": "scatter3d"
           }
          ],
          "scattercarpet": [
           {
            "marker": {
             "colorbar": {
              "outlinewidth": 0,
              "ticks": ""
             }
            },
            "type": "scattercarpet"
           }
          ],
          "scattergeo": [
           {
            "marker": {
             "colorbar": {
              "outlinewidth": 0,
              "ticks": ""
             }
            },
            "type": "scattergeo"
           }
          ],
          "scattergl": [
           {
            "marker": {
             "colorbar": {
              "outlinewidth": 0,
              "ticks": ""
             }
            },
            "type": "scattergl"
           }
          ],
          "scattermapbox": [
           {
            "marker": {
             "colorbar": {
              "outlinewidth": 0,
              "ticks": ""
             }
            },
            "type": "scattermapbox"
           }
          ],
          "scatterpolar": [
           {
            "marker": {
             "colorbar": {
              "outlinewidth": 0,
              "ticks": ""
             }
            },
            "type": "scatterpolar"
           }
          ],
          "scatterpolargl": [
           {
            "marker": {
             "colorbar": {
              "outlinewidth": 0,
              "ticks": ""
             }
            },
            "type": "scatterpolargl"
           }
          ],
          "scatterternary": [
           {
            "marker": {
             "colorbar": {
              "outlinewidth": 0,
              "ticks": ""
             }
            },
            "type": "scatterternary"
           }
          ],
          "surface": [
           {
            "colorbar": {
             "outlinewidth": 0,
             "ticks": ""
            },
            "colorscale": [
             [
              0,
              "#0d0887"
             ],
             [
              0.1111111111111111,
              "#46039f"
             ],
             [
              0.2222222222222222,
              "#7201a8"
             ],
             [
              0.3333333333333333,
              "#9c179e"
             ],
             [
              0.4444444444444444,
              "#bd3786"
             ],
             [
              0.5555555555555556,
              "#d8576b"
             ],
             [
              0.6666666666666666,
              "#ed7953"
             ],
             [
              0.7777777777777778,
              "#fb9f3a"
             ],
             [
              0.8888888888888888,
              "#fdca26"
             ],
             [
              1,
              "#f0f921"
             ]
            ],
            "type": "surface"
           }
          ],
          "table": [
           {
            "cells": {
             "fill": {
              "color": "#EBF0F8"
             },
             "line": {
              "color": "white"
             }
            },
            "header": {
             "fill": {
              "color": "#C8D4E3"
             },
             "line": {
              "color": "white"
             }
            },
            "type": "table"
           }
          ]
         },
         "layout": {
          "annotationdefaults": {
           "arrowcolor": "#2a3f5f",
           "arrowhead": 0,
           "arrowwidth": 1
          },
          "autotypenumbers": "strict",
          "coloraxis": {
           "colorbar": {
            "outlinewidth": 0,
            "ticks": ""
           }
          },
          "colorscale": {
           "diverging": [
            [
             0,
             "#8e0152"
            ],
            [
             0.1,
             "#c51b7d"
            ],
            [
             0.2,
             "#de77ae"
            ],
            [
             0.3,
             "#f1b6da"
            ],
            [
             0.4,
             "#fde0ef"
            ],
            [
             0.5,
             "#f7f7f7"
            ],
            [
             0.6,
             "#e6f5d0"
            ],
            [
             0.7,
             "#b8e186"
            ],
            [
             0.8,
             "#7fbc41"
            ],
            [
             0.9,
             "#4d9221"
            ],
            [
             1,
             "#276419"
            ]
           ],
           "sequential": [
            [
             0,
             "#0d0887"
            ],
            [
             0.1111111111111111,
             "#46039f"
            ],
            [
             0.2222222222222222,
             "#7201a8"
            ],
            [
             0.3333333333333333,
             "#9c179e"
            ],
            [
             0.4444444444444444,
             "#bd3786"
            ],
            [
             0.5555555555555556,
             "#d8576b"
            ],
            [
             0.6666666666666666,
             "#ed7953"
            ],
            [
             0.7777777777777778,
             "#fb9f3a"
            ],
            [
             0.8888888888888888,
             "#fdca26"
            ],
            [
             1,
             "#f0f921"
            ]
           ],
           "sequentialminus": [
            [
             0,
             "#0d0887"
            ],
            [
             0.1111111111111111,
             "#46039f"
            ],
            [
             0.2222222222222222,
             "#7201a8"
            ],
            [
             0.3333333333333333,
             "#9c179e"
            ],
            [
             0.4444444444444444,
             "#bd3786"
            ],
            [
             0.5555555555555556,
             "#d8576b"
            ],
            [
             0.6666666666666666,
             "#ed7953"
            ],
            [
             0.7777777777777778,
             "#fb9f3a"
            ],
            [
             0.8888888888888888,
             "#fdca26"
            ],
            [
             1,
             "#f0f921"
            ]
           ]
          },
          "colorway": [
           "#636efa",
           "#EF553B",
           "#00cc96",
           "#ab63fa",
           "#FFA15A",
           "#19d3f3",
           "#FF6692",
           "#B6E880",
           "#FF97FF",
           "#FECB52"
          ],
          "font": {
           "color": "#2a3f5f"
          },
          "geo": {
           "bgcolor": "white",
           "lakecolor": "white",
           "landcolor": "#E5ECF6",
           "showlakes": true,
           "showland": true,
           "subunitcolor": "white"
          },
          "hoverlabel": {
           "align": "left"
          },
          "hovermode": "closest",
          "mapbox": {
           "style": "light"
          },
          "paper_bgcolor": "white",
          "plot_bgcolor": "#E5ECF6",
          "polar": {
           "angularaxis": {
            "gridcolor": "white",
            "linecolor": "white",
            "ticks": ""
           },
           "bgcolor": "#E5ECF6",
           "radialaxis": {
            "gridcolor": "white",
            "linecolor": "white",
            "ticks": ""
           }
          },
          "scene": {
           "xaxis": {
            "backgroundcolor": "#E5ECF6",
            "gridcolor": "white",
            "gridwidth": 2,
            "linecolor": "white",
            "showbackground": true,
            "ticks": "",
            "zerolinecolor": "white"
           },
           "yaxis": {
            "backgroundcolor": "#E5ECF6",
            "gridcolor": "white",
            "gridwidth": 2,
            "linecolor": "white",
            "showbackground": true,
            "ticks": "",
            "zerolinecolor": "white"
           },
           "zaxis": {
            "backgroundcolor": "#E5ECF6",
            "gridcolor": "white",
            "gridwidth": 2,
            "linecolor": "white",
            "showbackground": true,
            "ticks": "",
            "zerolinecolor": "white"
           }
          },
          "shapedefaults": {
           "line": {
            "color": "#2a3f5f"
           }
          },
          "ternary": {
           "aaxis": {
            "gridcolor": "white",
            "linecolor": "white",
            "ticks": ""
           },
           "baxis": {
            "gridcolor": "white",
            "linecolor": "white",
            "ticks": ""
           },
           "bgcolor": "#E5ECF6",
           "caxis": {
            "gridcolor": "white",
            "linecolor": "white",
            "ticks": ""
           }
          },
          "title": {
           "x": 0.05
          },
          "xaxis": {
           "automargin": true,
           "gridcolor": "white",
           "linecolor": "white",
           "ticks": "",
           "title": {
            "standoff": 15
           },
           "zerolinecolor": "white",
           "zerolinewidth": 2
          },
          "yaxis": {
           "automargin": true,
           "gridcolor": "white",
           "linecolor": "white",
           "ticks": "",
           "title": {
            "standoff": 15
           },
           "zerolinecolor": "white",
           "zerolinewidth": 2
          }
         }
        },
        "title": {
         "text": "Health factor histogram"
        },
        "xaxis": {
         "anchor": "y",
         "domain": [
          0,
          1
         ],
         "title": {
          "text": "Health factor"
         }
        },
        "yaxis": {
         "anchor": "x",
         "domain": [
          0,
          1
         ],
         "title": {
          "text": "count"
         }
        }
       }
      },
      "text/html": [
       "<div>                            <div id=\"405d73e4-6933-4e3e-b458-e1f51a0d980d\" class=\"plotly-graph-div\" style=\"height:525px; width:100%;\"></div>            <script type=\"text/javascript\">                require([\"plotly\"], function(Plotly) {                    window.PLOTLYENV=window.PLOTLYENV || {};                                    if (document.getElementById(\"405d73e4-6933-4e3e-b458-e1f51a0d980d\")) {                    Plotly.newPlot(                        \"405d73e4-6933-4e3e-b458-e1f51a0d980d\",                        [{\"alignmentgroup\":\"True\",\"bingroup\":\"x\",\"hovertemplate\":\"Health factor=%{x}\\u003cbr\\u003ecount=%{y}\\u003cextra\\u003e\\u003c\\u002fextra\\u003e\",\"legendgroup\":\"\",\"marker\":{\"color\":\"#636efa\",\"pattern\":{\"shape\":\"\"}},\"name\":\"\",\"nbinsx\":100,\"offsetgroup\":\"\",\"orientation\":\"v\",\"showlegend\":false,\"x\":[1.5413114301986388,1.5348133333333334,1.4434598311388898,1.2489999999999941,1.2443395468461644,1.353619064516129,0.3115231359834852,1.0532617697405078,2.2070555555555558,0.28866975614954343,1.2250638942219427,1.237658630897537,1.2837465142857143,1.3323333333333334,1.5817362389887024,1.3071002334188293,2.501224966666667,0.909027691078064,1.999,2.167195436670125,4.2138800000000005,1.8630377798791176,1.8016379771562234,2.540052728,1.2876930467052836,1.3775635785217717,1.984819308411215,2.097383406405378,1.4335295471575258,1.3807639621505128,1.2131225375429162,1.2118787088859926,1.3323333652503817,1.2930074384847454,1.3719124666666667,1.3323333612543333,1.333591695],\"xaxis\":\"x\",\"yaxis\":\"y\",\"type\":\"histogram\"}],                        {\"template\":{\"data\":{\"histogram2dcontour\":[{\"type\":\"histogram2dcontour\",\"colorbar\":{\"outlinewidth\":0,\"ticks\":\"\"},\"colorscale\":[[0.0,\"#0d0887\"],[0.1111111111111111,\"#46039f\"],[0.2222222222222222,\"#7201a8\"],[0.3333333333333333,\"#9c179e\"],[0.4444444444444444,\"#bd3786\"],[0.5555555555555556,\"#d8576b\"],[0.6666666666666666,\"#ed7953\"],[0.7777777777777778,\"#fb9f3a\"],[0.8888888888888888,\"#fdca26\"],[1.0,\"#f0f921\"]]}],\"choropleth\":[{\"type\":\"choropleth\",\"colorbar\":{\"outlinewidth\":0,\"ticks\":\"\"}}],\"histogram2d\":[{\"type\":\"histogram2d\",\"colorbar\":{\"outlinewidth\":0,\"ticks\":\"\"},\"colorscale\":[[0.0,\"#0d0887\"],[0.1111111111111111,\"#46039f\"],[0.2222222222222222,\"#7201a8\"],[0.3333333333333333,\"#9c179e\"],[0.4444444444444444,\"#bd3786\"],[0.5555555555555556,\"#d8576b\"],[0.6666666666666666,\"#ed7953\"],[0.7777777777777778,\"#fb9f3a\"],[0.8888888888888888,\"#fdca26\"],[1.0,\"#f0f921\"]]}],\"heatmap\":[{\"type\":\"heatmap\",\"colorbar\":{\"outlinewidth\":0,\"ticks\":\"\"},\"colorscale\":[[0.0,\"#0d0887\"],[0.1111111111111111,\"#46039f\"],[0.2222222222222222,\"#7201a8\"],[0.3333333333333333,\"#9c179e\"],[0.4444444444444444,\"#bd3786\"],[0.5555555555555556,\"#d8576b\"],[0.6666666666666666,\"#ed7953\"],[0.7777777777777778,\"#fb9f3a\"],[0.8888888888888888,\"#fdca26\"],[1.0,\"#f0f921\"]]}],\"heatmapgl\":[{\"type\":\"heatmapgl\",\"colorbar\":{\"outlinewidth\":0,\"ticks\":\"\"},\"colorscale\":[[0.0,\"#0d0887\"],[0.1111111111111111,\"#46039f\"],[0.2222222222222222,\"#7201a8\"],[0.3333333333333333,\"#9c179e\"],[0.4444444444444444,\"#bd3786\"],[0.5555555555555556,\"#d8576b\"],[0.6666666666666666,\"#ed7953\"],[0.7777777777777778,\"#fb9f3a\"],[0.8888888888888888,\"#fdca26\"],[1.0,\"#f0f921\"]]}],\"contourcarpet\":[{\"type\":\"contourcarpet\",\"colorbar\":{\"outlinewidth\":0,\"ticks\":\"\"}}],\"contour\":[{\"type\":\"contour\",\"colorbar\":{\"outlinewidth\":0,\"ticks\":\"\"},\"colorscale\":[[0.0,\"#0d0887\"],[0.1111111111111111,\"#46039f\"],[0.2222222222222222,\"#7201a8\"],[0.3333333333333333,\"#9c179e\"],[0.4444444444444444,\"#bd3786\"],[0.5555555555555556,\"#d8576b\"],[0.6666666666666666,\"#ed7953\"],[0.7777777777777778,\"#fb9f3a\"],[0.8888888888888888,\"#fdca26\"],[1.0,\"#f0f921\"]]}],\"surface\":[{\"type\":\"surface\",\"colorbar\":{\"outlinewidth\":0,\"ticks\":\"\"},\"colorscale\":[[0.0,\"#0d0887\"],[0.1111111111111111,\"#46039f\"],[0.2222222222222222,\"#7201a8\"],[0.3333333333333333,\"#9c179e\"],[0.4444444444444444,\"#bd3786\"],[0.5555555555555556,\"#d8576b\"],[0.6666666666666666,\"#ed7953\"],[0.7777777777777778,\"#fb9f3a\"],[0.8888888888888888,\"#fdca26\"],[1.0,\"#f0f921\"]]}],\"mesh3d\":[{\"type\":\"mesh3d\",\"colorbar\":{\"outlinewidth\":0,\"ticks\":\"\"}}],\"scatter\":[{\"fillpattern\":{\"fillmode\":\"overlay\",\"size\":10,\"solidity\":0.2},\"type\":\"scatter\"}],\"parcoords\":[{\"type\":\"parcoords\",\"line\":{\"colorbar\":{\"outlinewidth\":0,\"ticks\":\"\"}}}],\"scatterpolargl\":[{\"type\":\"scatterpolargl\",\"marker\":{\"colorbar\":{\"outlinewidth\":0,\"ticks\":\"\"}}}],\"bar\":[{\"error_x\":{\"color\":\"#2a3f5f\"},\"error_y\":{\"color\":\"#2a3f5f\"},\"marker\":{\"line\":{\"color\":\"#E5ECF6\",\"width\":0.5},\"pattern\":{\"fillmode\":\"overlay\",\"size\":10,\"solidity\":0.2}},\"type\":\"bar\"}],\"scattergeo\":[{\"type\":\"scattergeo\",\"marker\":{\"colorbar\":{\"outlinewidth\":0,\"ticks\":\"\"}}}],\"scatterpolar\":[{\"type\":\"scatterpolar\",\"marker\":{\"colorbar\":{\"outlinewidth\":0,\"ticks\":\"\"}}}],\"histogram\":[{\"marker\":{\"pattern\":{\"fillmode\":\"overlay\",\"size\":10,\"solidity\":0.2}},\"type\":\"histogram\"}],\"scattergl\":[{\"type\":\"scattergl\",\"marker\":{\"colorbar\":{\"outlinewidth\":0,\"ticks\":\"\"}}}],\"scatter3d\":[{\"type\":\"scatter3d\",\"line\":{\"colorbar\":{\"outlinewidth\":0,\"ticks\":\"\"}},\"marker\":{\"colorbar\":{\"outlinewidth\":0,\"ticks\":\"\"}}}],\"scattermapbox\":[{\"type\":\"scattermapbox\",\"marker\":{\"colorbar\":{\"outlinewidth\":0,\"ticks\":\"\"}}}],\"scatterternary\":[{\"type\":\"scatterternary\",\"marker\":{\"colorbar\":{\"outlinewidth\":0,\"ticks\":\"\"}}}],\"scattercarpet\":[{\"type\":\"scattercarpet\",\"marker\":{\"colorbar\":{\"outlinewidth\":0,\"ticks\":\"\"}}}],\"carpet\":[{\"aaxis\":{\"endlinecolor\":\"#2a3f5f\",\"gridcolor\":\"white\",\"linecolor\":\"white\",\"minorgridcolor\":\"white\",\"startlinecolor\":\"#2a3f5f\"},\"baxis\":{\"endlinecolor\":\"#2a3f5f\",\"gridcolor\":\"white\",\"linecolor\":\"white\",\"minorgridcolor\":\"white\",\"startlinecolor\":\"#2a3f5f\"},\"type\":\"carpet\"}],\"table\":[{\"cells\":{\"fill\":{\"color\":\"#EBF0F8\"},\"line\":{\"color\":\"white\"}},\"header\":{\"fill\":{\"color\":\"#C8D4E3\"},\"line\":{\"color\":\"white\"}},\"type\":\"table\"}],\"barpolar\":[{\"marker\":{\"line\":{\"color\":\"#E5ECF6\",\"width\":0.5},\"pattern\":{\"fillmode\":\"overlay\",\"size\":10,\"solidity\":0.2}},\"type\":\"barpolar\"}],\"pie\":[{\"automargin\":true,\"type\":\"pie\"}]},\"layout\":{\"autotypenumbers\":\"strict\",\"colorway\":[\"#636efa\",\"#EF553B\",\"#00cc96\",\"#ab63fa\",\"#FFA15A\",\"#19d3f3\",\"#FF6692\",\"#B6E880\",\"#FF97FF\",\"#FECB52\"],\"font\":{\"color\":\"#2a3f5f\"},\"hovermode\":\"closest\",\"hoverlabel\":{\"align\":\"left\"},\"paper_bgcolor\":\"white\",\"plot_bgcolor\":\"#E5ECF6\",\"polar\":{\"bgcolor\":\"#E5ECF6\",\"angularaxis\":{\"gridcolor\":\"white\",\"linecolor\":\"white\",\"ticks\":\"\"},\"radialaxis\":{\"gridcolor\":\"white\",\"linecolor\":\"white\",\"ticks\":\"\"}},\"ternary\":{\"bgcolor\":\"#E5ECF6\",\"aaxis\":{\"gridcolor\":\"white\",\"linecolor\":\"white\",\"ticks\":\"\"},\"baxis\":{\"gridcolor\":\"white\",\"linecolor\":\"white\",\"ticks\":\"\"},\"caxis\":{\"gridcolor\":\"white\",\"linecolor\":\"white\",\"ticks\":\"\"}},\"coloraxis\":{\"colorbar\":{\"outlinewidth\":0,\"ticks\":\"\"}},\"colorscale\":{\"sequential\":[[0.0,\"#0d0887\"],[0.1111111111111111,\"#46039f\"],[0.2222222222222222,\"#7201a8\"],[0.3333333333333333,\"#9c179e\"],[0.4444444444444444,\"#bd3786\"],[0.5555555555555556,\"#d8576b\"],[0.6666666666666666,\"#ed7953\"],[0.7777777777777778,\"#fb9f3a\"],[0.8888888888888888,\"#fdca26\"],[1.0,\"#f0f921\"]],\"sequentialminus\":[[0.0,\"#0d0887\"],[0.1111111111111111,\"#46039f\"],[0.2222222222222222,\"#7201a8\"],[0.3333333333333333,\"#9c179e\"],[0.4444444444444444,\"#bd3786\"],[0.5555555555555556,\"#d8576b\"],[0.6666666666666666,\"#ed7953\"],[0.7777777777777778,\"#fb9f3a\"],[0.8888888888888888,\"#fdca26\"],[1.0,\"#f0f921\"]],\"diverging\":[[0,\"#8e0152\"],[0.1,\"#c51b7d\"],[0.2,\"#de77ae\"],[0.3,\"#f1b6da\"],[0.4,\"#fde0ef\"],[0.5,\"#f7f7f7\"],[0.6,\"#e6f5d0\"],[0.7,\"#b8e186\"],[0.8,\"#7fbc41\"],[0.9,\"#4d9221\"],[1,\"#276419\"]]},\"xaxis\":{\"gridcolor\":\"white\",\"linecolor\":\"white\",\"ticks\":\"\",\"title\":{\"standoff\":15},\"zerolinecolor\":\"white\",\"automargin\":true,\"zerolinewidth\":2},\"yaxis\":{\"gridcolor\":\"white\",\"linecolor\":\"white\",\"ticks\":\"\",\"title\":{\"standoff\":15},\"zerolinecolor\":\"white\",\"automargin\":true,\"zerolinewidth\":2},\"scene\":{\"xaxis\":{\"backgroundcolor\":\"#E5ECF6\",\"gridcolor\":\"white\",\"linecolor\":\"white\",\"showbackground\":true,\"ticks\":\"\",\"zerolinecolor\":\"white\",\"gridwidth\":2},\"yaxis\":{\"backgroundcolor\":\"#E5ECF6\",\"gridcolor\":\"white\",\"linecolor\":\"white\",\"showbackground\":true,\"ticks\":\"\",\"zerolinecolor\":\"white\",\"gridwidth\":2},\"zaxis\":{\"backgroundcolor\":\"#E5ECF6\",\"gridcolor\":\"white\",\"linecolor\":\"white\",\"showbackground\":true,\"ticks\":\"\",\"zerolinecolor\":\"white\",\"gridwidth\":2}},\"shapedefaults\":{\"line\":{\"color\":\"#2a3f5f\"}},\"annotationdefaults\":{\"arrowcolor\":\"#2a3f5f\",\"arrowhead\":0,\"arrowwidth\":1},\"geo\":{\"bgcolor\":\"white\",\"landcolor\":\"#E5ECF6\",\"subunitcolor\":\"white\",\"showland\":true,\"showlakes\":true,\"lakecolor\":\"white\"},\"title\":{\"x\":0.05},\"mapbox\":{\"style\":\"light\"}}},\"xaxis\":{\"anchor\":\"y\",\"domain\":[0.0,1.0],\"title\":{\"text\":\"Health factor\"}},\"yaxis\":{\"anchor\":\"x\",\"domain\":[0.0,1.0],\"title\":{\"text\":\"count\"}},\"legend\":{\"tracegroupgap\":0},\"title\":{\"text\":\"Health factor histogram\"},\"barmode\":\"relative\"},                        {\"responsive\": true}                    ).then(function(){\n",
       "                            \n",
       "var gd = document.getElementById('405d73e4-6933-4e3e-b458-e1f51a0d980d');\n",
       "var x = new MutationObserver(function (mutations, observer) {{\n",
       "        var display = window.getComputedStyle(gd).display;\n",
       "        if (!display || display === 'none') {{\n",
       "            console.log([gd, 'removed!']);\n",
       "            Plotly.purge(gd);\n",
       "            observer.disconnect();\n",
       "        }}\n",
       "}});\n",
       "\n",
       "// Listen for the removal of the full notebook cells\n",
       "var notebookContainer = gd.closest('#notebook-container');\n",
       "if (notebookContainer) {{\n",
       "    x.observe(notebookContainer, {childList: true});\n",
       "}}\n",
       "\n",
       "// Listen for the clearing of the current output cell\n",
       "var outputEl = gd.closest('.output');\n",
       "if (outputEl) {{\n",
       "    x.observe(outputEl, {childList: true});\n",
       "}}\n",
       "\n",
       "                        })                };                });            </script>        </div>"
      ]
     },
     "metadata": {},
     "output_type": "display_data"
    }
   ],
   "source": [
    "# TODO\n",
    "import plotly.express\n",
    "\n",
    "\n",
    "figure = plotly.express.histogram(\n",
    "    loan_stats.loc[loan_stats['Health factor'] < 5],#.astype(float),\n",
    "    x = 'Health factor',\n",
    "    nbins = 100,\n",
    "    title = 'Health factor histogram',\n",
    ")\n",
    "figure.show()"
   ]
  },
  {
   "cell_type": "code",
   "execution_count": 16,
   "id": "d8ad8c5f",
   "metadata": {},
   "outputs": [
    {
     "data": {
      "text/plain": [
       "{'wBTC - wBTC': 1,\n",
       " 'wBTC - ETH': 1,\n",
       " 'wBTC - USDC': 0,\n",
       " 'wBTC - DAI': 0,\n",
       " 'wBTC - USDT': 1,\n",
       " 'ETH - wBTC': 0,\n",
       " 'ETH - ETH': 23,\n",
       " 'ETH - USDC': 2,\n",
       " 'ETH - DAI': 0,\n",
       " 'ETH - USDT': 7,\n",
       " 'USDC - wBTC': 1,\n",
       " 'USDC - ETH': 21,\n",
       " 'USDC - USDC': 19,\n",
       " 'USDC - DAI': 1,\n",
       " 'USDC - USDT': 3,\n",
       " 'DAI - wBTC': 0,\n",
       " 'DAI - ETH': 4,\n",
       " 'DAI - USDC': 2,\n",
       " 'DAI - DAI': 0,\n",
       " 'DAI - USDT': 1,\n",
       " 'USDT - wBTC': 0,\n",
       " 'USDT - ETH': 26,\n",
       " 'USDT - USDC': 8,\n",
       " 'USDT - DAI': 0,\n",
       " 'USDT - USDT': 9}"
      ]
     },
     "execution_count": 16,
     "metadata": {},
     "output_type": "execute_result"
    }
   ],
   "source": [
    "# TODO: check numbers of borrowings-collateral token pairs\n",
    "import itertools\n",
    "\n",
    "\n",
    "counts = {}\n",
    "for b, c in itertools.product(['wBTC', 'ETH', 'USDC', 'DAI', 'USDT'], ['wBTC', 'ETH', 'USDC', 'DAI', 'USDT']):\n",
    "    count = 0\n",
    "    for user, user_state in state.user_states.items():\n",
    "        for loan_id, loan in user_state.loans.items():\n",
    "            if loan.borrowings.market == b and loan.collateral.market == c:\n",
    "                count += 1\n",
    "    counts[f'{b} - {c}'] = count\n",
    "counts"
   ]
  },
  {
   "cell_type": "markdown",
   "id": "d1c00ee1",
   "metadata": {},
   "source": [
    "# Compute max liquidated borrowings\n",
    "\n",
    "TODO: This part is new. Will be refactored."
   ]
  },
  {
   "cell_type": "code",
   "execution_count": 17,
   "id": "08bb2abb",
   "metadata": {},
   "outputs": [],
   "source": [
    "# TODO\n",
    "# TODO: compute_health_factor, etc. should be methods of class UserState\n",
    "def compute_borrowings_to_be_liquidated(\n",
    "    risk_adjusted_collateral_usd: decimal.Decimal,\n",
    "    borrowings_usd: decimal.Decimal,\n",
    "    borrowings_token_price: decimal.Decimal,\n",
    "    collateral_token_collateral_factor: decimal.Decimal,\n",
    "    collateral_token_liquidation_bonus: decimal.Decimal,\n",
    ") -> decimal.Decimal:\n",
    "    # TODO: commit the derivation of the formula in a document?\n",
    "    numerator = borrowings_usd - risk_adjusted_collateral_usd\n",
    "    denominator = borrowings_token_price * (\n",
    "        1 - collateral_token_collateral_factor * (\n",
    "            1 + collateral_token_liquidation_bonus\n",
    "        )\n",
    "    )\n",
    "    return numerator / denominator\n",
    "\n",
    "\n",
    "def compute_max_liquidated_amount(\n",
    "    state: State,\n",
    "    prices: Dict[str, decimal.Decimal],\n",
    "    borrowings_token: str,\n",
    ") -> decimal.Decimal:\n",
    "    liquidated_borrowings_amount = decimal.Decimal('0')\n",
    "    for user, user_state in state.user_states.items():\n",
    "        for loan_id, loan in user_state.loans.items():\n",
    "            # TODO: do this?\n",
    "            # Filter out users who borrowed the token of interest.\n",
    "            if borrowings_token != loan.borrowings.market:\n",
    "                continue\n",
    "\n",
    "            # Filter out users with health below 1.\n",
    "            borrowings_amount_usd = compute_borrowings_amount_usd(borrowings = loan.borrowings, prices = prices)\n",
    "            health_factor = compute_health_factor(borrowings = loan.borrowings, collateral = loan.collateral, prices = prices, user = user)\n",
    "            # TODO: this should be a method of the borrowings class\n",
    "            health_factor_liquidation_threshold = decimal.Decimal('1.06') if loan.borrowings.debt_category == 1 \\\n",
    "                else decimal.Decimal('1.05') if loan.borrowings.debt_category == 2 \\\n",
    "                else decimal.Decimal('1.04')\n",
    "            if health_factor >= health_factor_liquidation_threshold:\n",
    "                continue\n",
    "\n",
    "            # TODO: find out how much of the borrowings_token will be liquidated\n",
    "            liquidated_borrowings_amount += borrowings_amount_usd\n",
    "    return liquidated_borrowings_amount"
   ]
  },
  {
   "cell_type": "markdown",
   "id": "9f0707f7",
   "metadata": {},
   "source": [
    "## Single price change"
   ]
  },
  {
   "cell_type": "code",
   "execution_count": 18,
   "id": "68ea2953",
   "metadata": {},
   "outputs": [
    {
     "data": {
      "text/plain": [
       "Decimal('196.695093')"
      ]
     },
     "execution_count": 18,
     "metadata": {},
     "output_type": "execute_result"
    }
   ],
   "source": [
    "# TODO\n",
    "# TODO: adjust prices and observe the amounts\n",
    "import copy\n",
    "\n",
    "\n",
    "COLLATERAL_TOKEN = 'ETH'\n",
    "BORROWINGS_TOKEN = 'USDC'\n",
    "COLLATERAL_TOKEN_PRICE = decimal.Decimal('1500')\n",
    "\n",
    "\n",
    "def simulate_liquidations_under_absolute_price_change(\n",
    "    prices: src.swap_liquidity.Prices,\n",
    "    collateral_token: str,\n",
    "    collateral_token_price: decimal.Decimal,\n",
    "    state: State,\n",
    "    borrowings_token: str,\n",
    ") -> decimal.Decimal:\n",
    "    changed_prices = copy.deepcopy(prices.prices)\n",
    "    changed_prices[collateral_token] = collateral_token_price\n",
    "    return compute_max_liquidated_amount(state = state, prices = changed_prices, borrowings_token = borrowings_token)\n",
    "\n",
    "\n",
    "simulate_liquidations_under_absolute_price_change(\n",
    "    prices = prices,\n",
    "    collateral_token = COLLATERAL_TOKEN,\n",
    "    collateral_token_price = COLLATERAL_TOKEN_PRICE,\n",
    "    state = state,\n",
    "    borrowings_token = BORROWINGS_TOKEN,\n",
    ")"
   ]
  },
  {
   "cell_type": "markdown",
   "id": "b2fe813a",
   "metadata": {},
   "source": [
    "## Range of price changes"
   ]
  },
  {
   "cell_type": "markdown",
   "id": "866b0a77",
   "metadata": {},
   "source": [
    "### Nominal price change"
   ]
  },
  {
   "cell_type": "code",
   "execution_count": 19,
   "id": "c9ccdd0b",
   "metadata": {},
   "outputs": [
    {
     "data": {
      "text/html": [
       "<div>\n",
       "<style scoped>\n",
       "    .dataframe tbody tr th:only-of-type {\n",
       "        vertical-align: middle;\n",
       "    }\n",
       "\n",
       "    .dataframe tbody tr th {\n",
       "        vertical-align: top;\n",
       "    }\n",
       "\n",
       "    .dataframe thead th {\n",
       "        text-align: right;\n",
       "    }\n",
       "</style>\n",
       "<table border=\"1\" class=\"dataframe\">\n",
       "  <thead>\n",
       "    <tr style=\"text-align: right;\">\n",
       "      <th></th>\n",
       "      <th>collateral_token_price</th>\n",
       "      <th>max_borrowings_to_be_liquidated</th>\n",
       "      <th>max_borrowings_to_be_liquidated_at_interval</th>\n",
       "    </tr>\n",
       "  </thead>\n",
       "  <tbody>\n",
       "    <tr>\n",
       "      <th>1</th>\n",
       "      <td>50</td>\n",
       "      <td>126.3291518206379954255764719</td>\n",
       "      <td>0E-25</td>\n",
       "    </tr>\n",
       "    <tr>\n",
       "      <th>2</th>\n",
       "      <td>100</td>\n",
       "      <td>126.3291518206379954255764719</td>\n",
       "      <td>0E-25</td>\n",
       "    </tr>\n",
       "    <tr>\n",
       "      <th>3</th>\n",
       "      <td>150</td>\n",
       "      <td>126.3291518206379954255764719</td>\n",
       "      <td>0E-25</td>\n",
       "    </tr>\n",
       "    <tr>\n",
       "      <th>4</th>\n",
       "      <td>200</td>\n",
       "      <td>96.34772182063799651121471790</td>\n",
       "      <td>29.98142999999999891436175400</td>\n",
       "    </tr>\n",
       "    <tr>\n",
       "      <th>5</th>\n",
       "      <td>250</td>\n",
       "      <td>96.34772182063799651121471790</td>\n",
       "      <td>0E-26</td>\n",
       "    </tr>\n",
       "    <tr>\n",
       "      <th>6</th>\n",
       "      <td>300</td>\n",
       "      <td>96.34772182063799651121471790</td>\n",
       "      <td>0E-26</td>\n",
       "    </tr>\n",
       "    <tr>\n",
       "      <th>7</th>\n",
       "      <td>350</td>\n",
       "      <td>96.34772182063799651121471790</td>\n",
       "      <td>0E-26</td>\n",
       "    </tr>\n",
       "    <tr>\n",
       "      <th>8</th>\n",
       "      <td>400</td>\n",
       "      <td>96.34772182063799651121471790</td>\n",
       "      <td>0E-26</td>\n",
       "    </tr>\n",
       "    <tr>\n",
       "      <th>9</th>\n",
       "      <td>450</td>\n",
       "      <td>96.34772182063799651121471790</td>\n",
       "      <td>0E-26</td>\n",
       "    </tr>\n",
       "    <tr>\n",
       "      <th>10</th>\n",
       "      <td>500</td>\n",
       "      <td>96.34772182063799651121471790</td>\n",
       "      <td>0E-26</td>\n",
       "    </tr>\n",
       "    <tr>\n",
       "      <th>11</th>\n",
       "      <td>550</td>\n",
       "      <td>96.34772182063799651121471790</td>\n",
       "      <td>0E-26</td>\n",
       "    </tr>\n",
       "    <tr>\n",
       "      <th>12</th>\n",
       "      <td>600</td>\n",
       "      <td>96.34772182063799651121471790</td>\n",
       "      <td>0E-26</td>\n",
       "    </tr>\n",
       "    <tr>\n",
       "      <th>13</th>\n",
       "      <td>650</td>\n",
       "      <td>96.34772182063799651121471790</td>\n",
       "      <td>0E-26</td>\n",
       "    </tr>\n",
       "    <tr>\n",
       "      <th>14</th>\n",
       "      <td>700</td>\n",
       "      <td>96.34772182063799651121471790</td>\n",
       "      <td>0E-26</td>\n",
       "    </tr>\n",
       "    <tr>\n",
       "      <th>15</th>\n",
       "      <td>750</td>\n",
       "      <td>96.34772182063799651121471790</td>\n",
       "      <td>0E-26</td>\n",
       "    </tr>\n",
       "    <tr>\n",
       "      <th>16</th>\n",
       "      <td>800</td>\n",
       "      <td>96.34772182063799651121471790</td>\n",
       "      <td>0E-26</td>\n",
       "    </tr>\n",
       "    <tr>\n",
       "      <th>17</th>\n",
       "      <td>850</td>\n",
       "      <td>96.34772182063799651121471790</td>\n",
       "      <td>0E-26</td>\n",
       "    </tr>\n",
       "    <tr>\n",
       "      <th>18</th>\n",
       "      <td>900</td>\n",
       "      <td>96.34772182063799651121471790</td>\n",
       "      <td>0E-26</td>\n",
       "    </tr>\n",
       "    <tr>\n",
       "      <th>19</th>\n",
       "      <td>950</td>\n",
       "      <td>96.34772182063799651121471790</td>\n",
       "      <td>0E-26</td>\n",
       "    </tr>\n",
       "    <tr>\n",
       "      <th>20</th>\n",
       "      <td>1000</td>\n",
       "      <td>66.36629182063799759685296387</td>\n",
       "      <td>29.98142999999999891436175403</td>\n",
       "    </tr>\n",
       "    <tr>\n",
       "      <th>21</th>\n",
       "      <td>1050</td>\n",
       "      <td>66.36629182063799759685296387</td>\n",
       "      <td>0E-26</td>\n",
       "    </tr>\n",
       "    <tr>\n",
       "      <th>22</th>\n",
       "      <td>1100</td>\n",
       "      <td>66.36629182063799759685296387</td>\n",
       "      <td>0E-26</td>\n",
       "    </tr>\n",
       "    <tr>\n",
       "      <th>23</th>\n",
       "      <td>1150</td>\n",
       "      <td>66.36629182063799759685296387</td>\n",
       "      <td>0E-26</td>\n",
       "    </tr>\n",
       "    <tr>\n",
       "      <th>24</th>\n",
       "      <td>1200</td>\n",
       "      <td>66.36629182063799759685296387</td>\n",
       "      <td>0E-26</td>\n",
       "    </tr>\n",
       "    <tr>\n",
       "      <th>25</th>\n",
       "      <td>1250</td>\n",
       "      <td>66.36629182063799759685296387</td>\n",
       "      <td>0E-26</td>\n",
       "    </tr>\n",
       "    <tr>\n",
       "      <th>26</th>\n",
       "      <td>1300</td>\n",
       "      <td>66.36629182063799759685296387</td>\n",
       "      <td>0E-26</td>\n",
       "    </tr>\n",
       "    <tr>\n",
       "      <th>27</th>\n",
       "      <td>1350</td>\n",
       "      <td>66.36629182063799759685296387</td>\n",
       "      <td>0E-26</td>\n",
       "    </tr>\n",
       "    <tr>\n",
       "      <th>28</th>\n",
       "      <td>1400</td>\n",
       "      <td>66.36629182063799759685296387</td>\n",
       "      <td>0E-26</td>\n",
       "    </tr>\n",
       "    <tr>\n",
       "      <th>29</th>\n",
       "      <td>1450</td>\n",
       "      <td>66.36629182063799759685296387</td>\n",
       "      <td>0E-26</td>\n",
       "    </tr>\n",
       "    <tr>\n",
       "      <th>30</th>\n",
       "      <td>1500</td>\n",
       "      <td>66.36629182063799759685296387</td>\n",
       "      <td>0E-26</td>\n",
       "    </tr>\n",
       "    <tr>\n",
       "      <th>31</th>\n",
       "      <td>1550</td>\n",
       "      <td>30.79962222531899888473472249</td>\n",
       "      <td>35.56666959531899871211824138</td>\n",
       "    </tr>\n",
       "    <tr>\n",
       "      <th>32</th>\n",
       "      <td>1600</td>\n",
       "      <td>30.79962222531899888473472249</td>\n",
       "      <td>0E-26</td>\n",
       "    </tr>\n",
       "    <tr>\n",
       "      <th>33</th>\n",
       "      <td>1650</td>\n",
       "      <td>30.79962222531899888473472249</td>\n",
       "      <td>0E-26</td>\n",
       "    </tr>\n",
       "    <tr>\n",
       "      <th>34</th>\n",
       "      <td>1700</td>\n",
       "      <td>30.79962222531899888473472249</td>\n",
       "      <td>0E-26</td>\n",
       "    </tr>\n",
       "    <tr>\n",
       "      <th>35</th>\n",
       "      <td>1750</td>\n",
       "      <td>30.79962222531899888473472249</td>\n",
       "      <td>0E-26</td>\n",
       "    </tr>\n",
       "    <tr>\n",
       "      <th>36</th>\n",
       "      <td>1800</td>\n",
       "      <td>30.79962222531899888473472249</td>\n",
       "      <td>0E-26</td>\n",
       "    </tr>\n",
       "    <tr>\n",
       "      <th>37</th>\n",
       "      <td>1850</td>\n",
       "      <td>30.79962222531899888473472249</td>\n",
       "      <td>0E-26</td>\n",
       "    </tr>\n",
       "    <tr>\n",
       "      <th>38</th>\n",
       "      <td>1900</td>\n",
       "      <td>30.79962222531899888473472249</td>\n",
       "      <td>0E-26</td>\n",
       "    </tr>\n",
       "    <tr>\n",
       "      <th>39</th>\n",
       "      <td>1950</td>\n",
       "      <td>30.79962222531899888473472249</td>\n",
       "      <td>0E-26</td>\n",
       "    </tr>\n",
       "    <tr>\n",
       "      <th>40</th>\n",
       "      <td>2000</td>\n",
       "      <td>30.79962222531899888473472249</td>\n",
       "      <td>0E-26</td>\n",
       "    </tr>\n",
       "    <tr>\n",
       "      <th>41</th>\n",
       "      <td>2050</td>\n",
       "      <td>30.79962222531899888473472249</td>\n",
       "      <td>0E-26</td>\n",
       "    </tr>\n",
       "    <tr>\n",
       "      <th>42</th>\n",
       "      <td>2100</td>\n",
       "      <td>30.79962222531899888473472249</td>\n",
       "      <td>0E-26</td>\n",
       "    </tr>\n",
       "    <tr>\n",
       "      <th>43</th>\n",
       "      <td>2150</td>\n",
       "      <td>30.79962222531899888473472249</td>\n",
       "      <td>0E-26</td>\n",
       "    </tr>\n",
       "    <tr>\n",
       "      <th>44</th>\n",
       "      <td>2200</td>\n",
       "      <td>30.79962222531899888473472249</td>\n",
       "      <td>0E-26</td>\n",
       "    </tr>\n",
       "    <tr>\n",
       "      <th>45</th>\n",
       "      <td>2250</td>\n",
       "      <td>30.79962222531899888473472249</td>\n",
       "      <td>0E-26</td>\n",
       "    </tr>\n",
       "    <tr>\n",
       "      <th>46</th>\n",
       "      <td>2300</td>\n",
       "      <td>30.79962222531899888473472249</td>\n",
       "      <td>0E-26</td>\n",
       "    </tr>\n",
       "    <tr>\n",
       "      <th>47</th>\n",
       "      <td>2350</td>\n",
       "      <td>30.79962222531899888473472249</td>\n",
       "      <td>0E-26</td>\n",
       "    </tr>\n",
       "    <tr>\n",
       "      <th>48</th>\n",
       "      <td>2400</td>\n",
       "      <td>30.79962222531899888473472249</td>\n",
       "      <td>0E-26</td>\n",
       "    </tr>\n",
       "    <tr>\n",
       "      <th>49</th>\n",
       "      <td>2450</td>\n",
       "      <td>30.79962222531899888473472249</td>\n",
       "      <td>0E-26</td>\n",
       "    </tr>\n",
       "    <tr>\n",
       "      <th>50</th>\n",
       "      <td>2500</td>\n",
       "      <td>30.79962222531899888473472249</td>\n",
       "      <td>0E-26</td>\n",
       "    </tr>\n",
       "    <tr>\n",
       "      <th>51</th>\n",
       "      <td>2550</td>\n",
       "      <td>30.79962222531899888473472249</td>\n",
       "      <td>0E-26</td>\n",
       "    </tr>\n",
       "    <tr>\n",
       "      <th>52</th>\n",
       "      <td>2600</td>\n",
       "      <td>30.79962222531899888473472249</td>\n",
       "      <td>0E-26</td>\n",
       "    </tr>\n",
       "    <tr>\n",
       "      <th>53</th>\n",
       "      <td>2650</td>\n",
       "      <td>30.79962222531899888473472249</td>\n",
       "      <td>0E-26</td>\n",
       "    </tr>\n",
       "    <tr>\n",
       "      <th>54</th>\n",
       "      <td>2700</td>\n",
       "      <td>30.79962222531899888473472249</td>\n",
       "      <td>0E-26</td>\n",
       "    </tr>\n",
       "    <tr>\n",
       "      <th>55</th>\n",
       "      <td>2750</td>\n",
       "      <td>30.79962222531899888473472249</td>\n",
       "      <td>0E-26</td>\n",
       "    </tr>\n",
       "    <tr>\n",
       "      <th>56</th>\n",
       "      <td>2800</td>\n",
       "      <td>30.79962222531899888473472249</td>\n",
       "      <td>0E-26</td>\n",
       "    </tr>\n",
       "    <tr>\n",
       "      <th>57</th>\n",
       "      <td>2850</td>\n",
       "      <td>30.79962222531899888473472249</td>\n",
       "      <td>0E-26</td>\n",
       "    </tr>\n",
       "    <tr>\n",
       "      <th>58</th>\n",
       "      <td>2900</td>\n",
       "      <td>30.79962222531899888473472249</td>\n",
       "      <td>0E-26</td>\n",
       "    </tr>\n",
       "    <tr>\n",
       "      <th>59</th>\n",
       "      <td>2950</td>\n",
       "      <td>30.79962222531899888473472249</td>\n",
       "      <td>0E-26</td>\n",
       "    </tr>\n",
       "  </tbody>\n",
       "</table>\n",
       "</div>"
      ],
      "text/plain": [
       "   collateral_token_price max_borrowings_to_be_liquidated  \\\n",
       "1                      50   126.3291518206379954255764719   \n",
       "2                     100   126.3291518206379954255764719   \n",
       "3                     150   126.3291518206379954255764719   \n",
       "4                     200   96.34772182063799651121471790   \n",
       "5                     250   96.34772182063799651121471790   \n",
       "6                     300   96.34772182063799651121471790   \n",
       "7                     350   96.34772182063799651121471790   \n",
       "8                     400   96.34772182063799651121471790   \n",
       "9                     450   96.34772182063799651121471790   \n",
       "10                    500   96.34772182063799651121471790   \n",
       "11                    550   96.34772182063799651121471790   \n",
       "12                    600   96.34772182063799651121471790   \n",
       "13                    650   96.34772182063799651121471790   \n",
       "14                    700   96.34772182063799651121471790   \n",
       "15                    750   96.34772182063799651121471790   \n",
       "16                    800   96.34772182063799651121471790   \n",
       "17                    850   96.34772182063799651121471790   \n",
       "18                    900   96.34772182063799651121471790   \n",
       "19                    950   96.34772182063799651121471790   \n",
       "20                   1000   66.36629182063799759685296387   \n",
       "21                   1050   66.36629182063799759685296387   \n",
       "22                   1100   66.36629182063799759685296387   \n",
       "23                   1150   66.36629182063799759685296387   \n",
       "24                   1200   66.36629182063799759685296387   \n",
       "25                   1250   66.36629182063799759685296387   \n",
       "26                   1300   66.36629182063799759685296387   \n",
       "27                   1350   66.36629182063799759685296387   \n",
       "28                   1400   66.36629182063799759685296387   \n",
       "29                   1450   66.36629182063799759685296387   \n",
       "30                   1500   66.36629182063799759685296387   \n",
       "31                   1550   30.79962222531899888473472249   \n",
       "32                   1600   30.79962222531899888473472249   \n",
       "33                   1650   30.79962222531899888473472249   \n",
       "34                   1700   30.79962222531899888473472249   \n",
       "35                   1750   30.79962222531899888473472249   \n",
       "36                   1800   30.79962222531899888473472249   \n",
       "37                   1850   30.79962222531899888473472249   \n",
       "38                   1900   30.79962222531899888473472249   \n",
       "39                   1950   30.79962222531899888473472249   \n",
       "40                   2000   30.79962222531899888473472249   \n",
       "41                   2050   30.79962222531899888473472249   \n",
       "42                   2100   30.79962222531899888473472249   \n",
       "43                   2150   30.79962222531899888473472249   \n",
       "44                   2200   30.79962222531899888473472249   \n",
       "45                   2250   30.79962222531899888473472249   \n",
       "46                   2300   30.79962222531899888473472249   \n",
       "47                   2350   30.79962222531899888473472249   \n",
       "48                   2400   30.79962222531899888473472249   \n",
       "49                   2450   30.79962222531899888473472249   \n",
       "50                   2500   30.79962222531899888473472249   \n",
       "51                   2550   30.79962222531899888473472249   \n",
       "52                   2600   30.79962222531899888473472249   \n",
       "53                   2650   30.79962222531899888473472249   \n",
       "54                   2700   30.79962222531899888473472249   \n",
       "55                   2750   30.79962222531899888473472249   \n",
       "56                   2800   30.79962222531899888473472249   \n",
       "57                   2850   30.79962222531899888473472249   \n",
       "58                   2900   30.79962222531899888473472249   \n",
       "59                   2950   30.79962222531899888473472249   \n",
       "\n",
       "   max_borrowings_to_be_liquidated_at_interval  \n",
       "1                                        0E-25  \n",
       "2                                        0E-25  \n",
       "3                                        0E-25  \n",
       "4                29.98142999999999891436175400  \n",
       "5                                        0E-26  \n",
       "6                                        0E-26  \n",
       "7                                        0E-26  \n",
       "8                                        0E-26  \n",
       "9                                        0E-26  \n",
       "10                                       0E-26  \n",
       "11                                       0E-26  \n",
       "12                                       0E-26  \n",
       "13                                       0E-26  \n",
       "14                                       0E-26  \n",
       "15                                       0E-26  \n",
       "16                                       0E-26  \n",
       "17                                       0E-26  \n",
       "18                                       0E-26  \n",
       "19                                       0E-26  \n",
       "20               29.98142999999999891436175403  \n",
       "21                                       0E-26  \n",
       "22                                       0E-26  \n",
       "23                                       0E-26  \n",
       "24                                       0E-26  \n",
       "25                                       0E-26  \n",
       "26                                       0E-26  \n",
       "27                                       0E-26  \n",
       "28                                       0E-26  \n",
       "29                                       0E-26  \n",
       "30                                       0E-26  \n",
       "31               35.56666959531899871211824138  \n",
       "32                                       0E-26  \n",
       "33                                       0E-26  \n",
       "34                                       0E-26  \n",
       "35                                       0E-26  \n",
       "36                                       0E-26  \n",
       "37                                       0E-26  \n",
       "38                                       0E-26  \n",
       "39                                       0E-26  \n",
       "40                                       0E-26  \n",
       "41                                       0E-26  \n",
       "42                                       0E-26  \n",
       "43                                       0E-26  \n",
       "44                                       0E-26  \n",
       "45                                       0E-26  \n",
       "46                                       0E-26  \n",
       "47                                       0E-26  \n",
       "48                                       0E-26  \n",
       "49                                       0E-26  \n",
       "50                                       0E-26  \n",
       "51                                       0E-26  \n",
       "52                                       0E-26  \n",
       "53                                       0E-26  \n",
       "54                                       0E-26  \n",
       "55                                       0E-26  \n",
       "56                                       0E-26  \n",
       "57                                       0E-26  \n",
       "58                                       0E-26  \n",
       "59                                       0E-26  "
      ]
     },
     "execution_count": 19,
     "metadata": {},
     "output_type": "execute_result"
    }
   ],
   "source": [
    "# TODO: adjust prices and observe the amounts\n",
    "import numpy\n",
    "\n",
    "\n",
    "COLLATERAL_TOKEN = 'ETH'\n",
    "BORROWINGS_TOKEN = 'USDT'\n",
    "\n",
    "\n",
    "def decimal_range(start: decimal.Decimal, stop: decimal.Decimal, step: decimal.Decimal):\n",
    "    while start < stop:\n",
    "        yield start\n",
    "        start += step\n",
    "\n",
    "\n",
    "data = pandas.DataFrame(\n",
    "    {\n",
    "        'collateral_token_price': [\n",
    "            x\n",
    "            for x\n",
    "            in decimal_range(\n",
    "                # TODO: make it dependent on the collateral token .. use prices.prices[COLLATERAL_TOKEN]\n",
    "                start = decimal.Decimal('0'),\n",
    "                stop = decimal.Decimal('3000'),\n",
    "                # TODO: make it dependent on the collateral token\n",
    "                step = decimal.Decimal('50'),\n",
    "            )\n",
    "        ]\n",
    "    },\n",
    ")\n",
    "data['max_borrowings_to_be_liquidated'] = \\\n",
    "    data['collateral_token_price'].apply(\n",
    "        lambda x: simulate_liquidations_under_absolute_price_change(\n",
    "            prices = prices,\n",
    "            collateral_token = COLLATERAL_TOKEN,\n",
    "            collateral_token_price = x,\n",
    "            state = state,\n",
    "            borrowings_token = BORROWINGS_TOKEN,\n",
    "        )\n",
    "    )\n",
    "\n",
    "data['max_borrowings_to_be_liquidated_at_interval'] = data['max_borrowings_to_be_liquidated'].diff().abs()\n",
    "# TODO: drops also other NaNs, if there are any\n",
    "data.dropna(inplace = True)\n",
    "# TODO: the numbers seem weird\n",
    "data"
   ]
  },
  {
   "cell_type": "code",
   "execution_count": 23,
   "id": "2d6a08db",
   "metadata": {},
   "outputs": [
    {
     "ename": "TypeError",
     "evalue": "get_amm_supply_at_price() got an unexpected keyword argument 'borrowings_token'",
     "output_type": "error",
     "traceback": [
      "\u001b[0;31m---------------------------------------------------------------------------\u001b[0m",
      "\u001b[0;31mTypeError\u001b[0m                                 Traceback (most recent call last)",
      "Cell \u001b[0;32mIn[23], line 18\u001b[0m\n\u001b[1;32m      6\u001b[0m \u001b[38;5;28;01mdef\u001b[39;00m \u001b[38;5;21mget_amm_supply_at_price\u001b[39m(\n\u001b[1;32m      7\u001b[0m     collateral_token: \u001b[38;5;28mstr\u001b[39m,\n\u001b[1;32m      8\u001b[0m     collateral_token_price: decimal\u001b[38;5;241m.\u001b[39mDecimal,\n\u001b[1;32m      9\u001b[0m     debt_token: \u001b[38;5;28mstr\u001b[39m,\n\u001b[1;32m     10\u001b[0m     amm: src\u001b[38;5;241m.\u001b[39mswap_liquidity\u001b[38;5;241m.\u001b[39mSwapAmm,\n\u001b[1;32m     11\u001b[0m ) \u001b[38;5;241m-\u001b[39m\u001b[38;5;241m>\u001b[39m decimal\u001b[38;5;241m.\u001b[39mDecimal:\n\u001b[1;32m     12\u001b[0m     \u001b[38;5;28;01mreturn\u001b[39;00m amm\u001b[38;5;241m.\u001b[39mget_pool(collateral_token, debt_token)\u001b[38;5;241m.\u001b[39msupply_at_price(\n\u001b[1;32m     13\u001b[0m         debt_token, collateral_token_price\n\u001b[1;32m     14\u001b[0m     )\n\u001b[1;32m     17\u001b[0m data[\u001b[38;5;124m'\u001b[39m\u001b[38;5;124mamm_borrowings_token_supply\u001b[39m\u001b[38;5;124m'\u001b[39m] \u001b[38;5;241m=\u001b[39m \\\n\u001b[0;32m---> 18\u001b[0m     \u001b[43mdata\u001b[49m\u001b[43m[\u001b[49m\u001b[38;5;124;43m'\u001b[39;49m\u001b[38;5;124;43mcollateral_token_price\u001b[39;49m\u001b[38;5;124;43m'\u001b[39;49m\u001b[43m]\u001b[49m\u001b[38;5;241;43m.\u001b[39;49m\u001b[43mapply\u001b[49m\u001b[43m(\u001b[49m\n\u001b[1;32m     19\u001b[0m \u001b[43m        \u001b[49m\u001b[38;5;28;43;01mlambda\u001b[39;49;00m\u001b[43m \u001b[49m\u001b[43mx\u001b[49m\u001b[43m:\u001b[49m\u001b[43m \u001b[49m\u001b[43mget_amm_supply_at_price\u001b[49m\u001b[43m(\u001b[49m\n\u001b[1;32m     20\u001b[0m \u001b[43m            \u001b[49m\u001b[43mcollateral_token\u001b[49m\u001b[43m \u001b[49m\u001b[38;5;241;43m=\u001b[39;49m\u001b[43m \u001b[49m\u001b[43mCOLLATERAL_TOKEN\u001b[49m\u001b[43m,\u001b[49m\n\u001b[1;32m     21\u001b[0m \u001b[43m            \u001b[49m\u001b[43mcollateral_token_price\u001b[49m\u001b[43m \u001b[49m\u001b[38;5;241;43m=\u001b[39;49m\u001b[43m \u001b[49m\u001b[43mx\u001b[49m\u001b[43m,\u001b[49m\n\u001b[1;32m     22\u001b[0m \u001b[43m            \u001b[49m\u001b[43mborrowings_token\u001b[49m\u001b[43m \u001b[49m\u001b[38;5;241;43m=\u001b[39;49m\u001b[43m \u001b[49m\u001b[43mBORROWINGS_TOKEN\u001b[49m\u001b[43m,\u001b[49m\n\u001b[1;32m     23\u001b[0m \u001b[43m            \u001b[49m\u001b[43mamm\u001b[49m\u001b[38;5;241;43m=\u001b[39;49m\u001b[43mswap_amms\u001b[49m\u001b[43m,\u001b[49m\n\u001b[1;32m     24\u001b[0m \u001b[43m        \u001b[49m\u001b[43m)\u001b[49m\n\u001b[1;32m     25\u001b[0m \u001b[43m    \u001b[49m\u001b[43m)\u001b[49m\n\u001b[1;32m     26\u001b[0m data\n",
      "File \u001b[0;32m~/.local/lib/python3.9/site-packages/pandas/core/series.py:4630\u001b[0m, in \u001b[0;36mSeries.apply\u001b[0;34m(self, func, convert_dtype, args, **kwargs)\u001b[0m\n\u001b[1;32m   4520\u001b[0m \u001b[38;5;28;01mdef\u001b[39;00m \u001b[38;5;21mapply\u001b[39m(\n\u001b[1;32m   4521\u001b[0m     \u001b[38;5;28mself\u001b[39m,\n\u001b[1;32m   4522\u001b[0m     func: AggFuncType,\n\u001b[0;32m   (...)\u001b[0m\n\u001b[1;32m   4525\u001b[0m     \u001b[38;5;241m*\u001b[39m\u001b[38;5;241m*\u001b[39mkwargs,\n\u001b[1;32m   4526\u001b[0m ) \u001b[38;5;241m-\u001b[39m\u001b[38;5;241m>\u001b[39m DataFrame \u001b[38;5;241m|\u001b[39m Series:\n\u001b[1;32m   4527\u001b[0m \u001b[38;5;250m    \u001b[39m\u001b[38;5;124;03m\"\"\"\u001b[39;00m\n\u001b[1;32m   4528\u001b[0m \u001b[38;5;124;03m    Invoke function on values of Series.\u001b[39;00m\n\u001b[1;32m   4529\u001b[0m \n\u001b[0;32m   (...)\u001b[0m\n\u001b[1;32m   4628\u001b[0m \u001b[38;5;124;03m    dtype: float64\u001b[39;00m\n\u001b[1;32m   4629\u001b[0m \u001b[38;5;124;03m    \"\"\"\u001b[39;00m\n\u001b[0;32m-> 4630\u001b[0m     \u001b[38;5;28;01mreturn\u001b[39;00m \u001b[43mSeriesApply\u001b[49m\u001b[43m(\u001b[49m\u001b[38;5;28;43mself\u001b[39;49m\u001b[43m,\u001b[49m\u001b[43m \u001b[49m\u001b[43mfunc\u001b[49m\u001b[43m,\u001b[49m\u001b[43m \u001b[49m\u001b[43mconvert_dtype\u001b[49m\u001b[43m,\u001b[49m\u001b[43m \u001b[49m\u001b[43margs\u001b[49m\u001b[43m,\u001b[49m\u001b[43m \u001b[49m\u001b[43mkwargs\u001b[49m\u001b[43m)\u001b[49m\u001b[38;5;241;43m.\u001b[39;49m\u001b[43mapply\u001b[49m\u001b[43m(\u001b[49m\u001b[43m)\u001b[49m\n",
      "File \u001b[0;32m~/.local/lib/python3.9/site-packages/pandas/core/apply.py:1025\u001b[0m, in \u001b[0;36mSeriesApply.apply\u001b[0;34m(self)\u001b[0m\n\u001b[1;32m   1022\u001b[0m     \u001b[38;5;28;01mreturn\u001b[39;00m \u001b[38;5;28mself\u001b[39m\u001b[38;5;241m.\u001b[39mapply_str()\n\u001b[1;32m   1024\u001b[0m \u001b[38;5;66;03m# self.f is Callable\u001b[39;00m\n\u001b[0;32m-> 1025\u001b[0m \u001b[38;5;28;01mreturn\u001b[39;00m \u001b[38;5;28;43mself\u001b[39;49m\u001b[38;5;241;43m.\u001b[39;49m\u001b[43mapply_standard\u001b[49m\u001b[43m(\u001b[49m\u001b[43m)\u001b[49m\n",
      "File \u001b[0;32m~/.local/lib/python3.9/site-packages/pandas/core/apply.py:1076\u001b[0m, in \u001b[0;36mSeriesApply.apply_standard\u001b[0;34m(self)\u001b[0m\n\u001b[1;32m   1074\u001b[0m     \u001b[38;5;28;01melse\u001b[39;00m:\n\u001b[1;32m   1075\u001b[0m         values \u001b[38;5;241m=\u001b[39m obj\u001b[38;5;241m.\u001b[39mastype(\u001b[38;5;28mobject\u001b[39m)\u001b[38;5;241m.\u001b[39m_values\n\u001b[0;32m-> 1076\u001b[0m         mapped \u001b[38;5;241m=\u001b[39m \u001b[43mlib\u001b[49m\u001b[38;5;241;43m.\u001b[39;49m\u001b[43mmap_infer\u001b[49m\u001b[43m(\u001b[49m\n\u001b[1;32m   1077\u001b[0m \u001b[43m            \u001b[49m\u001b[43mvalues\u001b[49m\u001b[43m,\u001b[49m\n\u001b[1;32m   1078\u001b[0m \u001b[43m            \u001b[49m\u001b[43mf\u001b[49m\u001b[43m,\u001b[49m\n\u001b[1;32m   1079\u001b[0m \u001b[43m            \u001b[49m\u001b[43mconvert\u001b[49m\u001b[38;5;241;43m=\u001b[39;49m\u001b[38;5;28;43mself\u001b[39;49m\u001b[38;5;241;43m.\u001b[39;49m\u001b[43mconvert_dtype\u001b[49m\u001b[43m,\u001b[49m\n\u001b[1;32m   1080\u001b[0m \u001b[43m        \u001b[49m\u001b[43m)\u001b[49m\n\u001b[1;32m   1082\u001b[0m \u001b[38;5;28;01mif\u001b[39;00m \u001b[38;5;28mlen\u001b[39m(mapped) \u001b[38;5;129;01mand\u001b[39;00m \u001b[38;5;28misinstance\u001b[39m(mapped[\u001b[38;5;241m0\u001b[39m], ABCSeries):\n\u001b[1;32m   1083\u001b[0m     \u001b[38;5;66;03m# GH#43986 Need to do list(mapped) in order to get treated as nested\u001b[39;00m\n\u001b[1;32m   1084\u001b[0m     \u001b[38;5;66;03m#  See also GH#25959 regarding EA support\u001b[39;00m\n\u001b[1;32m   1085\u001b[0m     \u001b[38;5;28;01mreturn\u001b[39;00m obj\u001b[38;5;241m.\u001b[39m_constructor_expanddim(\u001b[38;5;28mlist\u001b[39m(mapped), index\u001b[38;5;241m=\u001b[39mobj\u001b[38;5;241m.\u001b[39mindex)\n",
      "File \u001b[0;32m~/.local/lib/python3.9/site-packages/pandas/_libs/lib.pyx:2834\u001b[0m, in \u001b[0;36mpandas._libs.lib.map_infer\u001b[0;34m()\u001b[0m\n",
      "Cell \u001b[0;32mIn[23], line 19\u001b[0m, in \u001b[0;36m<lambda>\u001b[0;34m(x)\u001b[0m\n\u001b[1;32m      6\u001b[0m \u001b[38;5;28;01mdef\u001b[39;00m \u001b[38;5;21mget_amm_supply_at_price\u001b[39m(\n\u001b[1;32m      7\u001b[0m     collateral_token: \u001b[38;5;28mstr\u001b[39m,\n\u001b[1;32m      8\u001b[0m     collateral_token_price: decimal\u001b[38;5;241m.\u001b[39mDecimal,\n\u001b[1;32m      9\u001b[0m     debt_token: \u001b[38;5;28mstr\u001b[39m,\n\u001b[1;32m     10\u001b[0m     amm: src\u001b[38;5;241m.\u001b[39mswap_liquidity\u001b[38;5;241m.\u001b[39mSwapAmm,\n\u001b[1;32m     11\u001b[0m ) \u001b[38;5;241m-\u001b[39m\u001b[38;5;241m>\u001b[39m decimal\u001b[38;5;241m.\u001b[39mDecimal:\n\u001b[1;32m     12\u001b[0m     \u001b[38;5;28;01mreturn\u001b[39;00m amm\u001b[38;5;241m.\u001b[39mget_pool(collateral_token, debt_token)\u001b[38;5;241m.\u001b[39msupply_at_price(\n\u001b[1;32m     13\u001b[0m         debt_token, collateral_token_price\n\u001b[1;32m     14\u001b[0m     )\n\u001b[1;32m     17\u001b[0m data[\u001b[38;5;124m'\u001b[39m\u001b[38;5;124mamm_borrowings_token_supply\u001b[39m\u001b[38;5;124m'\u001b[39m] \u001b[38;5;241m=\u001b[39m \\\n\u001b[1;32m     18\u001b[0m     data[\u001b[38;5;124m'\u001b[39m\u001b[38;5;124mcollateral_token_price\u001b[39m\u001b[38;5;124m'\u001b[39m]\u001b[38;5;241m.\u001b[39mapply(\n\u001b[0;32m---> 19\u001b[0m         \u001b[38;5;28;01mlambda\u001b[39;00m x: get_amm_supply_at_price(\n\u001b[1;32m     20\u001b[0m             collateral_token \u001b[38;5;241m=\u001b[39m COLLATERAL_TOKEN,\n\u001b[1;32m     21\u001b[0m             collateral_token_price \u001b[38;5;241m=\u001b[39m x,\n\u001b[1;32m     22\u001b[0m             borrowings_token \u001b[38;5;241m=\u001b[39m BORROWINGS_TOKEN,\n\u001b[1;32m     23\u001b[0m             amm\u001b[38;5;241m=\u001b[39mswap_amms,\n\u001b[1;32m     24\u001b[0m         )\n\u001b[1;32m     25\u001b[0m     )\n\u001b[1;32m     26\u001b[0m data\n",
      "\u001b[0;31mTypeError\u001b[0m: get_amm_supply_at_price() got an unexpected keyword argument 'borrowings_token'"
     ]
    }
   ],
   "source": [
    "# Setup the AMM.\n",
    "swap_amms = await src.swap_liquidity.SwapAmm().init()\n",
    "\n",
    "\n",
    "# TODO: this function is general for all protocols\n",
    "def get_amm_supply_at_price(\n",
    "    collateral_token: str,\n",
    "    collateral_token_price: decimal.Decimal,\n",
    "    debt_token: str,\n",
    "    amm: src.swap_liquidity.SwapAmm,\n",
    ") -> decimal.Decimal:\n",
    "    return amm.get_pool(collateral_token, debt_token).supply_at_price(\n",
    "        debt_token, collateral_token_price\n",
    "    )\n",
    "\n",
    "\n",
    "data['amm_borrowings_token_supply'] = \\\n",
    "    data['collateral_token_price'].apply(\n",
    "        lambda x: get_amm_supply_at_price(\n",
    "            collateral_token = COLLATERAL_TOKEN,\n",
    "            collateral_token_price = x,\n",
    "            borrowings_token = BORROWINGS_TOKEN,\n",
    "            amm=swap_amms,\n",
    "        )\n",
    "    )\n",
    "data"
   ]
  },
  {
   "cell_type": "markdown",
   "id": "f736a120",
   "metadata": {},
   "source": [
    "## Plot the liquidated and supply amounts"
   ]
  },
  {
   "cell_type": "code",
   "execution_count": null,
   "id": "a165e665",
   "metadata": {},
   "outputs": [],
   "source": [
    "import plotly.express\n",
    "\n",
    "\n",
    "figure = plotly.express.bar(\n",
    "    data.astype(float),\n",
    "    x = 'collateral_token_price',\n",
    "    y = ['max_borrowings_to_be_liquidated_at_interval', 'amm_borrowings_token_supply'],\n",
    "    title = f'Potentially liquidatable amounts of {BORROWINGS_TOKEN} and the corresponding supply',\n",
    "    barmode = 'overlay',\n",
    "    opacity = 0.65,\n",
    ")\n",
    "figure.show()"
   ]
  },
  {
   "cell_type": "code",
   "execution_count": null,
   "id": "cdc0fb6c",
   "metadata": {},
   "outputs": [],
   "source": []
  }
 ],
 "metadata": {
  "kernelspec": {
   "display_name": "Python 3 (ipykernel)",
   "language": "python",
   "name": "python3"
  },
  "language_info": {
   "codemirror_mode": {
    "name": "ipython",
    "version": 3
   },
   "file_extension": ".py",
   "mimetype": "text/x-python",
   "name": "python",
   "nbconvert_exporter": "python",
   "pygments_lexer": "ipython3",
   "version": "3.9.2"
  }
 },
 "nbformat": 4,
 "nbformat_minor": 5
}
