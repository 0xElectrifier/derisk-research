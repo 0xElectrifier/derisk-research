{
 "cells": [
  {
   "cell_type": "markdown",
   "id": "79e6dcb2",
   "metadata": {},
   "source": [
    "# Hashstack V0\n",
    "\n",
    "This notebook processes Hashstack V0 events to get to the current state of all their loans. The data is then use to \n",
    "produce the main chart - liquidable debt vs. available supply."
   ]
  },
  {
   "cell_type": "code",
   "execution_count": 1,
   "id": "e6a89c81",
   "metadata": {},
   "outputs": [
    {
     "ename": "ModuleNotFoundError",
     "evalue": "No module named 'hashstack_v0'",
     "output_type": "error",
     "traceback": [
      "\u001b[0;31m---------------------------------------------------------------------------\u001b[0m",
      "\u001b[0;31mModuleNotFoundError\u001b[0m                       Traceback (most recent call last)",
      "Cell \u001b[0;32mIn[1], line 7\u001b[0m\n\u001b[1;32m      4\u001b[0m sys\u001b[38;5;241m.\u001b[39mpath\u001b[38;5;241m.\u001b[39mappend(\u001b[38;5;124m'\u001b[39m\u001b[38;5;124m..\u001b[39m\u001b[38;5;124m'\u001b[39m)\n\u001b[1;32m      6\u001b[0m \u001b[38;5;28;01mimport\u001b[39;00m \u001b[38;5;21;01msrc\u001b[39;00m\u001b[38;5;21;01m.\u001b[39;00m\u001b[38;5;21;01mhashstack_v0\u001b[39;00m\n\u001b[0;32m----> 7\u001b[0m \u001b[38;5;28;01mimport\u001b[39;00m \u001b[38;5;21;01msrc\u001b[39;00m\u001b[38;5;21;01m.\u001b[39;00m\u001b[38;5;21;01mmain_chart\u001b[39;00m\n\u001b[1;32m      8\u001b[0m \u001b[38;5;28;01mimport\u001b[39;00m \u001b[38;5;21;01msrc\u001b[39;00m\u001b[38;5;21;01m.\u001b[39;00m\u001b[38;5;21;01mswap_amm\u001b[39;00m\n\u001b[1;32m     11\u001b[0m logging\u001b[38;5;241m.\u001b[39mbasicConfig(level\u001b[38;5;241m=\u001b[39mlogging\u001b[38;5;241m.\u001b[39mINFO)\n",
      "File \u001b[0;32m~/derisk-research/src/main_chart.py:9\u001b[0m\n\u001b[1;32m      6\u001b[0m \u001b[38;5;28;01mimport\u001b[39;00m \u001b[38;5;21;01mplotly\u001b[39;00m\u001b[38;5;21;01m.\u001b[39;00m\u001b[38;5;21;01mgraph_objs\u001b[39;00m\n\u001b[1;32m      8\u001b[0m \u001b[38;5;28;01mimport\u001b[39;00m \u001b[38;5;21;01msrc\u001b[39;00m\u001b[38;5;21;01m.\u001b[39;00m\u001b[38;5;21;01mhelpers\u001b[39;00m\n\u001b[0;32m----> 9\u001b[0m \u001b[38;5;28;01mimport\u001b[39;00m \u001b[38;5;21;01msrc\u001b[39;00m\u001b[38;5;21;01m.\u001b[39;00m\u001b[38;5;21;01mprotocol_parameters\u001b[39;00m\n\u001b[1;32m     10\u001b[0m \u001b[38;5;28;01mimport\u001b[39;00m \u001b[38;5;21;01msrc\u001b[39;00m\u001b[38;5;21;01m.\u001b[39;00m\u001b[38;5;21;01mstate\u001b[39;00m\n\u001b[1;32m     11\u001b[0m \u001b[38;5;28;01mimport\u001b[39;00m \u001b[38;5;21;01msrc\u001b[39;00m\u001b[38;5;21;01m.\u001b[39;00m\u001b[38;5;21;01mswap_amm\u001b[39;00m\n",
      "File \u001b[0;32m~/derisk-research/src/protocol_parameters.py:1\u001b[0m\n\u001b[0;32m----> 1\u001b[0m \u001b[38;5;28;01mimport\u001b[39;00m \u001b[38;5;21;01mhashstack_v0\u001b[39;00m\n\u001b[1;32m      2\u001b[0m \u001b[38;5;28;01mimport\u001b[39;00m \u001b[38;5;21;01msrc\u001b[39;00m\u001b[38;5;21;01m.\u001b[39;00m\u001b[38;5;21;01mnostra_alpha\u001b[39;00m\n\u001b[1;32m      3\u001b[0m \u001b[38;5;28;01mimport\u001b[39;00m \u001b[38;5;21;01msrc\u001b[39;00m\u001b[38;5;21;01m.\u001b[39;00m\u001b[38;5;21;01mnostra_mainnet\u001b[39;00m\n",
      "\u001b[0;31mModuleNotFoundError\u001b[0m: No module named 'hashstack_v0'"
     ]
    }
   ],
   "source": [
    "import logging\n",
    "import sys\n",
    "\n",
    "sys.path.append('..')\n",
    "\n",
    "import src.hashstack_v0\n",
    "import src.main_chart\n",
    "import src.swap_amm\n",
    "\n",
    "\n",
    "logging.basicConfig(level=logging.INFO)"
   ]
  },
  {
   "cell_type": "code",
   "execution_count": null,
   "id": "1c48224b",
   "metadata": {},
   "outputs": [],
   "source": [
    "COLLATERAL_TOKEN = 'ETH'\n",
    "DEBT_TOKEN = 'USDC'"
   ]
  },
  {
   "cell_type": "markdown",
   "id": "a0023a62",
   "metadata": {},
   "source": [
    "## Prepare events"
   ]
  },
  {
   "cell_type": "code",
   "execution_count": null,
   "id": "9eb8b782",
   "metadata": {},
   "outputs": [],
   "source": [
    "events = src.hashstack_v0.get_events()"
   ]
  },
  {
   "cell_type": "markdown",
   "id": "050eb37d",
   "metadata": {},
   "source": [
    "## Process events"
   ]
  },
  {
   "cell_type": "code",
   "execution_count": null,
   "id": "afc0ec36",
   "metadata": {},
   "outputs": [],
   "source": [
    "# Iterate over ordered events to obtain the final state of each user.\n",
    "state = src.hashstack_v0.HashstackV0State(\n",
    "    verbose_user='0x19629f075c1223d6f11a4428e9977a754dea1a8a789250b0879b2526a8840db',\n",
    ")\n",
    "for _, event in events.iterrows():\n",
    "    state.process_event(event=event)"
   ]
  },
  {
   "cell_type": "markdown",
   "id": "d1c00ee1",
   "metadata": {},
   "source": [
    "## Compute liquidable debt and available supply at various prices"
   ]
  },
  {
   "cell_type": "code",
   "execution_count": null,
   "id": "9c2ff7ad",
   "metadata": {},
   "outputs": [],
   "source": [
    "prices = src.swap_amm.Prices()\n",
    "swap_amms = src.swap_amm.SwapAmm()\n",
    "await swap_amms.init()\n",
    "main_chart_data = src.main_chart.get_main_chart_data(\n",
    "    state=state,\n",
    "    prices=prices.prices,\n",
    "    swap_amms=swap_amms,\n",
    "    collateral_token=COLLATERAL_TOKEN,\n",
    "    debt_token=DEBT_TOKEN,\n",
    ")"
   ]
  },
  {
   "cell_type": "markdown",
   "id": "f736a120",
   "metadata": {},
   "source": [
    "## Plot the liquidable debt against the available supply"
   ]
  },
  {
   "cell_type": "code",
   "execution_count": null,
   "id": "6ab67aec",
   "metadata": {
    "scrolled": false
   },
   "outputs": [],
   "source": [
    "src.main_chart.get_main_chart_figure(\n",
    "    data=main_chart_data.astype(float),\n",
    "    collateral_token=COLLATERAL_TOKEN,\n",
    "    debt_token=DEBT_TOKEN,\n",
    ")"
   ]
  },
  {
   "cell_type": "code",
   "execution_count": null,
   "id": "4d65fce3",
   "metadata": {},
   "outputs": [],
   "source": [
    "# # TODO: check selected user\n",
    "# import src.settings\n",
    "# USER = '0x38f554f6c5d0baa4088890bc00c9af2bfb0e80227e560443e3950805f57f54a'\n",
    "# for token in src.settings.TOKEN_DECIMAL_FACTORS:\n",
    "#     print(token, 'deposit', state.loan_entities[USER].deposit.values[token])\n",
    "#     print(token, 'collateral', state.loan_entities[USER].collateral.values[token])\n",
    "#     print(token, 'debt', state.loan_entities[USER].debt.values[token])"
   ]
  },
  {
   "cell_type": "code",
   "execution_count": null,
   "id": "6044a234",
   "metadata": {},
   "outputs": [],
   "source": [
    "# # TODO: negative balances?\n",
    "# for attr in ['collateral', 'debt']:\n",
    "#     for token in ['ETH', 'wBTC', 'USDC', 'DAI', 'USDT', 'wstETH']:\n",
    "#         values = [(user, getattr(user_state, attr).values[token]) for user, user_state in state.loan_entities.items()]\n",
    "#         min_value = min([x[1] for x in values])\n",
    "#         min_value_user = [x[0] for x in values if min_value == x[1]][0]\n",
    "#         print(\n",
    "#             min_value_user,\n",
    "#             attr,\n",
    "#             token,\n",
    "#             min_value,\n",
    "#             round(prices.to_dollars(min_value, token), 2),\n",
    "#         )"
   ]
  },
  {
   "cell_type": "code",
   "execution_count": null,
   "id": "3161f462",
   "metadata": {},
   "outputs": [],
   "source": [
    "# # TODO: check suspicious health factors\n",
    "# for loan_entity_id, loan_entity in state.loan_entities.items():\n",
    "#     health_factor = loan_entity.compute_health_factor(prices=prices.prices)\n",
    "#     if 0 < health_factor < 0.7:\n",
    "#         print(loan_entity_id, health_factor)"
   ]
  }
 ],
 "metadata": {
  "kernelspec": {
   "display_name": "Python 3 (ipykernel)",
   "language": "python",
   "name": "python3"
  },
  "language_info": {
   "codemirror_mode": {
    "name": "ipython",
    "version": 3
   },
   "file_extension": ".py",
   "mimetype": "text/x-python",
   "name": "python",
   "nbconvert_exporter": "python",
   "pygments_lexer": "ipython3",
   "version": "3.9.2"
  }
 },
 "nbformat": 4,
 "nbformat_minor": 5
}
